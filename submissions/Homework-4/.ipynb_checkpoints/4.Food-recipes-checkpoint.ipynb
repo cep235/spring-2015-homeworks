{
 "metadata": {
  "name": "",
  "signature": "sha256:c628df47c860dc53024753b98c2a6ad228be0787fbf355844bd591d5e6b3ff86"
 },
 "nbformat": 3,
 "nbformat_minor": 0,
 "worksheets": [
  {
   "cells": [
    {
     "cell_type": "markdown",
     "metadata": {},
     "source": [
      "(In order to load the stylesheet of this notebook, execute the last code cell in this notebook)"
     ]
    },
    {
     "cell_type": "heading",
     "level": 1,
     "metadata": {},
     "source": [
      "Clustering food recipes from around the world"
     ]
    },
    {
     "cell_type": "markdown",
     "metadata": {},
     "source": [
      "In this assignment, you are expected to hierarchically cluster food recipes. We will be using YY Ahn's dataset \"[Recipe datasets with cuisines](http://yongyeol.com/data/scirep-cuisines-detail.zip)\", which for each recipe provides a list of ingredients and the country of origin, scraped from popular recipe websites. He also provides an [ingredient and compounds dataset](http://yongyeol.com/data/ingr_comp.zip), which you could potentially also make use of, if you find it interesting.\n",
      "\n",
      "You will be graded as follow:\n",
      "* Data parsing and representation **(20 pts)**\n",
      "* Clustering **(30 pts)**\n",
      "* Visualization **(30 pts)**\n",
      "* Short (datailed) analysis of specific cluster **(20 pts)**\n",
      "\n",
      "---------------------------"
     ]
    },
    {
     "cell_type": "code",
     "collapsed": false,
     "input": [
      "import numpy as np\n",
      "import scipy.cluster.hierarchy as hr\n",
      "import matplotlib.pyplot as plt\n",
      "import matplotlib as mpl\n",
      "import pandas as pd\n",
      "from sklearn.preprocessing import LabelEncoder\n",
      "import seaborn as sns\n",
      "import sklearn.metrics as metrics\n",
      "from scipy.spatial.distance import pdist\n",
      "\n",
      "%matplotlib inline"
     ],
     "language": "python",
     "metadata": {},
     "outputs": [],
     "prompt_number": 1
    },
    {
     "cell_type": "heading",
     "level": 2,
     "metadata": {},
     "source": [
      "0. Hypothesis"
     ]
    },
    {
     "cell_type": "markdown",
     "metadata": {},
     "source": [
      "I am mainly interested in seeing if we can cluster counries together based on their ingredients. More specifically, can we determine the similiarity between two ethnic cuisines based on ingredients alone, or is there more information needed? (e.g., Is Japanese cuisine similar to Malaysian cuisine? What about Canadian and French cuisines?) "
     ]
    },
    {
     "cell_type": "heading",
     "level": 2,
     "metadata": {},
     "source": [
      "1. Loading and Parsing the Datasets"
     ]
    },
    {
     "cell_type": "markdown",
     "metadata": {},
     "source": [
      "The main datasets we're interested in are `all_r_recipes.txt`, `epic_recipes.txt`, and `menu_recipes.txt`. Each one of these files contains lists of recipes and the countries those recipes belong to. However, we're also interested in `map.txt`, which categorizes each country by continents. However, we won't open up `map.txt` until later."
     ]
    },
    {
     "cell_type": "code",
     "collapsed": false,
     "input": [
      "all_recipes = open('scirep-cuisines-detail/allr_recipes.txt', 'r')  #AllRecipes.com\n",
      "epic_recipes = open('scirep-cuisines-detail/epic_recipes.txt', 'r') #Epicurious.com\n",
      "menu_recipes = open('scirep-cuisines-detail/menu_recipes.txt', 'r') #menupan.com"
     ],
     "language": "python",
     "metadata": {},
     "outputs": [],
     "prompt_number": 2
    },
    {
     "cell_type": "markdown",
     "metadata": {},
     "source": [
      "Now that we've loaded the dataset, we can iterate thorugh it line by line. Let's look at 5 lines of data from the Epicurious dataset:"
     ]
    },
    {
     "cell_type": "code",
     "collapsed": false,
     "input": [
      "count = 0;\n",
      "for line in epic_recipes:\n",
      "    print line\n",
      "    if (count == 5):\n",
      "        break\n",
      "    count+=1"
     ],
     "language": "python",
     "metadata": {},
     "outputs": [
      {
       "output_type": "stream",
       "stream": "stdout",
       "text": [
        "Vietnamese\tvinegar\tcilantro\tmint\tolive_oil\tcayenne\tfish\tlime_juice\tshrimp\tlettuce\tcarrot\tgarlic\tbasil\tcucumber\trice\tseed\tshiitake\n",
        "\n",
        "Vietnamese\tonion\tcayenne\tfish\tblack_pepper\tseed\tgarlic\n",
        "\n",
        "Vietnamese\tgarlic\tsoy_sauce\tlime_juice\tthai_pepper\n",
        "\n",
        "Vietnamese\tcilantro\tshallot\tlime_juice\tfish\tcayenne\tginger\tpea\tbean\tbasil\tvegetable_oil\tbeef_broth\trice\tmint\troasted_beef\tlime\n",
        "\n",
        "Vietnamese\tcoriander\tvinegar\tlemon\tlime_juice\tfish\tcayenne\tscallion\tcucumber\tpeanut\tgarlic\trice\tmint\tshrimp\n",
        "\n",
        "Vietnamese\tcoriander\tlemongrass\tsesame_oil\tbeef\troot\tfish\tcucumber\tvegetable_oil\tbasil\tgarlic\trice\tmint\tsoy_sauce\tlime\n",
        "\n"
       ]
      }
     ],
     "prompt_number": 3
    },
    {
     "cell_type": "heading",
     "level": 6,
     "metadata": {},
     "source": [
      "...and AllRecipes's dataset:"
     ]
    },
    {
     "cell_type": "code",
     "collapsed": false,
     "input": [
      "count = 0;\n",
      "for line in all_recipes:\n",
      "    print line\n",
      "    if (count == 5):\n",
      "        break\n",
      "    count+=1"
     ],
     "language": "python",
     "metadata": {},
     "outputs": [
      {
       "output_type": "stream",
       "stream": "stdout",
       "text": [
        "Canada\tegg\tyeast\twheat\tmilk\tlard\n",
        "\n",
        "Canada\tpork\tcarrot\tpea\tonion\tpotato\n",
        "\n",
        "Canada\tmaple_syrup\n",
        "\n",
        "Canada\twheat\tyeast\talmond\thoney\toat\tdate\tvegetable_oil\twhole_grain_wheat_flour\n",
        "\n",
        "Canada\tbutter\tlovage\tclam\twheat\tonion\tthyme\tpotato\tyeast\tblack_pepper\tparsley\tginger\tbay\tcelery\tcinnamon\tmilk\tmustard\n",
        "\n",
        "Canada\tcane_molasses\tbutter\twheat\traisin\tginger\tlard\tegg\tmilk\tcream\n",
        "\n"
       ]
      }
     ],
     "prompt_number": 4
    },
    {
     "cell_type": "heading",
     "level": 6,
     "metadata": {},
     "source": [
      "and finally, Menupan's dataset:"
     ]
    },
    {
     "cell_type": "code",
     "collapsed": false,
     "input": [
      "count = 0;\n",
      "for line in menu_recipes:\n",
      "    print line\n",
      "    if (count == 5):\n",
      "        break\n",
      "    count+=1"
     ],
     "language": "python",
     "metadata": {},
     "outputs": [
      {
       "output_type": "stream",
       "stream": "stdout",
       "text": [
        "chinese\tonion\tbeef\tstarch\tsake\tsoy_sauce\tscallion\tlettuce\tgarlic\tvegetable_oil\tbeef_broth\toyster\tsesame_oil\n",
        "\n",
        "chinese\tpork\tonion\tblack_pepper\tcayenne\tscallion\tbean\tgarlic\tvegetable\n",
        "\n",
        "chinese\ttomato\tvinegar\tcelery_oil\tonion\tcorn\tcayenne\tginger\tshrimp\tscallop\tgarlic\tbell_pepper\tvegetable_oil\tsoy_sauce\n",
        "\n",
        "chinese\twheat\tsesame_oil\tstarch\tsake\tsoy_sauce\tcayenne\tginger\tscallion\tgarlic\tbell_pepper\tvegetable_oil\tbeef_broth\tshiitake\tegg\tchicken\n",
        "\n",
        "chinese\tonion\tstarch\tblack_bean\tblack_pepper\tsoy_sauce\tcayenne\tginger\tshrimp\tgarlic\tbell_pepper\tmussel\tvegetable_oil\tbeef_broth\toctopus\toyster\n",
        "\n",
        "chinese\tbeef_broth\tsesame_oil\tmushroom\tstarch\tsake\tshiitake\tcayenne\tginger\tscallion\tbean\tgarlic\tbell_pepper\tvegetable\tvegetable_oil\tchicken\tegg\tsoy_sauce\n",
        "\n"
       ]
      }
     ],
     "prompt_number": 5
    },
    {
     "cell_type": "markdown",
     "metadata": {},
     "source": [
      "We can see that all of the datasets are formatted in the same way: In each line we have a country name, followed by a list of ingredients."
     ]
    },
    {
     "cell_type": "heading",
     "level": 3,
     "metadata": {},
     "source": [
      "A. Parse the data to find a list of ingredients used for each country"
     ]
    },
    {
     "cell_type": "markdown",
     "metadata": {},
     "source": [
      "First, we're going to find all the unqiue ingredients by country for the `all_recipes` dataset first. We will store these unique ingredients in a dictionary called `unique_ingredients`"
     ]
    },
    {
     "cell_type": "code",
     "collapsed": false,
     "input": [
      "#Initialize 'unique_ingredients' dictionary\n",
      "unique_ingredients = {}\n",
      "\n",
      "total_lines = 0\n",
      "\n",
      "#Let's iterate through all the lines in 'all_recipes':\n",
      "for line in all_recipes:\n",
      "    info = line.split('\\t')\n",
      "    \n",
      "    #Grab the country name\n",
      "    country = info[0]\n",
      "    \n",
      "    #Grab the rest of the info. (Note: the last value in 'rest' has a '\\n' attached to it)\n",
      "    rest = info[1:]\n",
      "    (last_ingredient, empty) = rest[-1].split('\\n')\n",
      "    ingredients = info[1:-1]\n",
      "    ingredients.append(last_ingredient)\n",
      "    \n",
      "    #Add to dictionary:\n",
      "    if (country in unique_ingredients):\n",
      "        curr = unique_ingredients[country]\n",
      "        curr.update(ingredients)\n",
      "        unique_ingredients[country] = curr\n",
      "    else:\n",
      "        unique_ingredients[country] = set(ingredients)\n",
      "        \n",
      "    total_lines += 1\n",
      "    \n",
      "print \"Total # of lines:\",total_lines"
     ],
     "language": "python",
     "metadata": {},
     "outputs": [
      {
       "output_type": "stream",
       "stream": "stdout",
       "text": [
        "Total # of lines: 41819\n"
       ]
      }
     ],
     "prompt_number": 6
    },
    {
     "cell_type": "markdown",
     "metadata": {},
     "source": [
      "Essentially, we need to compute the intersection of *pairs* of countries. For example, let's look at the intersection of Thailand and Lebanon:"
     ]
    },
    {
     "cell_type": "code",
     "collapsed": false,
     "input": [
      "print \"Thailand:\"\n",
      "print unique_ingredients['Thailand'] \n",
      "print \"\\nLebanon:\"\n",
      "print unique_ingredients['Lebanon'] \n",
      "print \"\\nIntersection of Thailand & Lebanon\"\n",
      "print list(unique_ingredients['Thailand'] & unique_ingredients['Lebanon'])"
     ],
     "language": "python",
     "metadata": {},
     "outputs": [
      {
       "output_type": "stream",
       "stream": "stdout",
       "text": [
        "Thailand:\n",
        "set(['peanut_oil', 'lemon_juice', 'roasted_pork', 'sage', 'thyme', 'white_wine', 'chicken', 'milk', 'cilantro', 'ham', 'roasted_sesame_seed', 'peanut', 'cayenne', 'celery', 'grapefruit', 'galanga', 'radish', 'rice', 'thai_pepper', 'pumpkin', 'coffee', 'starch', 'black_pepper', 'yogurt', 'bean', 'peanut_butter', 'bread', 'coriander', 'meat', 'onion', 'scallop', 'asparagus', 'egg_noodle', 'chicken_broth', 'cider', 'cumin', 'rosemary', 'pork', 'grape_juice', 'celery_oil', 'fish', 'almond', 'prawn', 'lemongrass', 'roasted_peanut', 'soy_sauce', 'mandarin', 'pea', 'pepper', 'wheat', 'sesame_oil', 'corn', 'vinegar', 'raisin', 'shrimp', 'bell_pepper', 'buckwheat', 'chive', 'cucumber', 'cheese', 'marjoram', 'apple', 'lime_juice', 'tabasco_pepper', 'cashew', 'lettuce', 'oregano', 'soybean', 'tamarind', 'tuna', 'lime', 'provolone_cheese', 'beef', 'sake', 'shiitake', 'parsley', 'scallion', 'brown_rice', 'crab', 'basil', 'vegetable_oil', 'nut', 'tomato', 'green_bell_pepper', 'mushroom', 'shallot', 'red_wine', 'tangerine', 'squash', 'parmesan_cheese', 'banana', 'root', 'cane_molasses', 'olive_oil', 'coconut', 'ginger', 'honey', 'carrot', 'mint', 'cream', 'lamb', 'lemon', 'yeast', 'saffron', 'chicory', 'macaroni', 'sesame_seed', 'vegetable', 'sherry', 'zucchini', 'fenugreek', 'mustard', 'cardamom', 'salmon', 'garlic', 'mussel', 'cabbage', 'watercress', 'broccoli', 'oyster', 'butter', 'potato', 'mango', 'pineapple', 'turmeric', 'egg', 'wine'])\n",
        "\n",
        "Lebanon:\n",
        "set(['cane_molasses', 'olive_oil', 'coconut', 'lemon_juice', 'radish', 'nut', 'white_wine', 'lettuce', 'carrot', 'brassica', 'chicken', 'walnut', 'mint', 'lentil', 'whole_grain_wheat_flour', 'lamb', 'cilantro', 'lemon', 'orange_flower', 'beef', 'roasted_sesame_seed', 'rose', 'starch', 'milk', 'parsley', 'cayenne', 'scallion', 'celery', 'oat', 'sesame_seed', 'butter', 'lard', 'yogurt', 'vegetable_oil', 'cream', 'pea', 'basil', 'coriander', 'pepper', 'green_bell_pepper', 'wheat', 'cauliflower', 'yeast', 'cardamom', 'corn', 'red_wine', 'black_pepper', 'bell_pepper', 'orange', 'garlic', 'olive', 'cabbage', 'vanilla', 'bread', 'tomato', 'vinegar', 'thyme', 'onion', 'potato', 'sumac', 'malt', 'cumin', 'bay', 'pistachio', 'seed', 'nutmeg', 'cinnamon', 'cucumber', 'egg', 'chicken_broth', 'turmeric'])\n",
        "\n",
        "Intersection of Thailand & Lebanon\n",
        "['cane_molasses', 'olive_oil', 'coconut', 'lemon_juice', 'radish', 'nut', 'white_wine', 'lettuce', 'carrot', 'tomato', 'chicken', 'mint', 'milk', 'cream', 'lamb', 'cilantro', 'lemon', 'beef', 'roasted_sesame_seed', 'yeast', 'cayenne', 'parsley', 'scallion', 'celery', 'sesame_seed', 'yogurt', 'vegetable_oil', 'pea', 'coriander', 'pepper', 'green_bell_pepper', 'wheat', 'starch', 'cardamom', 'corn', 'red_wine', 'black_pepper', 'basil', 'garlic', 'cabbage', 'bread', 'butter', 'vinegar', 'onion', 'thyme', 'potato', 'chicken_broth', 'cumin', 'bell_pepper', 'cucumber', 'egg', 'turmeric']\n"
       ]
      }
     ],
     "prompt_number": 7
    },
    {
     "cell_type": "heading",
     "level": 6,
     "metadata": {},
     "source": [
      "We can see more clearly now the ingredients that Thailand and Lebanon have in common."
     ]
    },
    {
     "cell_type": "markdown",
     "metadata": {},
     "source": [
      "We want to do the same thing, but for all pairs of countries now. (e.g., Canada vs Turkey, Canada vs Caribbean, Canada vs Bangledesh, etc. etc.). We then want to quantify the similarity between any two countries using TF-IDF.\n",
      "\n",
      "i.e., we want to compute:\n",
      "$$similarity(country_1,country_2) = TF\\_IDF(country_1\\;\\cap \\;country_2)$$\n",
      "where:\n",
      "\n",
      "$country_1$ = the set of unique ingredients for $country_1$\n",
      "\n",
      "$country_2$ = the set of unique ingredients for $country_2$"
     ]
    },
    {
     "cell_type": "heading",
     "level": 6,
     "metadata": {},
     "source": [
      "One major downfall of this approach is the following:"
     ]
    },
    {
     "cell_type": "markdown",
     "metadata": {},
     "source": [
      "Let's say $country_1$ has the ingedient *turmeric*, but only one of $country_1$'s recipes actually contains this ingredient. Now $country_2$ also has the ingredient turmeric, but turmeric appears in every single recipe. Finally, we have $country_3$, which also has turmeric appear in every single recipe. Clearly, $country_2$ and $country_3$ use turmeric more often than $country_1$ does. Thus, if we're going to compare $country_1$ to $country_2$, for example, we should remove any outliers first so that we don't confuse our clustering algorithm."
     ]
    },
    {
     "cell_type": "heading",
     "level": 6,
     "metadata": {},
     "source": [
      "How should we remove outliers?"
     ]
    },
    {
     "cell_type": "markdown",
     "metadata": {},
     "source": [
      "1. For each country, gather a list of all the ingredients used.\n",
      "2. For each country's list of ingredients, compute the tf-idf value of each ingredient to see which ingredients occur most often and which ingredients occur least often\n",
      "3. Set a threshold to remove the ingredients which occur the least often. (For our thresholding to be fair, the threshold we apply should be the same value for all countries. In other words, let $th$ represent \"threshold\" we will use. Then $th = th_{country_1} = th_{country_2}  = ... = th_{country_n}$). Any ingredient whose term frequency falls below the threshold $th$ will be removed.\n",
      "\n",
      "*Note: tf-idf is easy to compute here. Remember, for each individual recipe, an ingredient can only appear once (e.g., If a certain recipe calls for lemon, we won't have 2 instances of lemon in that recipe; \"lemon\" only appears once). If an ingredient appears twice, then it's an error. Therefore,*\n",
      "\n",
      "$$tf\\_idf(ingredient_k, country_n) = \\frac{\\# \\; of \\; occurrences \\; of \\; ingredient_k}{total \\; \\# \\; of \\; recipes \\; for \\; country_n}$$"
     ]
    },
    {
     "cell_type": "heading",
     "level": 6,
     "metadata": {},
     "source": [
      "Example:"
     ]
    },
    {
     "cell_type": "markdown",
     "metadata": {},
     "source": [
      "Let's say the tf-idf value for *turmeric* in $country_1$ is 0.0005 (i.e, turmeric occurs in 1 out of 2000 recipes for $country_1$). Now let's say the tf-idf value for lettuce, saffron, and lemon are all 0.5 (i.e., lettuce, saffron, and lemon occur in half of the recipes for $country_1$). Clearly, those 3 ingredients occur far more often than turmeric does, which suggests that turmeric is an outlier. Thus, we can set a threshold $th$ and remove all ingredients whose tf-idf values are less than 0.01 (for example). This threshold will remove turmeric, and will allow for a more accurate comparison between $country_1$ and $country_2$ or $country_1$ and $country_3$."
     ]
    },
    {
     "cell_type": "heading",
     "level": 3,
     "metadata": {},
     "source": [
      "B. Re-parse the data. For each country, determine how many times each ingredient occurs."
     ]
    },
    {
     "cell_type": "code",
     "collapsed": false,
     "input": [
      "#Function to parse datasets\n",
      "def getIngredientsList(recipe_files):\n",
      "    \n",
      "    '''\n",
      "    Input: List of recipe files\n",
      "    Output: Dictionary containing parsed data\n",
      "    \n",
      "    This function iterates through a list of recipe datasets to find:\n",
      "       (1) Unique ingredients for each country\n",
      "       (2) Number of times each ingredient occurs in any given country\n",
      "       (3) The total number of recipes for each country\n",
      "    '''\n",
      "    \n",
      "    \n",
      "    #Initialize 'ingredients_list' dictionary, which contains a list of all the ingredients\n",
      "    ingredients_list = {}\n",
      "    \n",
      "    for recipe in recipe_files:\n",
      "\n",
      "        #Let's iterate through all the lines in 'all_recipes':\n",
      "        for line in recipe:\n",
      "            info = line.split('\\t')\n",
      "\n",
      "            #Grab the country name\n",
      "            country = info[0]\n",
      "            \n",
      "            #Some of the datasets have 'India' and 'Indian' as the country name... so we'll be consistent and call everything\n",
      "            #with the name 'india', 'indian', 'India', or 'Indian' as India\n",
      "            if ((country == 'Indian') or (country == 'indian')):\n",
      "                country = 'India'\n",
      "                \n",
      "            elif ((country == 'Italy') or (country == 'Italian')):\n",
      "                country = 'Italy'\n",
      "                \n",
      "            elif ((country == 'Thai') or (country == 'Thailand')):\n",
      "                country = 'Thailand'\n",
      "                \n",
      "            elif ((country == 'France') or (country == 'French')):\n",
      "                country = 'France'\n",
      "                \n",
      "            elif ((country == 'Vietnam') or (country == 'Vietnamese')):\n",
      "                country = 'Vietnam'\n",
      "                \n",
      "            elif ((country == 'Japan') or (country == 'Japanese')):\n",
      "                country = 'Japan'\n",
      "                \n",
      "            elif ((country == 'China') or (country == 'Chinese')):\n",
      "                country = 'Chinese'\n",
      "                \n",
      "            elif ((country == 'German') or (country == 'Germany')):\n",
      "                country = 'German'\n",
      "                \n",
      "            elif ((country == 'Mexican') or (country == 'Mexico')):\n",
      "                country = 'Mexican'\n",
      "                \n",
      "            elif ((country == 'Scandinavian') or (country == 'Scandinavia')):\n",
      "                country = 'Scandinavia'\n",
      "                \n",
      "                \n",
      "            #Grab the rest of the info. (Note: the last value in 'rest' has a '\\n' attached to it)\n",
      "            rest = info[1:]\n",
      "            (last_ingredient, empty) = rest[-1].split('\\n')\n",
      "            ingredients = info[1:-1]\n",
      "            ingredients.append(last_ingredient)\n",
      "\n",
      "            #Add to dictionary:\n",
      "            if (country in ingredients_list):\n",
      "\n",
      "                current_ingredients = ingredients_list[country]['ingredients']\n",
      "                current_ingredients.update(ingredients)\n",
      "                ingredients_list[country]['ingredients'] = current_ingredients\n",
      "\n",
      "                #We also want to keep track of the count of each item...\n",
      "                for item in ingredients:\n",
      "                    if (item not in ingredients_list[country]['counts']):\n",
      "                        ingredients_list[country]['counts'][item] = 1;\n",
      "                    else:\n",
      "                        ingredients_list[country]['counts'][item] +=1;\n",
      "\n",
      "                #Increment total number of recipes (we will use this for tf-idf)\n",
      "                ingredients_list[country]['total_recipes'] += 1\n",
      "\n",
      "            else:\n",
      "                #Add ingredients to dictionary\n",
      "                ingred = {}\n",
      "                ingred['ingredients'] = set(ingredients)\n",
      "                ingredients_list[country] = ingred\n",
      "\n",
      "                #We also want to keep track of the count of each item...\n",
      "                temp_dict = {}\n",
      "                for item in ingredients:\n",
      "                    temp_dict[item] = 1;\n",
      "                ingredients_list[country]['counts'] = temp_dict\n",
      "\n",
      "                #We want to keep track of the total number of recipes for this country, too\n",
      "                ingredients_list[country]['total_recipes'] = 1\n",
      "\n",
      "                #Initialize for tf-idf later\n",
      "                tf_idf = {}\n",
      "                ingredients_list[country]['tf_idf'] = tf_idf\n",
      "            \n",
      "    return ingredients_list"
     ],
     "language": "python",
     "metadata": {},
     "outputs": [],
     "prompt_number": 8
    },
    {
     "cell_type": "code",
     "collapsed": false,
     "input": [
      "all_recipes = open('scirep-cuisines-detail/allr_recipes.txt', 'r')  #AllRecipes.com\n",
      "epic_recipes = open('scirep-cuisines-detail/epic_recipes.txt', 'r') #Epicurious.com\n",
      "menu_recipes = open('scirep-cuisines-detail/allr_recipes.txt', 'r') #menupan.com\n",
      "\n",
      "ingredients_list = getIngredientsList([all_recipes,epic_recipes,menu_recipes])"
     ],
     "language": "python",
     "metadata": {},
     "outputs": [],
     "prompt_number": 9
    },
    {
     "cell_type": "heading",
     "level": 3,
     "metadata": {},
     "source": [
      "C. Find the tf-idf threshold for removing ingredients"
     ]
    },
    {
     "cell_type": "markdown",
     "metadata": {},
     "source": [
      "Iterate through the entire dictionary and compute tf-idf across all items. In the end, we will get one really, really long list of tf-idf values. From there, we can sort the tf-idf values and plot them. Then we can decide the threshold to use for rejecting outliers."
     ]
    },
    {
     "cell_type": "code",
     "collapsed": false,
     "input": [
      "#Compute tf-idf value for each ingredient in each country\n",
      "tf_idf = np.empty((0),dtype='float')\n",
      "for country in ingredients_list:\n",
      "    total_recipes = ingredients_list[country]['total_recipes']\n",
      "    for ingredient in ingredients_list[country]['counts']:\n",
      "        tf_idf_val = float(ingredients_list[country]['counts'][ingredient]) / total_recipes\n",
      "        ingredients_list[country]['tf_idf'][ingredient] = tf_idf_val\n",
      "        tf_idf = np.append(tf_idf, tf_idf_val)\n",
      "        "
     ],
     "language": "python",
     "metadata": {},
     "outputs": [],
     "prompt_number": 10
    },
    {
     "cell_type": "code",
     "collapsed": false,
     "input": [
      "#Plot the data\n",
      "plt.plot(np.sort(tf_idf))\n",
      "plt.plot(.16*np.ones(len(tf_idf)),linestyle=':',color='r')\n",
      "plt.ylabel('tf-idf value')\n",
      "plt.legend(['tf-idf', 'Threshold'],loc=2)\n",
      "plt.show()"
     ],
     "language": "python",
     "metadata": {},
     "outputs": [
      {
       "metadata": {},
       "output_type": "display_data",
       "png": "[encoded data removed]",
       "text": [
        "<matplotlib.figure.Figure at 0x109908210>"
       ]
      }
     ],
     "prompt_number": 11
    },
    {
     "cell_type": "markdown",
     "metadata": {},
     "source": [
      "The elbow of the curve is roughly at `tf-idf = 0.16`, as marked by the dotted red line. That means we want to set our threshold $th$ to `0.16` such that any ingredient with a tf-idf less than 0.16 is not considered."
     ]
    },
    {
     "cell_type": "heading",
     "level": 3,
     "metadata": {},
     "source": [
      "D. Clean the data and prepare for clustering"
     ]
    },
    {
     "cell_type": "markdown",
     "metadata": {},
     "source": [
      "Now that we've found a threshold for removing \"outliers\", we can clean the data and prepare it for clustering.\n",
      "\n",
      "We want to make a sparse matrix X in the following format:"
     ]
    },
    {
     "cell_type": "raw",
     "metadata": {},
     "source": [
      "labels (y) |                 matrix (X)\n",
      "___________|__________________________________________\n",
      "Canada     | almond       0      anise   anise_seed\n",
      "  .        |    .         .         .         .\n",
      "  .        |    .         .         .         .\n",
      "  .        |    .         .         .         .\n",
      "Japan      | almond       0         0         0\n",
      "Lebanon    | almond    angelica   anise   anise_seed\n",
      "  .        |    .         .         .         .\n",
      "  .        |    .         .         .         .\n",
      "  .        |    .         .         .         .\n",
      "Thailand   |    0         0         0         0\n",
      "  .        |    .         .         .         .\n",
      "  .        |    .         .         .         .\n",
      "  .        |    .         .         .         ."
     ]
    },
    {
     "cell_type": "markdown",
     "metadata": {},
     "source": [
      "The rows of `X` are recipes and the columns of `X` are ingredients. If a recipe does not contain an ingredient (or it was removed through thresholding), then we set that ingredient's value to `0`. For example, in the above matrix, Canadian cuisine does not contain `angelica`. We then set the location of `angelica` value to 0 for Canada, which means that Canada's recipes do not contain `angelica`.\n",
      "\n",
      "We will then replace the values for each ingredient with their respective tf-idf value (e.g., if the tf-idf value for `almond` in Canada is `0.248`, then `almond` in the above matrix `X` will be replaced with `0.248`."
     ]
    },
    {
     "cell_type": "code",
     "collapsed": false,
     "input": [
      "#Get list of countries\n",
      "countries = sorted(ingredients_list.keys())\n",
      "\n",
      "#Get list of ingredients\n",
      "ingredients = set()\n",
      "for country in ingredients_list:\n",
      "    ingredients.update(ingredients_list[country]['ingredients'])\n",
      "\n",
      "num_countries = len(countries)\n",
      "num_ingredients = len(ingredients)\n",
      "print \"There are %d different countries/areas:\\n\" % num_countries, countries\n",
      "print \"\\nThere are %d unique ingredients *after* thresholding.\" % num_ingredients"
     ],
     "language": "python",
     "metadata": {},
     "outputs": [
      {
       "output_type": "stream",
       "stream": "stdout",
       "text": [
        "There are 51 different countries/areas:\n",
        "['African', 'American', 'Asian', 'Austria', 'Bangladesh', 'Belgium', 'Cajun_Creole', 'Canada', 'Caribbean', 'Central_SouthAmerican', 'Chinese', 'East-African', 'Eastern-Europe', 'EasternEuropean_Russian', 'English_Scottish', 'France', 'German', 'Greek', 'India', 'Indonesia', 'Iran', 'Irish', 'Israel', 'Italy', 'Japan', 'Jewish', 'Korea', 'Lebanon', 'Malaysia', 'Mediterranean', 'Mexican', 'MiddleEastern', 'Moroccan', 'Netherlands', 'North-African', 'Pakistan', 'Philippines', 'Portugal', 'Scandinavia', 'South-African', 'South-America', 'Southern_SoulFood', 'Southwestern', 'Spain', 'Spanish_Portuguese', 'Switzerland', 'Thailand', 'Turkey', 'UK-and-Ireland', 'Vietnam', 'West-African']\n",
        "\n",
        "There are 362 unique ingredients *after* thresholding.\n"
       ]
      }
     ],
     "prompt_number": 12
    },
    {
     "cell_type": "markdown",
     "metadata": {},
     "source": [
      "We should therefore expect to have `362` rows in `X`."
     ]
    },
    {
     "cell_type": "code",
     "collapsed": false,
     "input": [
      "#Sort the list of ingredients\n",
      "ingredients = sorted(ingredients)\n",
      "print ingredients"
     ],
     "language": "python",
     "metadata": {},
     "outputs": [
      {
       "output_type": "stream",
       "stream": "stdout",
       "text": [
        "['almond', 'angelica', 'anise', 'anise_seed', 'apple', 'apple_brandy', 'apricot', 'armagnac', 'artichoke', 'asparagus', 'avocado', 'bacon', 'baked_potato', 'balm', 'banana', 'barley', 'bartlett_pear', 'basil', 'bay', 'bean', 'beech', 'beef', 'beef_broth', 'beef_liver', 'beer', 'beet', 'bell_pepper', 'bergamot', 'berry', 'bitter_orange', 'black_bean', 'black_currant', 'black_mustard_seed_oil', 'black_pepper', 'black_raspberry', 'black_tea', 'blackberry', 'blackberry_brandy', 'blue_cheese', 'blueberry', 'bone_oil', 'bourbon_whiskey', 'brandy', 'brassica', 'bread', 'broccoli', 'brown_rice', 'brussels_sprout', 'buckwheat', 'butter', 'buttermilk', 'cabbage', 'cabernet_sauvignon_wine', 'cacao', 'camembert_cheese', 'cane_molasses', 'caraway', 'cardamom', 'carnation', 'carob', 'carrot', 'cashew', 'cassava', 'catfish', 'cauliflower', 'caviar', 'cayenne', 'celery', 'celery_oil', 'cereal', 'chamomile', 'champagne_wine', 'chayote', 'cheddar_cheese', 'cheese', 'cherry', 'cherry_brandy', 'chervil', 'chicken', 'chicken_broth', 'chicken_liver', 'chickpea', 'chicory', 'chinese_cabbage', 'chive', 'cider', 'cilantro', 'cinnamon', 'citrus', 'clam', 'clove', 'cocoa', 'coconut', 'coconut_oil', 'cod', 'coffee', 'cognac', 'concord_grape', 'condiment', 'coriander', 'corn', 'corn_flake', 'corn_grit', 'cottage_cheese', 'crab', 'cranberry', 'cream', 'cream_cheese', 'cucumber', 'cumin', 'cured_pork', 'currant', 'date', 'dill', 'durian', 'egg', 'egg_noodle', 'elderberry', 'endive', 'fennel', 'fenugreek', 'feta_cheese', 'fig', 'fish', 'flower', 'frankfurter', 'fruit', 'galanga', 'garlic', 'gelatin', 'geranium', 'gin', 'ginger', 'goat_cheese', 'grape', 'grape_brandy', 'grape_juice', 'grapefruit', 'green_bell_pepper', 'green_tea', 'gruyere_cheese', 'guava', 'haddock', 'ham', 'hazelnut', 'herring', 'holy_basil', 'honey', 'hop', 'horseradish', 'huckleberry', 'jasmine', 'jasmine_tea', 'juniper_berry', 'kale', 'katsuobushi', 'kidney_bean', 'kiwi', 'kohlrabi', 'kumquat', 'lamb', 'lard', 'laurel', 'lavender', 'leaf', 'leek', 'lemon', 'lemon_juice', 'lemon_peel', 'lemongrass', 'lentil', 'lettuce', 'licorice', 'lilac_flower_oil', 'lima_bean', 'lime', 'lime_juice', 'lime_peel_oil', 'lingonberry', 'litchi', 'liver', 'lobster', 'lovage', 'macadamia_nut', 'macaroni', 'mace', 'malt', 'mandarin', 'mandarin_peel', 'mango', 'maple_syrup', 'marjoram', 'mate', 'meat', 'melon', 'milk', 'milk_fat', 'mint', 'mozzarella_cheese', 'mung_bean', 'munster_cheese', 'muscat_grape', 'mushroom', 'mussel', 'mustard', 'mutton', 'nectarine', 'nut', 'nutmeg', 'oat', 'oatmeal', 'octopus', 'okra', 'olive', 'olive_oil', 'onion', 'orange', 'orange_flower', 'orange_juice', 'orange_peel', 'oregano', 'ouzo', 'oyster', 'palm', 'papaya', 'parmesan_cheese', 'parsley', 'parsnip', 'passion_fruit', 'pea', 'peach', 'peanut', 'peanut_butter', 'peanut_oil', 'pear', 'pear_brandy', 'pecan', 'pelargonium', 'pepper', 'peppermint', 'peppermint_oil', 'pimenta', 'pimento', 'pineapple', 'pistachio', 'plum', 'popcorn', 'porcini', 'pork', 'pork_liver', 'pork_sausage', 'port_wine', 'potato', 'potato_chip', 'prawn', 'prickly_pear', 'provolone_cheese', 'pumpkin', 'quince', 'radish', 'raisin', 'rapeseed', 'raspberry', 'red_kidney_bean', 'red_wine', 'rhubarb', 'rice', 'roasted_almond', 'roasted_beef', 'roasted_hazelnut', 'roasted_meat', 'roasted_nut', 'roasted_peanut', 'roasted_pecan', 'roasted_pork', 'roasted_sesame_seed', 'romano_cheese', 'root', 'roquefort_cheese', 'rose', 'rosemary', 'rum', 'rutabaga', 'rye_bread', 'rye_flour', 'saffron', 'sage', 'sake', 'salmon', 'salmon_roe', 'sassafras', 'sauerkraut', 'savory', 'scallion', 'scallop', 'seaweed', 'seed', 'sesame_oil', 'sesame_seed', 'shallot', 'sheep_cheese', 'shellfish', 'sherry', 'shiitake', 'shrimp', 'smoke', 'smoked_fish', 'smoked_salmon', 'smoked_sausage', 'sour_cherry', 'sour_milk', 'soy_sauce', 'soybean', 'soybean_oil', 'spearmint', 'squash', 'squid', 'star_anise', 'starch', 'strawberry', 'sturgeon_caviar', 'sumac', 'sunflower_oil', 'sweet_potato', 'swiss_cheese', 'tabasco_pepper', 'tamarind', 'tangerine', 'tarragon', 'tea', 'tequila', 'thai_pepper', 'thyme', 'tomato', 'tomato_juice', 'truffle', 'tuna', 'turkey', 'turmeric', 'turnip', 'vanilla', 'veal', 'vegetable', 'vegetable_oil', 'vinegar', 'violet', 'walnut', 'wasabi', 'watercress', 'watermelon', 'wheat', 'wheat_bread', 'whiskey', 'white_bread', 'white_wine', 'whole_grain_wheat_flour', 'wine', 'wood', 'yam', 'yeast', 'yogurt', 'zucchini']\n"
       ]
      }
     ],
     "prompt_number": 13
    },
    {
     "cell_type": "code",
     "collapsed": false,
     "input": [
      "#Set threshold\n",
      "th = 0.16\n",
      "\n",
      "#Intialize X as a numpy 'zeros' array\n",
      "X = np.zeros((num_countries,num_ingredients),dtype='float')\n",
      "\n",
      "#Now find items whose tf-idf values exceed the threshold \n",
      "for country in ingredients_list:\n",
      "    \n",
      "    #Find the index of the current country in 'countries'\n",
      "    country_idx = countries.index(country)\n",
      "    \n",
      "    #For each ingredient, check if its tf-idf value falls below the threshold or not\n",
      "    for ingredient in ingredients_list[country]['tf_idf']:\n",
      "        tf_idf_val = ingredients_list[country]['tf_idf'][ingredient]\n",
      "        if (tf_idf_val >= th):\n",
      "            \n",
      "            #Find index of the current ingredient in 'ingredients'\n",
      "            ingr_idx = ingredients.index(ingredient)\n",
      "            \n",
      "            #Now update X:\n",
      "            X[country_idx][ingr_idx] = tf_idf_val"
     ],
     "language": "python",
     "metadata": {},
     "outputs": [],
     "prompt_number": 14
    },
    {
     "cell_type": "heading",
     "level": 3,
     "metadata": {},
     "source": [
      "E. Visualize final matrix X"
     ]
    },
    {
     "cell_type": "code",
     "collapsed": false,
     "input": [
      "fig = plt.figure(figsize=(8,8))\n",
      "ax = fig.add_subplot(111)\n",
      "tf_idf = ax.pcolor(X,cmap='jet')\n",
      "\n",
      "#Set limits\n",
      "ax.set_ylim((0,num_countries))\n",
      "ax.set_xlim((num_ingredients,0))\n",
      "\n",
      "#Relabel y-axis\n",
      "ax.set_yticks(np.arange(num_countries)+0.5, minor=False)\n",
      "ax.set_yticklabels(countries, minor=False)\n",
      "\n",
      "#Remove x-axis\n",
      "ax.tick_params(axis='x', which='both', labelbottom='off')\n",
      "ax.set_xlabel('Ingredients')\n",
      "ax.set_ylabel('Country / Area')\n",
      "\n",
      "#Add colorbar\n",
      "cbar= plt.colorbar(tf_idf)\n",
      "cbar.set_label('TF-IDF Value', rotation=90)\n",
      "plt.gca().invert_yaxis()\n",
      "plt.gca().invert_xaxis()"
     ],
     "language": "python",
     "metadata": {},
     "outputs": [
      {
       "metadata": {},
       "output_type": "display_data",
       "png": "[encoded data removed]",
       "text": [
        "<matplotlib.figure.Figure at 0x10f0df450>"
       ]
      }
     ],
     "prompt_number": 26
    },
    {
     "cell_type": "markdown",
     "metadata": {},
     "source": [
      "The above plot shows the typical ingredients used for each country. `Ingredients` are represented by their tf-idf value to show how often they are used. Recall: ingredients whose tf-idf values fell below the rejection threshold were given a tf-idf value of 0. Thus, some columns appear empty."
     ]
    },
    {
     "cell_type": "heading",
     "level": 2,
     "metadata": {},
     "source": [
      "2. Clustering"
     ]
    },
    {
     "cell_type": "heading",
     "level": 3,
     "metadata": {},
     "source": [
      "A. Heirarchically cluster the data and plot it"
     ]
    },
    {
     "cell_type": "code",
     "collapsed": false,
     "input": [
      "#Heirarchical cluster\n",
      "Z = hr.linkage(X, method='complete', metric='euclidean')\n",
      "\n",
      "#Color threshold level\n",
      "level = 1.35\n",
      "\n",
      "#Plot dendrogram\n",
      "fig = plt.figure(figsize=(10,6))\n",
      "ax = fig.add_subplot(111)\n",
      "T = hr.dendrogram(Z,color_threshold=level, leaf_font_size=12)\n",
      "\n",
      "#Get xlabels so that we can convert integer values to actual names\n",
      "xlabels = T.items()[0][1]\n",
      "reord_countries = [countries[int(i)] for i in xlabels]\n",
      "ax.set_xticklabels(reord_countries, minor=False, rotation=90)\n",
      "\n",
      "#Show figure\n",
      "fig.show()"
     ],
     "language": "python",
     "metadata": {},
     "outputs": [
      {
       "metadata": {},
       "output_type": "display_data",
       "png": "[encoded data removed]",
       "text": [
        "<matplotlib.figure.Figure at 0x10d923990>"
       ]
      }
     ],
     "prompt_number": 27
    },
    {
     "cell_type": "markdown",
     "metadata": {},
     "source": [
      "From first glance at the heirarchical clustering, we can begin to see some countries that are similar in terms of the ingredients they use in their recipes. For example, we see that "
     ]
    },
    {
     "cell_type": "markdown",
     "metadata": {},
     "source": [
      "Below, let's list out the actual clusters:"
     ]
    },
    {
     "cell_type": "code",
     "collapsed": false,
     "input": [
      "ck = hr.fcluster(hr.linkage(X, method='complete'), level,'distance') #Obtain the clustering at y=1.35\n",
      "\n",
      "clusters = {}\n",
      "for xx in range (0, len(ck)):\n",
      "    country = countries[xx] #use the original 'countries' list, not the re-ordered one\n",
      "    clust = ck[xx]\n",
      "    \n",
      "    if (clust not in clusters):\n",
      "        clusters[clust] = [country]\n",
      "    else:\n",
      "        clusters[clust].extend([country])\n",
      "    \n",
      "\n",
      "for cluster in clusters:\n",
      "    print \"Cluster\",cluster\n",
      "    print clusters[cluster]\n",
      "    print \"\"\n"
     ],
     "language": "python",
     "metadata": {},
     "outputs": [
      {
       "output_type": "stream",
       "stream": "stdout",
       "text": [
        "Cluster 1\n",
        "['India', 'Pakistan']\n",
        "\n",
        "Cluster 2\n",
        "['Bangladesh']\n",
        "\n",
        "Cluster 3\n",
        "['American', 'Austria', 'Belgium', 'Canada', 'Eastern-Europe', 'EasternEuropean_Russian', 'English_Scottish', 'France', 'German', 'Irish', 'Israel', 'Jewish', 'Netherlands', 'Scandinavia', 'Southern_SoulFood', 'Switzerland', 'UK-and-Ireland']\n",
        "\n",
        "Cluster 4\n",
        "['Thailand', 'Vietnam']\n",
        "\n",
        "Cluster 5\n",
        "['Asian', 'Chinese', 'Indonesia', 'Japan', 'Korea', 'Philippines']\n",
        "\n",
        "Cluster 6\n",
        "['Malaysia']\n",
        "\n",
        "Cluster 7\n",
        "['South-African']\n",
        "\n",
        "Cluster 8\n",
        "['Central_SouthAmerican', 'Mexican', 'Southwestern', 'West-African']\n",
        "\n",
        "Cluster 9\n",
        "['Cajun_Creole']\n",
        "\n",
        "Cluster 10\n",
        "['African', 'Greek', 'Lebanon', 'MiddleEastern', 'Moroccan', 'North-African']\n",
        "\n",
        "Cluster 11\n",
        "['Caribbean', 'East-African', 'Iran', 'Italy', 'Mediterranean', 'Portugal', 'South-America', 'Spain', 'Spanish_Portuguese', 'Turkey']\n",
        "\n"
       ]
      }
     ],
     "prompt_number": 28
    },
    {
     "cell_type": "markdown",
     "metadata": {},
     "source": [
      "The clustering appears to work well. Of course, we don't know how well the clustering worked since we haven't analyzed it yet, but a few of the clusters stand out:\n",
      "\n",
      "1. **Cluster 1**: India and Pakistan \n",
      "2. **Cluster 4**: Thailand and Vietnam\n",
      "3. **Cluster 5**: Asian, Chinese, Indonesia, Japan, Korea, Phillippines\n",
      "4. **Cluster 10**: African, Greek, Lebanon, Middle Eastern, Moroccan, North African\n",
      "5. **Cluster 11**: Caribbean, East-African, Iran, Italy, Mediterranean, Portugal, South-America, Spain, Spanish_Portugeuese, Turkey"
     ]
    },
    {
     "cell_type": "heading",
     "level": 2,
     "metadata": {},
     "source": [
      "3. Visualization & Analysis"
     ]
    },
    {
     "cell_type": "heading",
     "level": 3,
     "metadata": {},
     "source": [
      "A. Importance of Historical Influence"
     ]
    },
    {
     "cell_type": "markdown",
     "metadata": {},
     "source": [
      "When analyzing our clustering, we should consider a few things:\n",
      "1. Geographical location of the countries within each cluster\n",
      "2. The histories of each country and how countries relate to one another\n",
      "\n",
      "To illustrate my point about history, we should turn our attention to *Cluster 11*. At first glance, the cluster looks like it may not make a lot of sense because the countries aren't really centralized in one geographical area. However, historically speaking, this clustering makes perfect sense.\n",
      "\n",
      "By the start of the 13th century, the Mediterranean in general had a very strong Arabic influence. Thus, one might expect to see a linkage between historically Arabic nations (East Africa, Iran, and Turkey) and Mediterranean countries (Italy, Portugal, and Spain). Even prior to the medieval times (prior to 11th century), Muslim Expansion occurred across western Europe:\n",
      "\n",
      "<img src=\"EuropeMap.jpg\">\n",
      "\n",
      "More interesting, in the 15th century (not long after the Arabic influence of the Mediterranean had become prevalent), the Caribbean and South-American countries were colonized during the [Spanish Conquest of the Americas](http://en.wikipedia.org/wiki/Spanish_colonization_of_the_Americas) starting in 1492. Much of the food in the Caribbean and South America is therefore influenced by the Spanish culture (and we know from before that Mediterranean cuisine was influenced by the Arabs during the early 13 century). Furthermore, although Caribbean cuisine is primarily influenced by the Spanish, [Caribbean cuisine in general also is known for its Arabic influence](http://en.wikipedia.org/wiki/Caribbean_cuisine).\n",
      "\n",
      "For these reasons, this particular clustering actually makes a lot of sense. Therefore, when considering our clusters, it's important to consider historical origins as well, not just geographical location! It's very interesting that we can see the connection between historical influence and cuisine.\n",
      "\n",
      "BTW, Mexico and Central America are interesting cases. While the Spanish *did* settle in Mexico and Central America around the same time they settled in the Caribbean and South America, much of Mexican & Central American cuisine is actually still primarily influenced by indigenous foods (Mayan, Aztec, etc.): [\"\\[Mexican cuisine\\] is created mostly with ingredients native to Mexico\"](http://en.wikipedia.org/wiki/Mexican_cuisine#Basic_elements). Thus, we don't necessarily see such a strong connection between Mexico and historically Arabic nations, even though the Spanish conquered Mexico and Central America. It then makes sense that Central America and Mexico are not included in this cluster!\n",
      "\n",
      "\n",
      "If you're interested about the Arabic influecne of the Mediterranean, read more here:\n",
      "* http://en.wikipedia.org/wiki/Foreign_relations_of_Spain\n",
      "* http://en.wikipedia.org/wiki/Islamic_contributions_to_Medieval_Europe\n",
      "* http://en.wikipedia.org/wiki/Arabic_language_influence_on_the_Spanish_language\n",
      "* http://en.wikipedia.org/wiki/History_of_Islam_in_southern_Italy#Islamic_and_Arabic_influence_and_legacy\n",
      "* http://en.wikipedia.org/wiki/Influence_of_Arabic_on_other_languages#Portuguese)\n",
      "\n",
      "I just thought these historical facts were interesting to point out. :) "
     ]
    },
    {
     "cell_type": "heading",
     "level": 3,
     "metadata": {},
     "source": [
      "B. Observations"
     ]
    },
    {
     "cell_type": "markdown",
     "metadata": {},
     "source": [
      "When considering the validity of clusters, we should consider both historical information and geographical information. Fortunately, we have a file called `map.txt`, which we can use to check the geographical locations of the countries within our clusters:"
     ]
    },
    {
     "cell_type": "code",
     "collapsed": false,
     "input": [
      "map_data = pd.read_csv('scirep-cuisines-detail/map.txt',sep='\\t',names=['Country','Region'])\n",
      "map_data"
     ],
     "language": "python",
     "metadata": {},
     "outputs": [
      {
       "html": [
        "<div style=\"max-height:1000px;max-width:1500px;overflow:auto;\">\n",
        "<table border=\"1\" class=\"dataframe\">\n",
        "  <thead>\n",
        "    <tr style=\"text-align: right;\">\n",
        "      <th></th>\n",
        "      <th>Country</th>\n",
        "      <th>Region</th>\n",
        "    </tr>\n",
        "  </thead>\n",
        "  <tbody>\n",
        "    <tr>\n",
        "      <th>0 </th>\n",
        "      <td>                  Canada</td>\n",
        "      <td>    NorthAmerican</td>\n",
        "    </tr>\n",
        "    <tr>\n",
        "      <th>1 </th>\n",
        "      <td>                  Turkey</td>\n",
        "      <td>    MiddleEastern</td>\n",
        "    </tr>\n",
        "    <tr>\n",
        "      <th>2 </th>\n",
        "      <td>              east_asian</td>\n",
        "      <td>        EastAsian</td>\n",
        "    </tr>\n",
        "    <tr>\n",
        "      <th>3 </th>\n",
        "      <td>               Caribbean</td>\n",
        "      <td>    LatinAmerican</td>\n",
        "    </tr>\n",
        "    <tr>\n",
        "      <th>4 </th>\n",
        "      <td>              Bangladesh</td>\n",
        "      <td>       SouthAsian</td>\n",
        "    </tr>\n",
        "    <tr>\n",
        "      <th>5 </th>\n",
        "      <td>                 chinese</td>\n",
        "      <td>        EastAsian</td>\n",
        "    </tr>\n",
        "    <tr>\n",
        "      <th>6 </th>\n",
        "      <td>                  mexico</td>\n",
        "      <td>    LatinAmerican</td>\n",
        "    </tr>\n",
        "    <tr>\n",
        "      <th>7 </th>\n",
        "      <td>                 Lebanon</td>\n",
        "      <td>    MiddleEastern</td>\n",
        "    </tr>\n",
        "    <tr>\n",
        "      <th>8 </th>\n",
        "      <td>                japanese</td>\n",
        "      <td>        EastAsian</td>\n",
        "    </tr>\n",
        "    <tr>\n",
        "      <th>9 </th>\n",
        "      <td>           North-African</td>\n",
        "      <td>          African</td>\n",
        "    </tr>\n",
        "    <tr>\n",
        "      <th>10</th>\n",
        "      <td>           MiddleEastern</td>\n",
        "      <td>    MiddleEastern</td>\n",
        "    </tr>\n",
        "    <tr>\n",
        "      <th>11</th>\n",
        "      <td>                  Indian</td>\n",
        "      <td>       SouthAsian</td>\n",
        "    </tr>\n",
        "    <tr>\n",
        "      <th>12</th>\n",
        "      <td>                   asian</td>\n",
        "      <td>              NaN</td>\n",
        "    </tr>\n",
        "    <tr>\n",
        "      <th>13</th>\n",
        "      <td>                   Italy</td>\n",
        "      <td> SouthernEuropean</td>\n",
        "    </tr>\n",
        "    <tr>\n",
        "      <th>14</th>\n",
        "      <td> EasternEuropean_Russian</td>\n",
        "      <td>  EasternEuropean</td>\n",
        "    </tr>\n",
        "    <tr>\n",
        "      <th>15</th>\n",
        "      <td>                  Israel</td>\n",
        "      <td>    MiddleEastern</td>\n",
        "    </tr>\n",
        "    <tr>\n",
        "      <th>16</th>\n",
        "      <td>                   Korea</td>\n",
        "      <td>        EastAsian</td>\n",
        "    </tr>\n",
        "    <tr>\n",
        "      <th>17</th>\n",
        "      <td>                    Iran</td>\n",
        "      <td>    MiddleEastern</td>\n",
        "    </tr>\n",
        "    <tr>\n",
        "      <th>18</th>\n",
        "      <td>          Eastern-Europe</td>\n",
        "      <td>  EasternEuropean</td>\n",
        "    </tr>\n",
        "    <tr>\n",
        "      <th>19</th>\n",
        "      <td>                  Jewish</td>\n",
        "      <td>    MiddleEastern</td>\n",
        "    </tr>\n",
        "    <tr>\n",
        "      <th>20</th>\n",
        "      <td>           South-African</td>\n",
        "      <td>          African</td>\n",
        "    </tr>\n",
        "    <tr>\n",
        "      <th>21</th>\n",
        "      <td>              Vietnamese</td>\n",
        "      <td>   SoutheastAsian</td>\n",
        "    </tr>\n",
        "    <tr>\n",
        "      <th>22</th>\n",
        "      <td>          UK-and-Ireland</td>\n",
        "      <td>  WesternEuropean</td>\n",
        "    </tr>\n",
        "    <tr>\n",
        "      <th>23</th>\n",
        "      <td>                  French</td>\n",
        "      <td>  WesternEuropean</td>\n",
        "    </tr>\n",
        "    <tr>\n",
        "      <th>24</th>\n",
        "      <td>           Mediterranean</td>\n",
        "      <td> SouthernEuropean</td>\n",
        "    </tr>\n",
        "    <tr>\n",
        "      <th>25</th>\n",
        "      <td>   Central_SouthAmerican</td>\n",
        "      <td>    LatinAmerican</td>\n",
        "    </tr>\n",
        "    <tr>\n",
        "      <th>26</th>\n",
        "      <td>            Cajun_Creole</td>\n",
        "      <td>    NorthAmerican</td>\n",
        "    </tr>\n",
        "    <tr>\n",
        "      <th>27</th>\n",
        "      <td>                 Belgium</td>\n",
        "      <td>  WesternEuropean</td>\n",
        "    </tr>\n",
        "    <tr>\n",
        "      <th>28</th>\n",
        "      <td>                   China</td>\n",
        "      <td>        EastAsian</td>\n",
        "    </tr>\n",
        "    <tr>\n",
        "      <th>29</th>\n",
        "      <td>                  korean</td>\n",
        "      <td>        EastAsian</td>\n",
        "    </tr>\n",
        "    <tr>\n",
        "      <th>...</th>\n",
        "      <td>...</td>\n",
        "      <td>...</td>\n",
        "    </tr>\n",
        "    <tr>\n",
        "      <th>39</th>\n",
        "      <td>                   Greek</td>\n",
        "      <td> SouthernEuropean</td>\n",
        "    </tr>\n",
        "    <tr>\n",
        "      <th>40</th>\n",
        "      <td>                American</td>\n",
        "      <td>    NorthAmerican</td>\n",
        "    </tr>\n",
        "    <tr>\n",
        "      <th>41</th>\n",
        "      <td>                 Vietnam</td>\n",
        "      <td>   SoutheastAsian</td>\n",
        "    </tr>\n",
        "    <tr>\n",
        "      <th>42</th>\n",
        "      <td>                 western</td>\n",
        "      <td>  WesternEuropean</td>\n",
        "    </tr>\n",
        "    <tr>\n",
        "      <th>43</th>\n",
        "      <td>                 African</td>\n",
        "      <td>          African</td>\n",
        "    </tr>\n",
        "    <tr>\n",
        "      <th>44</th>\n",
        "      <td>             Switzerland</td>\n",
        "      <td>  WesternEuropean</td>\n",
        "    </tr>\n",
        "    <tr>\n",
        "      <th>45</th>\n",
        "      <td>            West-African</td>\n",
        "      <td>          African</td>\n",
        "    </tr>\n",
        "    <tr>\n",
        "      <th>46</th>\n",
        "      <td>                  France</td>\n",
        "      <td>  WesternEuropean</td>\n",
        "    </tr>\n",
        "    <tr>\n",
        "      <th>47</th>\n",
        "      <td>                    Thai</td>\n",
        "      <td>   SoutheastAsian</td>\n",
        "    </tr>\n",
        "    <tr>\n",
        "      <th>48</th>\n",
        "      <td>                Thailand</td>\n",
        "      <td>   SoutheastAsian</td>\n",
        "    </tr>\n",
        "    <tr>\n",
        "      <th>49</th>\n",
        "      <td>                 Italian</td>\n",
        "      <td> SouthernEuropean</td>\n",
        "    </tr>\n",
        "    <tr>\n",
        "      <th>50</th>\n",
        "      <td>                Pakistan</td>\n",
        "      <td>       SouthAsian</td>\n",
        "    </tr>\n",
        "    <tr>\n",
        "      <th>51</th>\n",
        "      <td>                   Irish</td>\n",
        "      <td>  WesternEuropean</td>\n",
        "    </tr>\n",
        "    <tr>\n",
        "      <th>52</th>\n",
        "      <td>                 Mexican</td>\n",
        "      <td>    LatinAmerican</td>\n",
        "    </tr>\n",
        "    <tr>\n",
        "      <th>53</th>\n",
        "      <td>                Portugal</td>\n",
        "      <td> SouthernEuropean</td>\n",
        "    </tr>\n",
        "    <tr>\n",
        "      <th>54</th>\n",
        "      <td>                 Chinese</td>\n",
        "      <td>        EastAsian</td>\n",
        "    </tr>\n",
        "    <tr>\n",
        "      <th>55</th>\n",
        "      <td>                  Mexico</td>\n",
        "      <td>    LatinAmerican</td>\n",
        "    </tr>\n",
        "    <tr>\n",
        "      <th>56</th>\n",
        "      <td>                  German</td>\n",
        "      <td>  WesternEuropean</td>\n",
        "    </tr>\n",
        "    <tr>\n",
        "      <th>57</th>\n",
        "      <td>      Spanish_Portuguese</td>\n",
        "      <td> SouthernEuropean</td>\n",
        "    </tr>\n",
        "    <tr>\n",
        "      <th>58</th>\n",
        "      <td>                   India</td>\n",
        "      <td>       SouthAsian</td>\n",
        "    </tr>\n",
        "    <tr>\n",
        "      <th>59</th>\n",
        "      <td>                Japanese</td>\n",
        "      <td>        EastAsian</td>\n",
        "    </tr>\n",
        "    <tr>\n",
        "      <th>60</th>\n",
        "      <td>                Moroccan</td>\n",
        "      <td>          African</td>\n",
        "    </tr>\n",
        "    <tr>\n",
        "      <th>61</th>\n",
        "      <td>       Southern_SoulFood</td>\n",
        "      <td>    NorthAmerican</td>\n",
        "    </tr>\n",
        "    <tr>\n",
        "      <th>62</th>\n",
        "      <td>                Malaysia</td>\n",
        "      <td>   SoutheastAsian</td>\n",
        "    </tr>\n",
        "    <tr>\n",
        "      <th>63</th>\n",
        "      <td>                 Austria</td>\n",
        "      <td>  WesternEuropean</td>\n",
        "    </tr>\n",
        "    <tr>\n",
        "      <th>64</th>\n",
        "      <td>        English_Scottish</td>\n",
        "      <td>  WesternEuropean</td>\n",
        "    </tr>\n",
        "    <tr>\n",
        "      <th>65</th>\n",
        "      <td>                   Asian</td>\n",
        "      <td>              NaN</td>\n",
        "    </tr>\n",
        "    <tr>\n",
        "      <th>66</th>\n",
        "      <td>            Southwestern</td>\n",
        "      <td>    NorthAmerican</td>\n",
        "    </tr>\n",
        "    <tr>\n",
        "      <th>67</th>\n",
        "      <td>                   Japan</td>\n",
        "      <td>        EastAsian</td>\n",
        "    </tr>\n",
        "    <tr>\n",
        "      <th>68</th>\n",
        "      <td>                 italian</td>\n",
        "      <td> SouthernEuropean</td>\n",
        "    </tr>\n",
        "  </tbody>\n",
        "</table>\n",
        "<p>69 rows \u00d7 2 columns</p>\n",
        "</div>"
       ],
       "metadata": {},
       "output_type": "pyout",
       "prompt_number": 29,
       "text": [
        "                    Country            Region\n",
        "0                    Canada     NorthAmerican\n",
        "1                    Turkey     MiddleEastern\n",
        "2                east_asian         EastAsian\n",
        "3                 Caribbean     LatinAmerican\n",
        "4                Bangladesh        SouthAsian\n",
        "5                   chinese         EastAsian\n",
        "6                    mexico     LatinAmerican\n",
        "7                   Lebanon     MiddleEastern\n",
        "8                  japanese         EastAsian\n",
        "9             North-African           African\n",
        "10            MiddleEastern     MiddleEastern\n",
        "11                   Indian        SouthAsian\n",
        "12                    asian               NaN\n",
        "13                    Italy  SouthernEuropean\n",
        "14  EasternEuropean_Russian   EasternEuropean\n",
        "15                   Israel     MiddleEastern\n",
        "16                    Korea         EastAsian\n",
        "17                     Iran     MiddleEastern\n",
        "18           Eastern-Europe   EasternEuropean\n",
        "19                   Jewish     MiddleEastern\n",
        "20            South-African           African\n",
        "21               Vietnamese    SoutheastAsian\n",
        "22           UK-and-Ireland   WesternEuropean\n",
        "23                   French   WesternEuropean\n",
        "24            Mediterranean  SouthernEuropean\n",
        "25    Central_SouthAmerican     LatinAmerican\n",
        "26             Cajun_Creole     NorthAmerican\n",
        "27                  Belgium   WesternEuropean\n",
        "28                    China         EastAsian\n",
        "29                   korean         EastAsian\n",
        "..                      ...               ...\n",
        "39                    Greek  SouthernEuropean\n",
        "40                 American     NorthAmerican\n",
        "41                  Vietnam    SoutheastAsian\n",
        "42                  western   WesternEuropean\n",
        "43                  African           African\n",
        "44              Switzerland   WesternEuropean\n",
        "45             West-African           African\n",
        "46                   France   WesternEuropean\n",
        "47                     Thai    SoutheastAsian\n",
        "48                 Thailand    SoutheastAsian\n",
        "49                  Italian  SouthernEuropean\n",
        "50                 Pakistan        SouthAsian\n",
        "51                    Irish   WesternEuropean\n",
        "52                  Mexican     LatinAmerican\n",
        "53                 Portugal  SouthernEuropean\n",
        "54                  Chinese         EastAsian\n",
        "55                   Mexico     LatinAmerican\n",
        "56                   German   WesternEuropean\n",
        "57       Spanish_Portuguese  SouthernEuropean\n",
        "58                    India        SouthAsian\n",
        "59                 Japanese         EastAsian\n",
        "60                 Moroccan           African\n",
        "61        Southern_SoulFood     NorthAmerican\n",
        "62                 Malaysia    SoutheastAsian\n",
        "63                  Austria   WesternEuropean\n",
        "64         English_Scottish   WesternEuropean\n",
        "65                    Asian               NaN\n",
        "66             Southwestern     NorthAmerican\n",
        "67                    Japan         EastAsian\n",
        "68                  italian  SouthernEuropean\n",
        "\n",
        "[69 rows x 2 columns]"
       ]
      }
     ],
     "prompt_number": 29
    },
    {
     "cell_type": "markdown",
     "metadata": {},
     "source": [
      "Let's look at geographical similarities between countries within the same cluster:"
     ]
    },
    {
     "cell_type": "code",
     "collapsed": false,
     "input": [
      "#Convert python dataframe to dictionary. (I'm only doing this because hashmaps/dictionaries have faster serach time)\n",
      "map_data = map_data.set_index('Country')['Region'].to_dict()"
     ],
     "language": "python",
     "metadata": {},
     "outputs": [],
     "prompt_number": 30
    },
    {
     "cell_type": "code",
     "collapsed": false,
     "input": [
      "cluster_geolocations = {}\n",
      "\n",
      "for c in clusters:\n",
      "    data = clusters[c]\n",
      "    for country in data:\n",
      "        loc = map_data[country] #get geolocation - e.g., if you input 'Canada', you should get 'NorthAmerican'\n",
      "        if (c not in cluster_geolocations):\n",
      "            cluster_geolocations[c] = set([loc])\n",
      "        else:\n",
      "            curr_locs = cluster_geolocations[c]\n",
      "            curr_locs.update([loc])\n",
      "            cluster_geolocations[c] = curr_locs\n",
      "    "
     ],
     "language": "python",
     "metadata": {},
     "outputs": [],
     "prompt_number": 31
    },
    {
     "cell_type": "heading",
     "level": 6,
     "metadata": {},
     "source": [
      "Print out the geolocations and the countries for each cluster"
     ]
    },
    {
     "cell_type": "code",
     "collapsed": false,
     "input": [
      "for xx in range (1,12):\n",
      "    print \"Cluster\", xx\n",
      "    print \"-------------------\"\n",
      "    print \"Geolocation(s):\",list(cluster_geolocations[xx])\n",
      "    print \"Countries:\",clusters[xx]\n",
      "    print \"\\n\"\n"
     ],
     "language": "python",
     "metadata": {},
     "outputs": [
      {
       "output_type": "stream",
       "stream": "stdout",
       "text": [
        "Cluster 1\n",
        "-------------------\n",
        "Geolocation(s): ['SouthAsian']\n",
        "Countries: ['India', 'Pakistan']\n",
        "\n",
        "\n",
        "Cluster 2\n",
        "-------------------\n",
        "Geolocation(s): ['SouthAsian']\n",
        "Countries: ['Bangladesh']\n",
        "\n",
        "\n",
        "Cluster 3\n",
        "-------------------\n",
        "Geolocation(s): ['EasternEuropean', 'MiddleEastern', 'WesternEuropean', 'NorthAmerican', 'NorthernEuropean']\n",
        "Countries: ['American', 'Austria', 'Belgium', 'Canada', 'Eastern-Europe', 'EasternEuropean_Russian', 'English_Scottish', 'France', 'German', 'Irish', 'Israel', 'Jewish', 'Netherlands', 'Scandinavia', 'Southern_SoulFood', 'Switzerland', 'UK-and-Ireland']\n",
        "\n",
        "\n",
        "Cluster 4\n",
        "-------------------\n",
        "Geolocation(s): ['SoutheastAsian']\n",
        "Countries: ['Thailand', 'Vietnam']\n",
        "\n",
        "\n",
        "Cluster 5\n",
        "-------------------\n",
        "Geolocation(s): [nan, 'EastAsian', 'SoutheastAsian']\n",
        "Countries: ['Asian', 'Chinese', 'Indonesia', 'Japan', 'Korea', 'Philippines']\n",
        "\n",
        "\n",
        "Cluster 6\n",
        "-------------------\n",
        "Geolocation(s): ['SoutheastAsian']\n",
        "Countries: ['Malaysia']\n",
        "\n",
        "\n",
        "Cluster 7\n",
        "-------------------\n",
        "Geolocation(s): ['African']\n",
        "Countries: ['South-African']\n",
        "\n",
        "\n",
        "Cluster 8\n",
        "-------------------\n",
        "Geolocation(s): ['LatinAmerican', 'NorthAmerican', 'African']\n",
        "Countries: ['Central_SouthAmerican', 'Mexican', 'Southwestern', 'West-African']\n",
        "\n",
        "\n",
        "Cluster 9\n",
        "-------------------\n",
        "Geolocation(s): ['NorthAmerican']\n",
        "Countries: ['Cajun_Creole']\n",
        "\n",
        "\n",
        "Cluster 10\n",
        "-------------------\n",
        "Geolocation(s): ['MiddleEastern', 'SouthernEuropean', 'African']\n",
        "Countries: ['African', 'Greek', 'Lebanon', 'MiddleEastern', 'Moroccan', 'North-African']\n",
        "\n",
        "\n",
        "Cluster 11\n",
        "-------------------\n",
        "Geolocation(s): ['MiddleEastern', 'LatinAmerican', 'SouthernEuropean', 'African']\n",
        "Countries: ['Caribbean', 'East-African', 'Iran', 'Italy', 'Mediterranean', 'Portugal', 'South-America', 'Spain', 'Spanish_Portuguese', 'Turkey']\n",
        "\n",
        "\n"
       ]
      }
     ],
     "prompt_number": 32
    },
    {
     "cell_type": "markdown",
     "metadata": {},
     "source": [
      "Some observations:\n",
      "* Clusters 2, 6, 7, and 9 only contain 1 country in them, so the clustering itself isn't that useful.\n",
      "* Clusters 1, 4, and 5 are clustered by geolocation.\n",
      "* The remaining clusters are not clustered by geolocation"
     ]
    },
    {
     "cell_type": "heading",
     "level": 3,
     "metadata": {},
     "source": [
      "C. One final cluster map"
     ]
    },
    {
     "cell_type": "code",
     "collapsed": false,
     "input": [
      "distances = metrics.euclidean_distances(X)\n",
      "print distances.shape\n",
      "\n",
      "cg = sns.clustermap(distances, method=\"complete\", figsize=(9,9))"
     ],
     "language": "python",
     "metadata": {},
     "outputs": [
      {
       "output_type": "stream",
       "stream": "stdout",
       "text": [
        "(51, 51)\n"
       ]
      },
      {
       "metadata": {},
       "output_type": "display_data",
       "png": "[encoded data removed]",
       "text": [
        "<matplotlib.figure.Figure at 0x1102e1510>"
       ]
      }
     ],
     "prompt_number": 33
    },
    {
     "cell_type": "markdown",
     "metadata": {},
     "source": [
      "The cluster map above suggests that our clustering is perhaps not very meaningful. However, when we consider the historical background of various countries, some of the clusters we've obtained make sense. So perhaps to obtain a better clustering, maybe it would be useful to have information about the historical influences of each country. "
     ]
    },
    {
     "cell_type": "heading",
     "level": 3,
     "metadata": {},
     "source": [
      "D. Analysis of Individual Clusters"
     ]
    },
    {
     "cell_type": "markdown",
     "metadata": {},
     "source": [
      "When we consider clusters 1, 4, and 5, we can tell they are clustered by geographical location:"
     ]
    },
    {
     "cell_type": "raw",
     "metadata": {},
     "source": [
      "Cluster 1\n",
      "-------------------\n",
      "Geolocation(s): ['SouthAsian']\n",
      "Countries: ['India', 'Pakistan']\n",
      "    \n",
      "Cluster 4\n",
      "-------------------\n",
      "Geolocation(s): ['SoutheastAsian']\n",
      "Countries: ['Thailand', 'Vietnam']\n",
      "\n",
      "\n",
      "Cluster 5\n",
      "-------------------\n",
      "Geolocation(s): [nan, 'EastAsian', 'SoutheastAsian']\n",
      "Countries: ['Asian', 'Chinese', 'Indonesia', 'Japan', 'Korea', 'Philippines']"
     ]
    },
    {
     "cell_type": "markdown",
     "metadata": {},
     "source": [
      "With cluster 3 in particular, we see that it's a very large cluster:"
     ]
    },
    {
     "cell_type": "raw",
     "metadata": {},
     "source": [
      "Cluster 3\n",
      "-------------------\n",
      "Geolocation(s): ['EasternEuropean', 'MiddleEastern', 'WesternEuropean', 'NorthAmerican', 'NorthernEuropean']\n",
      "Countries: ['American', 'Austria', 'Belgium', 'Canada', 'Eastern-Europe', 'EasternEuropean_Russian', 'English_Scottish', 'France', 'German', 'Irish', 'Israel', 'Jewish', 'Netherlands', 'Scandinavia', 'Southern_SoulFood', 'Switzerland', 'UK-and-Ireland']"
     ]
    },
    {
     "cell_type": "markdown",
     "metadata": {},
     "source": [
      "It makes sense that European and Middle Eastern cuisine are clumped together. As mentioned before, there wasa large Arabic influence in the Mediterranean and likely other parts of Europe as well. \n",
      "\n",
      "American cuisine is tough to justify here, but when we consider that America was settled by the Pilgrims (Europeans), it makes sense that America and Canada, for example, might be clumped in with Europe. \n",
      "\n",
      "In **Cluster 8** below, we have clustered Central/South American, Mexican, Southwestern, and West African:"
     ]
    },
    {
     "cell_type": "raw",
     "metadata": {},
     "source": [
      "Cluster 8\n",
      "-------------------\n",
      "Geolocation(s): ['LatinAmerican', 'NorthAmerican', 'African']\n",
      "Countries: ['Central_SouthAmerican', 'Mexican', 'Southwestern', 'West-African']"
     ]
    },
    {
     "cell_type": "markdown",
     "metadata": {},
     "source": [
      "Geographically, we can can imagine that Southwestern (U.S.), Central/South American, and Mexican cuisines might be similar. After all, South America borders Central America, which borders Mexico, which borders the Southwestern U.S.. However, what about West-African cuisine?\n",
      "\n",
      "The West-African cuisine could possibly be explained by the [slave trade](http://www.ucpress.edu/blog/15284/mexican-cuisines-african-roots/) in Central/South America and the slave trade in America.\n",
      "\n",
      "For **Cluster 10**, we can see the following:"
     ]
    },
    {
     "cell_type": "raw",
     "metadata": {},
     "source": [
      "Cluster 10\n",
      "-------------------\n",
      "Geolocation(s): ['MiddleEastern', 'SouthernEuropean', 'African']\n",
      "Countries: ['African', 'Greek', 'Lebanon', 'MiddleEastern', 'Moroccan', 'North-African']"
     ]
    },
    {
     "cell_type": "markdown",
     "metadata": {},
     "source": [
      "Morocco is a country in northern Africa, so it makes sense that it would be grouped together with `African` and `North-African`. Geographically speaking, Lebanon is physically located in the Middle East, so it makes sense that Lebanon would be grouped with `MiddleEastern`. Greece itself is close to both the Middle East and Africa , so that could explain why it is grouped in this cluster. "
     ]
    },
    {
     "cell_type": "heading",
     "level": 3,
     "metadata": {},
     "source": [
      "E. Closing Thoughts"
     ]
    },
    {
     "cell_type": "markdown",
     "metadata": {},
     "source": [
      "It is very interesting to see how different countries relate to one another through their ethnic cuisines. It turns out that using geographical knowledge alone to analyze ethnic cuisine data isn't always helpful. It is helpful in some cases, but not in all cases. When we consider historical data, we can begin to understand some of our clusters better."
     ]
    },
    {
     "cell_type": "markdown",
     "metadata": {},
     "source": [
      "### References"
     ]
    },
    {
     "cell_type": "markdown",
     "metadata": {},
     "source": [
      "1. Ahn, Yong-Yeol, et al. \"Flavor network and the principles of food pairing.\" Scientific reports 1 (2011)."
     ]
    },
    {
     "cell_type": "code",
     "collapsed": false,
     "input": [
      "# Code for setting the style of the notebook\n",
      "from IPython.core.display import HTML\n",
      "def css_styling():\n",
      "    styles = open(\"../../theme/custom.css\", \"r\").read()\n",
      "    return HTML(styles)\n",
      "css_styling()"
     ],
     "language": "python",
     "metadata": {},
     "outputs": [
      {
       "html": [
        "<link href='http://fonts.googleapis.com/css?family=EB+Garamond' rel='stylesheet' type='text/css'>\n",
        "<link href='http://fonts.googleapis.com/css?family=Alegreya+Sans:100,300,400,500,700,800,900,100italic,300italic,400italic,500italic,700italic,800italic,900italic' rel='stylesheet' type='text/css'>\n",
        "<link href='http://fonts.googleapis.com/css?family=Source+Code+Pro:300,400' rel='stylesheet' type='text/css'>\n",
        "<style>\n",
        "    @font-face {\n",
        "        font-family: \"Computer Modern\";\n",
        "        src: url('http://mirrors.ctan.org/fonts/cm-unicode/fonts/otf/cmunss.otf');\n",
        "    }\n",
        "    .code_cell {\n",
        "        width: 105ex !important ;\n",
        "        margin-bottom: 15px !important;\n",
        "    }\n",
        "    div.cell {\n",
        "        margin-left: auto;\n",
        "        margin-right: auto;\n",
        "        width: 70%;\n",
        "    }    \n",
        "    div.cell.selected {\n",
        "        border: thin rgba(171, 171, 171, 0.5) dashed;\n",
        "    }\n",
        "    h1 {\n",
        "        font-family: 'Alegreya Sans', sans-serif;\n",
        "    }\n",
        "    h2 {\n",
        "        font-family: 'EB Garamond', serif;\n",
        "    }\n",
        "    h3 {\n",
        "        font-family: 'EB Garamond', serif;\n",
        "        margin-top:12px;\n",
        "        margin-bottom: 3px;\n",
        "    }\n",
        "    h4 {\n",
        "        font-family: 'EB Garamond', serif;\n",
        "    }\n",
        "    h5 {\n",
        "        font-family: 'Alegreya Sans', sans-serif;\n",
        "    }\n",
        "    div.text_cell_render {\n",
        "        font-family: 'EB Garamond',Computer Modern, \"Helvetica Neue\", Arial, Helvetica, Geneva, sans-serif;\n",
        "        line-height: 145%;\n",
        "        font-size: 140%;\n",
        "    }\n",
        "    div.input_area {\n",
        "        border-color: rgba(0,0,0,0.10) !important;\n",
        "        background: #fafafa;\n",
        "    }\n",
        "    .CodeMirror {\n",
        "            font-family: \"Source Code Pro\";\n",
        "            font-size: 90%;\n",
        "    }\n",
        "    .prompt {\n",
        "        display: None;\n",
        "    }\n",
        "    .output {\n",
        "        padding-left: 50px;\n",
        "        padding-top: 5px;\n",
        "    }\n",
        "    .output_wrapper {\n",
        "        padding-left: 5px;\n",
        "        padding-top: inherit;\n",
        "    }\n",
        "    div.output_scroll {\n",
        "        width: inherit;\n",
        "    }\n",
        "    .inner_cell {\n",
        "        padding-left: 5px;\n",
        "    }\n",
        "    .text_cell_render h1 {\n",
        "        font-weight: 200;\n",
        "        font-size: 50pt;\n",
        "        line-height: 100%;\n",
        "        color:#CD2305;\n",
        "        margin-bottom: 0.5em;\n",
        "        margin-top: 0.5em;\n",
        "        display: block;\n",
        "    }\n",
        "    .text_cell_render h5 {\n",
        "        font-weight: 300;\n",
        "        font-size: 16pt;\n",
        "        color: #CD2305;\n",
        "        font-style: italic;\n",
        "        margin-bottom: .5em;\n",
        "        margin-top: 0.5em;\n",
        "        display: block;\n",
        "    }\n",
        "    .warning {\n",
        "        color: rgb( 240, 20, 20 )\n",
        "        }  \n",
        "</style>\n",
        "<script>\n",
        "    MathJax.Hub.Config({\n",
        "                        TeX: {\n",
        "                           extensions: [\"AMSmath.js\"]\n",
        "                           },\n",
        "                tex2jax: {\n",
        "                    inlineMath: [ ['$','$'], [\"\\\\(\",\"\\\\)\"] ],\n",
        "                    displayMath: [ ['$$','$$'], [\"\\\\[\",\"\\\\]\"] ]\n",
        "                },\n",
        "                displayAlign: 'center', // Change this to 'center' to center equations.\n",
        "                \"HTML-CSS\": {\n",
        "                    styles: {'.MathJax_Display': {\"margin\": 4}}\n",
        "                }\n",
        "        });\n",
        "</script>"
       ],
       "metadata": {},
       "output_type": "pyout",
       "prompt_number": 316,
       "text": [
        "<IPython.core.display.HTML at 0x1134248d0>"
       ]
      }
     ],
     "prompt_number": 316
    }
   ],
   "metadata": {}
  }
 ]
}