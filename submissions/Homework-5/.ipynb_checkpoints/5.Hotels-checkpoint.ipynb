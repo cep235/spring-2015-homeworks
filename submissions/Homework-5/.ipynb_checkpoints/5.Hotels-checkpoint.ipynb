{
 "metadata": {
  "name": "",
  "signature": "sha256:6c49444f3fbe7c4864a5e557f5ae1830d737ba2d35cd29e39d9767c7ce50db85"
 },
 "nbformat": 3,
 "nbformat_minor": 0,
 "worksheets": [
  {
   "cells": [
    {
     "cell_type": "markdown",
     "metadata": {},
     "source": [
      "(In order to load the stylesheet of this notebook, execute the last code cell in this notebook)"
     ]
    },
    {
     "cell_type": "heading",
     "level": 1,
     "metadata": {},
     "source": [
      "Analyzing hotel ratings on Tripadvisor"
     ]
    },
    {
     "cell_type": "markdown",
     "metadata": {},
     "source": [
      "In this homework we will focus on practicing two techniques: web scraping and regression. For the first part, we will build upon the sample code from the Lecture and attempt to get some basic information for each hotel. Then, we will fit a regression model on this information and try to analyze it.   "
     ]
    },
    {
     "cell_type": "markdown",
     "metadata": {},
     "source": [
      "One of the main disadvantages of scraping a website instead of using an API is that, without any notice, the website may change its layout and render our code useless. Something like that happened in our case. Tripadvisor changed the layout of the buttons that we use to navigate between the different pages of the results. This was the main reason people were having problem with executing the code."
     ]
    },
    {
     "cell_type": "markdown",
     "metadata": {},
     "source": [
      "**Task 1 (20 pts)**\n",
      "\n",
      "The first task of the homework is to fix the scraping code. We basically need to replace the part where we are checking if there is another page and getting its link with new code that reflects the new navigation layout. "
     ]
    },
    {
     "cell_type": "markdown",
     "metadata": {},
     "source": [
      "** Task 2 (30 pts)**\n",
      "\n",
      "Then, for each hotel that our search returns, we will \"click\" (with the code of course) on it and scrape the information below.\n",
      "\n",
      "![Information to be scraped](hotel_info.png)\n",
      "\n",
      "Of course, feel free to collect even more data if you want. "
     ]
    },
    {
     "cell_type": "markdown",
     "metadata": {},
     "source": [
      "** Task 3 (20 pts) **\n",
      "\n",
      "Now, we will use regression to analyze this information. First, we will fit a linear regression model that predicts the average rating. For example, for the hotel above, the average rating is\n",
      "\n",
      "$$ \\text{AVG_SCORE} = \\frac{1*31 + 2*33 + 3*98 + 4*504 + 5*1861}{2527}$$\n",
      "\n",
      "Use the model to analyze the important factors that decide the $\\text{AVG_SCORE}$."
     ]
    },
    {
     "cell_type": "markdown",
     "metadata": {},
     "source": [
      "** Task 4 (30 pts) **\n",
      "\n",
      "Finally, we will use logistic regression to decide if a hotel is _excellent_ or not. We classify a hotel as _excellent_ if more than **60%** of its ratings are 5 stars. This is a binary attribute on which we can fit a logistic regression model. As before, use the model to analyze the data.\n",
      "\n",
      "-------"
     ]
    },
    {
     "cell_type": "markdown",
     "metadata": {},
     "source": [
      "In order to use code from a Python script file, we need to put that file in the same folder as the notebook and import it as a library. Then, we will be able to access it's functions. For example, in the case of the lecture code, we could do the following:\n",
      "\n",
      "``` python\n",
      "import scrape_solution as scrape\n",
      "\n",
      "scrape.get_city_page()\n",
      "```\n",
      "\n",
      "Of course, you might need to modify and restructure the code so that it returns what you need."
     ]
    },
    {
     "cell_type": "markdown",
     "metadata": {},
     "source": [
      "----"
     ]
    },
    {
     "cell_type": "heading",
     "level": 2,
     "metadata": {},
     "source": [
      "Task 1"
     ]
    },
    {
     "cell_type": "markdown",
     "metadata": {},
     "source": [
      "Rather than importing `scrape_solution.py`, I just copy-pasted it here. (It was easier for me to debug this way. Hope this is okay.)"
     ]
    },
    {
     "cell_type": "code",
     "collapsed": false,
     "input": [
      "import os\n",
      "import sys\n",
      "import time\n",
      "import argparse\n",
      "import logging\n",
      "import requests\n",
      "from BeautifulSoup import BeautifulSoup\n",
      "\n",
      "\n",
      "log = logging.getLogger(__name__)\n",
      "log.setLevel(logging.INFO)\n",
      "loghandler = logging.StreamHandler(sys.stderr)\n",
      "loghandler.setFormatter(logging.Formatter(\"[%(asctime)s] %(message)s\"))\n",
      "log.addHandler(loghandler)\n",
      "\n",
      "base_url = \"http://www.tripadvisor.com/\"\n",
      "user_agent = \"Mozilla/5.0 (Macintosh; Intel Mac OS X 10_10_2) AppleWebKit/537.36 (KHTML, like Gecko) Chrome/41.0.2272.76 Safari/537.36\"\n",
      "\n",
      "\n",
      "\n",
      "def get_city_page(city, state, datadir):\n",
      "    \"\"\" Returns the URL of the list of the hotels in a city. Corresponds to\n",
      "        STEP 1 & 2 of the slides.\n",
      "        \n",
      "        Parameters\n",
      "        ----------\n",
      "        city : str\n",
      "        \n",
      "        state : str\n",
      "        \n",
      "        datadir : str\n",
      "        \n",
      "        \n",
      "        Returns\n",
      "        -------\n",
      "        url : str\n",
      "        The relative link to the website with the hotels list.\n",
      "        \n",
      "        \"\"\"\n",
      "    # Build the request URL\n",
      "    url = base_url + \"city=\" + city + \"&state=\" + state\n",
      "    # Request the HTML page\n",
      "    headers = {'User-Agent': user_agent}\n",
      "    response = requests.get(url, headers=headers)\n",
      "    html = response.text.encode('utf-8')\n",
      "    with open(os.path.join(datadir, city + '-tourism-page.html'), \"w\") as h:\n",
      "        h.write(html)\n",
      "    \n",
      "    # Use BeautifulSoup to extract the url for the list of hotels in\n",
      "    # the city and state we are interested in.\n",
      "    \n",
      "    # For example in this case we need to get the following href\n",
      "    # <li class=\"hotels twoLines\">\n",
      "    # <a href=\"/Hotels-g60745-Boston_Massachusetts-Hotels.html\" data-trk=\"hotels_nav\">...</a>\n",
      "    soup = BeautifulSoup(html)\n",
      "    li = soup.find(\"li\", {\"class\": \"hotels twoLines\"})\n",
      "    city_url = li.find('a', href=True)\n",
      "    return city_url['href']\n",
      "\n",
      "\n",
      "def get_hotellist_page(city_url, page_count, city, datadir='data/'):\n",
      "    \"\"\" Returns the hotel list HTML. The URL of the list is the result of\n",
      "        get_city_page(). Also, saves a copy of the HTML to the disk. Corresponds to\n",
      "        STEP 3 of the slides.\n",
      "        \n",
      "        Parameters\n",
      "        ----------\n",
      "        city_url : str\n",
      "        The relative URL of the hotels in the city we are interested in.\n",
      "        page_count : int\n",
      "        The page that we want to fetch. Used for keeping track of our progress.\n",
      "        city : str\n",
      "        The name of the city that we are interested in.\n",
      "        datadir : str, default is 'data/'\n",
      "        The directory in which to save the downloaded html.\n",
      "        \n",
      "        Returns\n",
      "        -------\n",
      "        html : str\n",
      "        The HTML of the page with the list of the hotels.\n",
      "        \"\"\"\n",
      "    #print \"base_url: \",base_url\n",
      "    #print \"city_url: \",city_url\n",
      "    url = base_url + city_url\n",
      "    # Sleep 2 sec before starting a new http request\n",
      "    time.sleep(2)\n",
      "    # Request page\n",
      "    headers = { 'User-Agent' : user_agent }\n",
      "    response = requests.get(url, headers=headers)\n",
      "    html = response.text.encode('utf-8')\n",
      "    # Save the webpage\n",
      "    with open(os.path.join(datadir, city + '-hotelist-' + str(page_count) + '.html'), \"w\") as h:\n",
      "        h.write(html)\n",
      "    return html\n",
      "\n",
      "\n",
      "def parse_hotellist_page(html):\n",
      "    \"\"\"Parses the website with the hotel list and prints the hotel name, the\n",
      "        number of stars and the number of reviews it has. If there is a next page\n",
      "        in the hotel list, it returns a list to that page. Otherwise, it exits the\n",
      "        script. Corresponds to STEP 4 of the slides.\n",
      "        \n",
      "        Parameters\n",
      "        ----------\n",
      "        html : str\n",
      "        The HTML of the website with the hotel list.\n",
      "        \n",
      "        Returns\n",
      "        -------\n",
      "        URL : str\n",
      "        If there is a next page, return a relative link to this page.\n",
      "        Otherwise, exit the script.\n",
      "        \"\"\"\n",
      "    soup = BeautifulSoup(html)\n",
      "    # Extract hotel name, star rating and number of reviews\n",
      "    hotel_boxes = soup.findAll('div', {'class' :'listing wrap reasoning_v5_wrap jfy_listing p13n_imperfect'})\n",
      "    if not hotel_boxes:\n",
      "        log.info(\"#################################### Option 2 ######################################\")\n",
      "        hotel_boxes = soup.findAll('div', {'class' :'listing_info jfy'})\n",
      "    if not hotel_boxes:\n",
      "        log.info(\"#################################### Option 3 ######################################\")\n",
      "        hotel_boxes = soup.findAll('div', {'class' :'listing easyClear  p13n_imperfect'})\n",
      "\n",
      "    for hotel_box in hotel_boxes:\n",
      "        hotel_name = hotel_box.find(\"a\", {\"target\" : \"_blank\"}).find(text=True)\n",
      "        log.info(\"Hotel name: %s\" % hotel_name.strip())\n",
      "        \n",
      "        stars = hotel_box.find(\"img\", {\"class\" : \"sprite-ratings\"})\n",
      "        if stars:\n",
      "            log.info(\"Stars: %s\" % stars['alt'].split()[0])\n",
      "        \n",
      "        num_reviews = hotel_box.find(\"span\", {'class': \"more\"}).findAll(text=True)\n",
      "        if num_reviews:\n",
      "            log.info(\"Number of reviews: %s \" % [x for x in num_reviews if \"review\" in x][0].strip())\n",
      "\n",
      "    '''\n",
      "    # Get next URL page if exists, otherwise exit\n",
      "    div = soup.find(\"div\", {\"class\" : \"unified pagination \"})\n",
      "    # check if this is the last page\n",
      "    if div.find('span', {'class' : 'nav next disabled'}):\n",
      "    log.info(\"We reached last page\")\n",
      "    sys.exit()\n",
      "    # If not, return the url to the next page\n",
      "    hrefs = div.findAll('a', href= True)\n",
      "    for href in hrefs:\n",
      "    if href.find(text = True) == 'Next':\n",
      "    log.info(\"Next url is %s\" % href['href'])\n",
      "    return href['href']\n",
      "    '''\n",
      "    # Get next URL page if exists, otherwise exit\n",
      "    div = soup.find(\"div\", {\"class\" : \"pgLinks\"})\n",
      "    #print div\n",
      "\n",
      "    # check if this is the last page\n",
      "    if (div.find('span', {'class' : 'guiArw pageEndNext'})):\n",
      "        log.info(\"We reached last page\")\n",
      "        return -1;\n",
      "    \n",
      "    # If not, return the url to the next page\n",
      "    next_pg = div.find('a', {'class': 'guiArw sprite-pageNext '})\n",
      "    #print next_pg\n",
      "    return next_pg['href']\n",
      "    \n",
      "    '''\n",
      "    hrefs = div.findAll('a', href= True)\n",
      "    for href in hrefs:\n",
      "        print href\n",
      "        if href.find(text = True).decode('utf-8') == '\u00bb'.decode('utf-8'):\n",
      "            log.info(\"Next url is %s\" % href['href'])\n",
      "            return href['href']\n",
      "    '''\n",
      "\n",
      "def scrape_hotels(city, state, datadir='data/'):\n",
      "    \"\"\"Runs the main scraper code\n",
      "        \n",
      "        Parameters\n",
      "        ----------\n",
      "        city : str\n",
      "        The name of the city for which to scrape hotels.\n",
      "        \n",
      "        state : str\n",
      "        The state in which the city is located.\n",
      "        \n",
      "        datadir : str, default is 'data/'\n",
      "        The directory under which to save the downloaded html.\n",
      "        \"\"\"\n",
      "    \n",
      "    # Get current directory\n",
      "    current_dir = os.getcwd()\n",
      "    # Create datadir if does not exist\n",
      "    if not os.path.exists(os.path.join(current_dir, datadir)):\n",
      "        os.makedirs(os.path.join(current_dir, datadir))\n",
      "    \n",
      "    # Get URL to obtaint the list of hotels in a specific city\n",
      "    city_url = get_city_page(city, state, datadir)\n",
      "    c = 0\n",
      "    while(city_url != -1):\n",
      "        c += 1\n",
      "        html = get_hotellist_page(city_url, c, city, datadir) \n",
      "        city_url = parse_hotellist_page(html)\n"
     ],
     "language": "python",
     "metadata": {},
     "outputs": [],
     "prompt_number": 1
    },
    {
     "cell_type": "code",
     "collapsed": false,
     "input": [
      "scrape_hotels('Boston','MA','data')"
     ],
     "language": "python",
     "metadata": {},
     "outputs": [
      {
       "output_type": "stream",
       "stream": "stderr",
       "text": [
        "[2015-04-04 11:57:37,427] Hotel name: Seaport Boston Hotel\n"
       ]
      },
      {
       "output_type": "stream",
       "stream": "stderr",
       "text": [
        "INFO:__main__:Hotel name: Seaport Boston Hotel\n"
       ]
      },
      {
       "output_type": "stream",
       "stream": "stderr",
       "text": [
        "[2015-04-04 11:57:37,430] Stars: 4.5\n"
       ]
      },
      {
       "output_type": "stream",
       "stream": "stderr",
       "text": [
        "INFO:__main__:Stars: 4.5\n"
       ]
      },
      {
       "output_type": "stream",
       "stream": "stderr",
       "text": [
        "[2015-04-04 11:57:37,435] Number of reviews: 2,547 reviews \n"
       ]
      },
      {
       "output_type": "stream",
       "stream": "stderr",
       "text": [
        "INFO:__main__:Number of reviews: 2,547 reviews \n"
       ]
      },
      {
       "output_type": "stream",
       "stream": "stderr",
       "text": [
        "[2015-04-04 11:57:37,437] Hotel name: Hyatt Boston Harbor\n"
       ]
      },
      {
       "output_type": "stream",
       "stream": "stderr",
       "text": [
        "INFO:__main__:Hotel name: Hyatt Boston Harbor\n"
       ]
      },
      {
       "output_type": "stream",
       "stream": "stderr",
       "text": [
        "[2015-04-04 11:57:37,441] Stars: 4\n"
       ]
      },
      {
       "output_type": "stream",
       "stream": "stderr",
       "text": [
        "INFO:__main__:Stars: 4\n"
       ]
      },
      {
       "output_type": "stream",
       "stream": "stderr",
       "text": [
        "[2015-04-04 11:57:37,448] Number of reviews: 1,170 reviews \n"
       ]
      },
      {
       "output_type": "stream",
       "stream": "stderr",
       "text": [
        "INFO:__main__:Number of reviews: 1,170 reviews \n"
       ]
      },
      {
       "output_type": "stream",
       "stream": "stderr",
       "text": [
        "[2015-04-04 11:57:37,450] Hotel name: Hotel Commonwealth\n"
       ]
      },
      {
       "output_type": "stream",
       "stream": "stderr",
       "text": [
        "INFO:__main__:Hotel name: Hotel Commonwealth\n"
       ]
      },
      {
       "output_type": "stream",
       "stream": "stderr",
       "text": [
        "[2015-04-04 11:57:37,453] Stars: 4.5\n"
       ]
      },
      {
       "output_type": "stream",
       "stream": "stderr",
       "text": [
        "INFO:__main__:Stars: 4.5\n"
       ]
      },
      {
       "output_type": "stream",
       "stream": "stderr",
       "text": [
        "[2015-04-04 11:57:37,457] Number of reviews: 2,945 reviews \n"
       ]
      },
      {
       "output_type": "stream",
       "stream": "stderr",
       "text": [
        "INFO:__main__:Number of reviews: 2,945 reviews \n"
       ]
      },
      {
       "output_type": "stream",
       "stream": "stderr",
       "text": [
        "[2015-04-04 11:57:37,459] Hotel name: Boston Harbor Hotel\n"
       ]
      },
      {
       "output_type": "stream",
       "stream": "stderr",
       "text": [
        "INFO:__main__:Hotel name: Boston Harbor Hotel\n"
       ]
      },
      {
       "output_type": "stream",
       "stream": "stderr",
       "text": [
        "[2015-04-04 11:57:37,462] Stars: 4.5\n"
       ]
      },
      {
       "output_type": "stream",
       "stream": "stderr",
       "text": [
        "INFO:__main__:Stars: 4.5\n"
       ]
      },
      {
       "output_type": "stream",
       "stream": "stderr",
       "text": [
        "[2015-04-04 11:57:37,467] Number of reviews: 1,250 reviews \n"
       ]
      },
      {
       "output_type": "stream",
       "stream": "stderr",
       "text": [
        "INFO:__main__:Number of reviews: 1,250 reviews \n"
       ]
      },
      {
       "output_type": "stream",
       "stream": "stderr",
       "text": [
        "[2015-04-04 11:57:37,468] Hotel name: enVision Hotel Boston\n"
       ]
      },
      {
       "output_type": "stream",
       "stream": "stderr",
       "text": [
        "INFO:__main__:Hotel name: enVision Hotel Boston\n"
       ]
      },
      {
       "output_type": "stream",
       "stream": "stderr",
       "text": [
        "[2015-04-04 11:57:37,471] Stars: 4.5\n"
       ]
      },
      {
       "output_type": "stream",
       "stream": "stderr",
       "text": [
        "INFO:__main__:Stars: 4.5\n"
       ]
      },
      {
       "output_type": "stream",
       "stream": "stderr",
       "text": [
        "[2015-04-04 11:57:37,476] Number of reviews: 356 reviews \n"
       ]
      },
      {
       "output_type": "stream",
       "stream": "stderr",
       "text": [
        "INFO:__main__:Number of reviews: 356 reviews \n"
       ]
      },
      {
       "output_type": "stream",
       "stream": "stderr",
       "text": [
        "[2015-04-04 11:57:37,478] Hotel name: Revere Hotel Boston Common\n"
       ]
      },
      {
       "output_type": "stream",
       "stream": "stderr",
       "text": [
        "INFO:__main__:Hotel name: Revere Hotel Boston Common\n"
       ]
      },
      {
       "output_type": "stream",
       "stream": "stderr",
       "text": [
        "[2015-04-04 11:57:37,481] Stars: 4.5\n"
       ]
      },
      {
       "output_type": "stream",
       "stream": "stderr",
       "text": [
        "INFO:__main__:Stars: 4.5\n"
       ]
      },
      {
       "output_type": "stream",
       "stream": "stderr",
       "text": [
        "[2015-04-04 11:57:37,487] Number of reviews: 1,946 reviews \n"
       ]
      },
      {
       "output_type": "stream",
       "stream": "stderr",
       "text": [
        "INFO:__main__:Number of reviews: 1,946 reviews \n"
       ]
      },
      {
       "output_type": "stream",
       "stream": "stderr",
       "text": [
        "[2015-04-04 11:57:37,489] Hotel name: Lenox Hotel\n"
       ]
      },
      {
       "output_type": "stream",
       "stream": "stderr",
       "text": [
        "INFO:__main__:Hotel name: Lenox Hotel\n"
       ]
      },
      {
       "output_type": "stream",
       "stream": "stderr",
       "text": [
        "[2015-04-04 11:57:37,492] Stars: 4.5\n"
       ]
      },
      {
       "output_type": "stream",
       "stream": "stderr",
       "text": [
        "INFO:__main__:Stars: 4.5\n"
       ]
      },
      {
       "output_type": "stream",
       "stream": "stderr",
       "text": [
        "[2015-04-04 11:57:37,498] Number of reviews: 2,566 reviews \n"
       ]
      },
      {
       "output_type": "stream",
       "stream": "stderr",
       "text": [
        "INFO:__main__:Number of reviews: 2,566 reviews \n"
       ]
      },
      {
       "output_type": "stream",
       "stream": "stderr",
       "text": [
        "[2015-04-04 11:57:37,499] Hotel name: Nine Zero Hotel - a Kimpton Hotel\n"
       ]
      },
      {
       "output_type": "stream",
       "stream": "stderr",
       "text": [
        "INFO:__main__:Hotel name: Nine Zero Hotel - a Kimpton Hotel\n"
       ]
      },
      {
       "output_type": "stream",
       "stream": "stderr",
       "text": [
        "[2015-04-04 11:57:37,503] Stars: 4.5\n"
       ]
      },
      {
       "output_type": "stream",
       "stream": "stderr",
       "text": [
        "INFO:__main__:Stars: 4.5\n"
       ]
      },
      {
       "output_type": "stream",
       "stream": "stderr",
       "text": [
        "[2015-04-04 11:57:37,507] Number of reviews: 1,827 reviews \n"
       ]
      },
      {
       "output_type": "stream",
       "stream": "stderr",
       "text": [
        "INFO:__main__:Number of reviews: 1,827 reviews \n"
       ]
      },
      {
       "output_type": "stream",
       "stream": "stderr",
       "text": [
        "[2015-04-04 11:57:37,509] Hotel name: Courtyard by Marriott Boston Copley Square\n"
       ]
      },
      {
       "output_type": "stream",
       "stream": "stderr",
       "text": [
        "INFO:__main__:Hotel name: Courtyard by Marriott Boston Copley Square\n"
       ]
      },
      {
       "output_type": "stream",
       "stream": "stderr",
       "text": [
        "[2015-04-04 11:57:37,512] Stars: 4.5\n"
       ]
      },
      {
       "output_type": "stream",
       "stream": "stderr",
       "text": [
        "INFO:__main__:Stars: 4.5\n"
       ]
      },
      {
       "output_type": "stream",
       "stream": "stderr",
       "text": [
        "[2015-04-04 11:57:37,517] Number of reviews: 963 reviews \n"
       ]
      },
      {
       "output_type": "stream",
       "stream": "stderr",
       "text": [
        "INFO:__main__:Number of reviews: 963 reviews \n"
       ]
      },
      {
       "output_type": "stream",
       "stream": "stderr",
       "text": [
        "[2015-04-04 11:57:37,518] Hotel name: The Westin Copley Place\n"
       ]
      },
      {
       "output_type": "stream",
       "stream": "stderr",
       "text": [
        "INFO:__main__:Hotel name: The Westin Copley Place\n"
       ]
      },
      {
       "output_type": "stream",
       "stream": "stderr",
       "text": [
        "[2015-04-04 11:57:37,522] Stars: 4\n"
       ]
      },
      {
       "output_type": "stream",
       "stream": "stderr",
       "text": [
        "INFO:__main__:Stars: 4\n"
       ]
      },
      {
       "output_type": "stream",
       "stream": "stderr",
       "text": [
        "[2015-04-04 11:57:37,526] Number of reviews: 2,305 reviews \n"
       ]
      },
      {
       "output_type": "stream",
       "stream": "stderr",
       "text": [
        "INFO:__main__:Number of reviews: 2,305 reviews \n"
       ]
      },
      {
       "output_type": "stream",
       "stream": "stderr",
       "text": [
        "[2015-04-04 11:57:37,527] Hotel name: Omni Parker House\n"
       ]
      },
      {
       "output_type": "stream",
       "stream": "stderr",
       "text": [
        "INFO:__main__:Hotel name: Omni Parker House\n"
       ]
      },
      {
       "output_type": "stream",
       "stream": "stderr",
       "text": [
        "[2015-04-04 11:57:37,531] Stars: 4\n"
       ]
      },
      {
       "output_type": "stream",
       "stream": "stderr",
       "text": [
        "INFO:__main__:Stars: 4\n"
       ]
      },
      {
       "output_type": "stream",
       "stream": "stderr",
       "text": [
        "[2015-04-04 11:57:37,536] Number of reviews: 4,458 reviews \n"
       ]
      },
      {
       "output_type": "stream",
       "stream": "stderr",
       "text": [
        "INFO:__main__:Number of reviews: 4,458 reviews \n"
       ]
      },
      {
       "output_type": "stream",
       "stream": "stderr",
       "text": [
        "[2015-04-04 11:57:37,537] Hotel name: XV Beacon\n"
       ]
      },
      {
       "output_type": "stream",
       "stream": "stderr",
       "text": [
        "INFO:__main__:Hotel name: XV Beacon\n"
       ]
      },
      {
       "output_type": "stream",
       "stream": "stderr",
       "text": [
        "[2015-04-04 11:57:37,541] Stars: 4.5\n"
       ]
      },
      {
       "output_type": "stream",
       "stream": "stderr",
       "text": [
        "INFO:__main__:Stars: 4.5\n"
       ]
      },
      {
       "output_type": "stream",
       "stream": "stderr",
       "text": [
        "[2015-04-04 11:57:37,546] Number of reviews: 796 reviews \n"
       ]
      },
      {
       "output_type": "stream",
       "stream": "stderr",
       "text": [
        "INFO:__main__:Number of reviews: 796 reviews \n"
       ]
      },
      {
       "output_type": "stream",
       "stream": "stderr",
       "text": [
        "[2015-04-04 11:57:37,548] Hotel name: Embassy Suites Boston Logan Airport\n"
       ]
      },
      {
       "output_type": "stream",
       "stream": "stderr",
       "text": [
        "INFO:__main__:Hotel name: Embassy Suites Boston Logan Airport\n"
       ]
      },
      {
       "output_type": "stream",
       "stream": "stderr",
       "text": [
        "[2015-04-04 11:57:37,550] Stars: 4\n"
       ]
      },
      {
       "output_type": "stream",
       "stream": "stderr",
       "text": [
        "INFO:__main__:Stars: 4\n"
       ]
      },
      {
       "output_type": "stream",
       "stream": "stderr",
       "text": [
        "[2015-04-04 11:57:37,555] Number of reviews: 1,320 reviews \n"
       ]
      },
      {
       "output_type": "stream",
       "stream": "stderr",
       "text": [
        "INFO:__main__:Number of reviews: 1,320 reviews \n"
       ]
      },
      {
       "output_type": "stream",
       "stream": "stderr",
       "text": [
        "[2015-04-04 11:57:37,556] Hotel name: The Liberty Hotel\n"
       ]
      },
      {
       "output_type": "stream",
       "stream": "stderr",
       "text": [
        "INFO:__main__:Hotel name: The Liberty Hotel\n"
       ]
      },
      {
       "output_type": "stream",
       "stream": "stderr",
       "text": [
        "[2015-04-04 11:57:37,559] Stars: 4\n"
       ]
      },
      {
       "output_type": "stream",
       "stream": "stderr",
       "text": [
        "INFO:__main__:Stars: 4\n"
       ]
      },
      {
       "output_type": "stream",
       "stream": "stderr",
       "text": [
        "[2015-04-04 11:57:37,564] Number of reviews: 743 reviews \n"
       ]
      },
      {
       "output_type": "stream",
       "stream": "stderr",
       "text": [
        "INFO:__main__:Number of reviews: 743 reviews \n"
       ]
      },
      {
       "output_type": "stream",
       "stream": "stderr",
       "text": [
        "[2015-04-04 11:57:37,565] Hotel name: The Midtown Hotel\n"
       ]
      },
      {
       "output_type": "stream",
       "stream": "stderr",
       "text": [
        "INFO:__main__:Hotel name: The Midtown Hotel\n"
       ]
      },
      {
       "output_type": "stream",
       "stream": "stderr",
       "text": [
        "[2015-04-04 11:57:37,568] Stars: 3.5\n"
       ]
      },
      {
       "output_type": "stream",
       "stream": "stderr",
       "text": [
        "INFO:__main__:Stars: 3.5\n"
       ]
      },
      {
       "output_type": "stream",
       "stream": "stderr",
       "text": [
        "[2015-04-04 11:57:37,573] Number of reviews: 1,377 reviews \n"
       ]
      },
      {
       "output_type": "stream",
       "stream": "stderr",
       "text": [
        "INFO:__main__:Number of reviews: 1,377 reviews \n"
       ]
      },
      {
       "output_type": "stream",
       "stream": "stderr",
       "text": [
        "[2015-04-04 11:57:37,574] Hotel name: The Verb Hotel\n"
       ]
      },
      {
       "output_type": "stream",
       "stream": "stderr",
       "text": [
        "INFO:__main__:Hotel name: The Verb Hotel\n"
       ]
      },
      {
       "output_type": "stream",
       "stream": "stderr",
       "text": [
        "[2015-04-04 11:57:37,578] Stars: 4.5\n"
       ]
      },
      {
       "output_type": "stream",
       "stream": "stderr",
       "text": [
        "INFO:__main__:Stars: 4.5\n"
       ]
      },
      {
       "output_type": "stream",
       "stream": "stderr",
       "text": [
        "[2015-04-04 11:57:37,583] Number of reviews: 244 reviews \n"
       ]
      },
      {
       "output_type": "stream",
       "stream": "stderr",
       "text": [
        "INFO:__main__:Number of reviews: 244 reviews \n"
       ]
      },
      {
       "output_type": "stream",
       "stream": "stderr",
       "text": [
        "[2015-04-04 11:57:37,584] Hotel name: Copley Square Hotel\n"
       ]
      },
      {
       "output_type": "stream",
       "stream": "stderr",
       "text": [
        "INFO:__main__:Hotel name: Copley Square Hotel\n"
       ]
      },
      {
       "output_type": "stream",
       "stream": "stderr",
       "text": [
        "[2015-04-04 11:57:37,587] Stars: 4.5\n"
       ]
      },
      {
       "output_type": "stream",
       "stream": "stderr",
       "text": [
        "INFO:__main__:Stars: 4.5\n"
       ]
      },
      {
       "output_type": "stream",
       "stream": "stderr",
       "text": [
        "[2015-04-04 11:57:37,591] Number of reviews: 1,042 reviews \n"
       ]
      },
      {
       "output_type": "stream",
       "stream": "stderr",
       "text": [
        "INFO:__main__:Number of reviews: 1,042 reviews \n"
       ]
      },
      {
       "output_type": "stream",
       "stream": "stderr",
       "text": [
        "[2015-04-04 11:57:37,592] Hotel name: Harborside Inn\n"
       ]
      },
      {
       "output_type": "stream",
       "stream": "stderr",
       "text": [
        "INFO:__main__:Hotel name: Harborside Inn\n"
       ]
      },
      {
       "output_type": "stream",
       "stream": "stderr",
       "text": [
        "[2015-04-04 11:57:37,596] Stars: 4\n"
       ]
      },
      {
       "output_type": "stream",
       "stream": "stderr",
       "text": [
        "INFO:__main__:Stars: 4\n"
       ]
      },
      {
       "output_type": "stream",
       "stream": "stderr",
       "text": [
        "[2015-04-04 11:57:37,600] Number of reviews: 1,034 reviews \n"
       ]
      },
      {
       "output_type": "stream",
       "stream": "stderr",
       "text": [
        "INFO:__main__:Number of reviews: 1,034 reviews \n"
       ]
      },
      {
       "output_type": "stream",
       "stream": "stderr",
       "text": [
        "[2015-04-04 11:57:37,601] Hotel name: Taj Boston\n"
       ]
      },
      {
       "output_type": "stream",
       "stream": "stderr",
       "text": [
        "INFO:__main__:Hotel name: Taj Boston\n"
       ]
      },
      {
       "output_type": "stream",
       "stream": "stderr",
       "text": [
        "[2015-04-04 11:57:37,604] Stars: 4\n"
       ]
      },
      {
       "output_type": "stream",
       "stream": "stderr",
       "text": [
        "INFO:__main__:Stars: 4\n"
       ]
      },
      {
       "output_type": "stream",
       "stream": "stderr",
       "text": [
        "[2015-04-04 11:57:37,608] Number of reviews: 1,145 reviews \n"
       ]
      },
      {
       "output_type": "stream",
       "stream": "stderr",
       "text": [
        "INFO:__main__:Number of reviews: 1,145 reviews \n"
       ]
      },
      {
       "output_type": "stream",
       "stream": "stderr",
       "text": [
        "[2015-04-04 11:57:37,610] Hotel name: Hilton Boston Back Bay\n"
       ]
      },
      {
       "output_type": "stream",
       "stream": "stderr",
       "text": [
        "INFO:__main__:Hotel name: Hilton Boston Back Bay\n"
       ]
      },
      {
       "output_type": "stream",
       "stream": "stderr",
       "text": [
        "[2015-04-04 11:57:37,613] Stars: 4\n"
       ]
      },
      {
       "output_type": "stream",
       "stream": "stderr",
       "text": [
        "INFO:__main__:Stars: 4\n"
       ]
      },
      {
       "output_type": "stream",
       "stream": "stderr",
       "text": [
        "[2015-04-04 11:57:37,618] Number of reviews: 1,706 reviews \n"
       ]
      },
      {
       "output_type": "stream",
       "stream": "stderr",
       "text": [
        "INFO:__main__:Number of reviews: 1,706 reviews \n"
       ]
      },
      {
       "output_type": "stream",
       "stream": "stderr",
       "text": [
        "[2015-04-04 11:57:37,619] Hotel name: The Fairmont Copley Plaza, Boston\n"
       ]
      },
      {
       "output_type": "stream",
       "stream": "stderr",
       "text": [
        "INFO:__main__:Hotel name: The Fairmont Copley Plaza, Boston\n"
       ]
      },
      {
       "output_type": "stream",
       "stream": "stderr",
       "text": [
        "[2015-04-04 11:57:37,623] Stars: 4.5\n"
       ]
      },
      {
       "output_type": "stream",
       "stream": "stderr",
       "text": [
        "INFO:__main__:Stars: 4.5\n"
       ]
      },
      {
       "output_type": "stream",
       "stream": "stderr",
       "text": [
        "[2015-04-04 11:57:37,627] Number of reviews: 1,611 reviews \n"
       ]
      },
      {
       "output_type": "stream",
       "stream": "stderr",
       "text": [
        "INFO:__main__:Number of reviews: 1,611 reviews \n"
       ]
      },
      {
       "output_type": "stream",
       "stream": "stderr",
       "text": [
        "[2015-04-04 11:57:37,629] Hotel name: The Langham, Boston\n"
       ]
      },
      {
       "output_type": "stream",
       "stream": "stderr",
       "text": [
        "INFO:__main__:Hotel name: The Langham, Boston\n"
       ]
      },
      {
       "output_type": "stream",
       "stream": "stderr",
       "text": [
        "[2015-04-04 11:57:37,632] Stars: 4.5\n"
       ]
      },
      {
       "output_type": "stream",
       "stream": "stderr",
       "text": [
        "INFO:__main__:Stars: 4.5\n"
       ]
      },
      {
       "output_type": "stream",
       "stream": "stderr",
       "text": [
        "[2015-04-04 11:57:37,637] Number of reviews: 1,410 reviews \n"
       ]
      },
      {
       "output_type": "stream",
       "stream": "stderr",
       "text": [
        "INFO:__main__:Number of reviews: 1,410 reviews \n"
       ]
      },
      {
       "output_type": "stream",
       "stream": "stderr",
       "text": [
        "[2015-04-04 11:57:37,638] Hotel name: Millennium Bostonian Hotel\n"
       ]
      },
      {
       "output_type": "stream",
       "stream": "stderr",
       "text": [
        "INFO:__main__:Hotel name: Millennium Bostonian Hotel\n"
       ]
      },
      {
       "output_type": "stream",
       "stream": "stderr",
       "text": [
        "[2015-04-04 11:57:37,641] Stars: 4\n"
       ]
      },
      {
       "output_type": "stream",
       "stream": "stderr",
       "text": [
        "INFO:__main__:Stars: 4\n"
       ]
      },
      {
       "output_type": "stream",
       "stream": "stderr",
       "text": [
        "[2015-04-04 11:57:37,645] Number of reviews: 1,019 reviews \n"
       ]
      },
      {
       "output_type": "stream",
       "stream": "stderr",
       "text": [
        "INFO:__main__:Number of reviews: 1,019 reviews \n"
       ]
      },
      {
       "output_type": "stream",
       "stream": "stderr",
       "text": [
        "[2015-04-04 11:57:37,647] Hotel name: Marriott's Custom House\n"
       ]
      },
      {
       "output_type": "stream",
       "stream": "stderr",
       "text": [
        "INFO:__main__:Hotel name: Marriott's Custom House\n"
       ]
      },
      {
       "output_type": "stream",
       "stream": "stderr",
       "text": [
        "[2015-04-04 11:57:37,651] Stars: 4.5\n"
       ]
      },
      {
       "output_type": "stream",
       "stream": "stderr",
       "text": [
        "INFO:__main__:Stars: 4.5\n"
       ]
      },
      {
       "output_type": "stream",
       "stream": "stderr",
       "text": [
        "[2015-04-04 11:57:37,655] Number of reviews: 561 reviews \n"
       ]
      },
      {
       "output_type": "stream",
       "stream": "stderr",
       "text": [
        "INFO:__main__:Number of reviews: 561 reviews \n"
       ]
      },
      {
       "output_type": "stream",
       "stream": "stderr",
       "text": [
        "[2015-04-04 11:57:37,656] Hotel name: InterContinental Boston\n"
       ]
      },
      {
       "output_type": "stream",
       "stream": "stderr",
       "text": [
        "INFO:__main__:Hotel name: InterContinental Boston\n"
       ]
      },
      {
       "output_type": "stream",
       "stream": "stderr",
       "text": [
        "[2015-04-04 11:57:37,659] Stars: 4.5\n"
       ]
      },
      {
       "output_type": "stream",
       "stream": "stderr",
       "text": [
        "INFO:__main__:Stars: 4.5\n"
       ]
      },
      {
       "output_type": "stream",
       "stream": "stderr",
       "text": [
        "[2015-04-04 11:57:37,664] Number of reviews: 1,897 reviews \n"
       ]
      },
      {
       "output_type": "stream",
       "stream": "stderr",
       "text": [
        "INFO:__main__:Number of reviews: 1,897 reviews \n"
       ]
      },
      {
       "output_type": "stream",
       "stream": "stderr",
       "text": [
        "[2015-04-04 11:57:37,665] Hotel name: Boston Hotel Buckminster\n"
       ]
      },
      {
       "output_type": "stream",
       "stream": "stderr",
       "text": [
        "INFO:__main__:Hotel name: Boston Hotel Buckminster\n"
       ]
      },
      {
       "output_type": "stream",
       "stream": "stderr",
       "text": [
        "[2015-04-04 11:57:37,669] Stars: 3.5\n"
       ]
      },
      {
       "output_type": "stream",
       "stream": "stderr",
       "text": [
        "INFO:__main__:Stars: 3.5\n"
       ]
      },
      {
       "output_type": "stream",
       "stream": "stderr",
       "text": [
        "[2015-04-04 11:57:37,673] Number of reviews: 827 reviews \n"
       ]
      },
      {
       "output_type": "stream",
       "stream": "stderr",
       "text": [
        "INFO:__main__:Number of reviews: 827 reviews \n"
       ]
      },
      {
       "output_type": "stream",
       "stream": "stderr",
       "text": [
        "[2015-04-04 11:57:37,675] Hotel name: Sheraton Boston Hotel\n"
       ]
      },
      {
       "output_type": "stream",
       "stream": "stderr",
       "text": [
        "INFO:__main__:Hotel name: Sheraton Boston Hotel\n"
       ]
      },
      {
       "output_type": "stream",
       "stream": "stderr",
       "text": [
        "[2015-04-04 11:57:37,679] Stars: 4\n"
       ]
      },
      {
       "output_type": "stream",
       "stream": "stderr",
       "text": [
        "INFO:__main__:Stars: 4\n"
       ]
      },
      {
       "output_type": "stream",
       "stream": "stderr",
       "text": [
        "[2015-04-04 11:57:37,684] Number of reviews: 531 reviews \n"
       ]
      },
      {
       "output_type": "stream",
       "stream": "stderr",
       "text": [
        "INFO:__main__:Number of reviews: 531 reviews \n"
       ]
      },
      {
       "output_type": "stream",
       "stream": "stderr",
       "text": [
        "[2015-04-04 11:57:37,686] Hotel name: Residence Inn Boston Back Bay / Fenway\n"
       ]
      },
      {
       "output_type": "stream",
       "stream": "stderr",
       "text": [
        "INFO:__main__:Hotel name: Residence Inn Boston Back Bay / Fenway\n"
       ]
      },
      {
       "output_type": "stream",
       "stream": "stderr",
       "text": [
        "[2015-04-04 11:57:37,690] Stars: 4.5\n"
       ]
      },
      {
       "output_type": "stream",
       "stream": "stderr",
       "text": [
        "INFO:__main__:Stars: 4.5\n"
       ]
      },
      {
       "output_type": "stream",
       "stream": "stderr",
       "text": [
        "[2015-04-04 11:57:37,694] Number of reviews: 518 reviews \n"
       ]
      },
      {
       "output_type": "stream",
       "stream": "stderr",
       "text": [
        "INFO:__main__:Number of reviews: 518 reviews \n"
       ]
      },
      {
       "output_type": "stream",
       "stream": "stderr",
       "text": [
        "[2015-04-04 11:57:37,696] Hotel name: Boston Marriott Copley Place\n"
       ]
      },
      {
       "output_type": "stream",
       "stream": "stderr",
       "text": [
        "INFO:__main__:Hotel name: Boston Marriott Copley Place\n"
       ]
      },
      {
       "output_type": "stream",
       "stream": "stderr",
       "text": [
        "[2015-04-04 11:57:37,700] Stars: 4\n"
       ]
      },
      {
       "output_type": "stream",
       "stream": "stderr",
       "text": [
        "INFO:__main__:Stars: 4\n"
       ]
      },
      {
       "output_type": "stream",
       "stream": "stderr",
       "text": [
        "[2015-04-04 11:57:37,704] Number of reviews: 2,040 reviews \n"
       ]
      },
      {
       "output_type": "stream",
       "stream": "stderr",
       "text": [
        "INFO:__main__:Number of reviews: 2,040 reviews \n"
       ]
      },
      {
       "output_type": "stream",
       "stream": "stderr",
       "text": [
        "[2015-04-04 11:57:37,706] Hotel name: Loews Boston Hotel\n"
       ]
      },
      {
       "output_type": "stream",
       "stream": "stderr",
       "text": [
        "INFO:__main__:Hotel name: Loews Boston Hotel\n"
       ]
      },
      {
       "output_type": "stream",
       "stream": "stderr",
       "text": [
        "[2015-04-04 11:57:37,710] Stars: 4.5\n"
       ]
      },
      {
       "output_type": "stream",
       "stream": "stderr",
       "text": [
        "INFO:__main__:Stars: 4.5\n"
       ]
      },
      {
       "output_type": "stream",
       "stream": "stderr",
       "text": [
        "[2015-04-04 11:57:37,714] Number of reviews: 768 reviews \n"
       ]
      },
      {
       "output_type": "stream",
       "stream": "stderr",
       "text": [
        "INFO:__main__:Number of reviews: 768 reviews \n"
       ]
      },
      {
       "output_type": "stream",
       "stream": "stderr",
       "text": [
        "[2015-04-04 11:57:43,288] #################################### Option 2 ######################################\n"
       ]
      },
      {
       "output_type": "stream",
       "stream": "stderr",
       "text": [
        "INFO:__main__:#################################### Option 2 ######################################\n"
       ]
      },
      {
       "output_type": "stream",
       "stream": "stderr",
       "text": [
        "[2015-04-04 11:57:43,443] #################################### Option 3 ######################################\n"
       ]
      },
      {
       "output_type": "stream",
       "stream": "stderr",
       "text": [
        "INFO:__main__:#################################### Option 3 ######################################\n"
       ]
      },
      {
       "output_type": "stream",
       "stream": "stderr",
       "text": [
        "[2015-04-04 11:57:43,604] Hotel name: Hyatt Regency Boston\n"
       ]
      },
      {
       "output_type": "stream",
       "stream": "stderr",
       "text": [
        "INFO:__main__:Hotel name: Hyatt Regency Boston\n"
       ]
      },
      {
       "output_type": "stream",
       "stream": "stderr",
       "text": [
        "[2015-04-04 11:57:43,605] Stars: 4\n"
       ]
      },
      {
       "output_type": "stream",
       "stream": "stderr",
       "text": [
        "INFO:__main__:Stars: 4\n"
       ]
      },
      {
       "output_type": "stream",
       "stream": "stderr",
       "text": [
        "[2015-04-04 11:57:43,607] Number of reviews: 1,931 reviews \n"
       ]
      },
      {
       "output_type": "stream",
       "stream": "stderr",
       "text": [
        "INFO:__main__:Number of reviews: 1,931 reviews \n"
       ]
      },
      {
       "output_type": "stream",
       "stream": "stderr",
       "text": [
        "[2015-04-04 11:57:43,609] Hotel name: W Boston\n"
       ]
      },
      {
       "output_type": "stream",
       "stream": "stderr",
       "text": [
        "INFO:__main__:Hotel name: W Boston\n"
       ]
      },
      {
       "output_type": "stream",
       "stream": "stderr",
       "text": [
        "[2015-04-04 11:57:43,610] Stars: 4\n"
       ]
      },
      {
       "output_type": "stream",
       "stream": "stderr",
       "text": [
        "INFO:__main__:Stars: 4\n"
       ]
      },
      {
       "output_type": "stream",
       "stream": "stderr",
       "text": [
        "[2015-04-04 11:57:43,612] Number of reviews: 863 reviews \n"
       ]
      },
      {
       "output_type": "stream",
       "stream": "stderr",
       "text": [
        "INFO:__main__:Number of reviews: 863 reviews \n"
       ]
      },
      {
       "output_type": "stream",
       "stream": "stderr",
       "text": [
        "[2015-04-04 11:57:43,613] Hotel name: DoubleTree by Hilton Hotel Boston - Downtown\n"
       ]
      },
      {
       "output_type": "stream",
       "stream": "stderr",
       "text": [
        "INFO:__main__:Hotel name: DoubleTree by Hilton Hotel Boston - Downtown\n"
       ]
      },
      {
       "output_type": "stream",
       "stream": "stderr",
       "text": [
        "[2015-04-04 11:57:43,615] Stars: 4\n"
       ]
      },
      {
       "output_type": "stream",
       "stream": "stderr",
       "text": [
        "INFO:__main__:Stars: 4\n"
       ]
      },
      {
       "output_type": "stream",
       "stream": "stderr",
       "text": [
        "[2015-04-04 11:57:43,618] Number of reviews: 469 reviews \n"
       ]
      },
      {
       "output_type": "stream",
       "stream": "stderr",
       "text": [
        "INFO:__main__:Number of reviews: 469 reviews \n"
       ]
      },
      {
       "output_type": "stream",
       "stream": "stderr",
       "text": [
        "[2015-04-04 11:57:43,620] Hotel name: Colonnade Hotel\n"
       ]
      },
      {
       "output_type": "stream",
       "stream": "stderr",
       "text": [
        "INFO:__main__:Hotel name: Colonnade Hotel\n"
       ]
      },
      {
       "output_type": "stream",
       "stream": "stderr",
       "text": [
        "[2015-04-04 11:57:43,623] Stars: 4.5\n"
       ]
      },
      {
       "output_type": "stream",
       "stream": "stderr",
       "text": [
        "INFO:__main__:Stars: 4.5\n"
       ]
      },
      {
       "output_type": "stream",
       "stream": "stderr",
       "text": [
        "[2015-04-04 11:57:43,625] Number of reviews: 2,061 reviews \n"
       ]
      },
      {
       "output_type": "stream",
       "stream": "stderr",
       "text": [
        "INFO:__main__:Number of reviews: 2,061 reviews \n"
       ]
      },
      {
       "output_type": "stream",
       "stream": "stderr",
       "text": [
        "[2015-04-04 11:57:43,626] Hotel name: Chandler Inn\n"
       ]
      },
      {
       "output_type": "stream",
       "stream": "stderr",
       "text": [
        "INFO:__main__:Hotel name: Chandler Inn\n"
       ]
      },
      {
       "output_type": "stream",
       "stream": "stderr",
       "text": [
        "[2015-04-04 11:57:43,629] Stars: 4\n"
       ]
      },
      {
       "output_type": "stream",
       "stream": "stderr",
       "text": [
        "INFO:__main__:Stars: 4\n"
       ]
      },
      {
       "output_type": "stream",
       "stream": "stderr",
       "text": [
        "[2015-04-04 11:57:43,630] Number of reviews: 858 reviews \n"
       ]
      },
      {
       "output_type": "stream",
       "stream": "stderr",
       "text": [
        "INFO:__main__:Number of reviews: 858 reviews \n"
       ]
      },
      {
       "output_type": "stream",
       "stream": "stderr",
       "text": [
        "[2015-04-04 11:57:43,631] Hotel name: Hotel 140\n"
       ]
      },
      {
       "output_type": "stream",
       "stream": "stderr",
       "text": [
        "INFO:__main__:Hotel name: Hotel 140\n"
       ]
      },
      {
       "output_type": "stream",
       "stream": "stderr",
       "text": [
        "[2015-04-04 11:57:43,633] Stars: 4\n"
       ]
      },
      {
       "output_type": "stream",
       "stream": "stderr",
       "text": [
        "INFO:__main__:Stars: 4\n"
       ]
      },
      {
       "output_type": "stream",
       "stream": "stderr",
       "text": [
        "[2015-04-04 11:57:43,634] Number of reviews: 967 reviews \n"
       ]
      },
      {
       "output_type": "stream",
       "stream": "stderr",
       "text": [
        "INFO:__main__:Number of reviews: 967 reviews \n"
       ]
      },
      {
       "output_type": "stream",
       "stream": "stderr",
       "text": [
        "[2015-04-04 11:57:43,636] Hotel name: The Inn at Longwood Medical\n"
       ]
      },
      {
       "output_type": "stream",
       "stream": "stderr",
       "text": [
        "INFO:__main__:Hotel name: The Inn at Longwood Medical\n"
       ]
      },
      {
       "output_type": "stream",
       "stream": "stderr",
       "text": [
        "[2015-04-04 11:57:43,638] Stars: 4\n"
       ]
      },
      {
       "output_type": "stream",
       "stream": "stderr",
       "text": [
        "INFO:__main__:Stars: 4\n"
       ]
      },
      {
       "output_type": "stream",
       "stream": "stderr",
       "text": [
        "[2015-04-04 11:57:43,640] Number of reviews: 686 reviews \n"
       ]
      },
      {
       "output_type": "stream",
       "stream": "stderr",
       "text": [
        "INFO:__main__:Number of reviews: 686 reviews \n"
       ]
      },
      {
       "output_type": "stream",
       "stream": "stderr",
       "text": [
        "[2015-04-04 11:57:43,642] Hotel name: Hilton Boston Logan Airport\n"
       ]
      },
      {
       "output_type": "stream",
       "stream": "stderr",
       "text": [
        "INFO:__main__:Hotel name: Hilton Boston Logan Airport\n"
       ]
      },
      {
       "output_type": "stream",
       "stream": "stderr",
       "text": [
        "[2015-04-04 11:57:43,643] Stars: 4\n"
       ]
      },
      {
       "output_type": "stream",
       "stream": "stderr",
       "text": [
        "INFO:__main__:Stars: 4\n"
       ]
      },
      {
       "output_type": "stream",
       "stream": "stderr",
       "text": [
        "[2015-04-04 11:57:43,645] Number of reviews: 1,968 reviews \n"
       ]
      },
      {
       "output_type": "stream",
       "stream": "stderr",
       "text": [
        "INFO:__main__:Number of reviews: 1,968 reviews \n"
       ]
      },
      {
       "output_type": "stream",
       "stream": "stderr",
       "text": [
        "[2015-04-04 11:57:43,646] Hotel name: Hilton Boston Downtown / Faneuil Hall\n"
       ]
      },
      {
       "output_type": "stream",
       "stream": "stderr",
       "text": [
        "INFO:__main__:Hotel name: Hilton Boston Downtown / Faneuil Hall\n"
       ]
      },
      {
       "output_type": "stream",
       "stream": "stderr",
       "text": [
        "[2015-04-04 11:57:43,648] Stars: 4\n"
       ]
      },
      {
       "output_type": "stream",
       "stream": "stderr",
       "text": [
        "INFO:__main__:Stars: 4\n"
       ]
      },
      {
       "output_type": "stream",
       "stream": "stderr",
       "text": [
        "[2015-04-04 11:57:43,651] Number of reviews: 872 reviews \n"
       ]
      },
      {
       "output_type": "stream",
       "stream": "stderr",
       "text": [
        "INFO:__main__:Number of reviews: 872 reviews \n"
       ]
      },
      {
       "output_type": "stream",
       "stream": "stderr",
       "text": [
        "[2015-04-04 11:57:43,653] Hotel name: Battery Wharf Hotel, Boston Waterfront\n"
       ]
      },
      {
       "output_type": "stream",
       "stream": "stderr",
       "text": [
        "INFO:__main__:Hotel name: Battery Wharf Hotel, Boston Waterfront\n"
       ]
      },
      {
       "output_type": "stream",
       "stream": "stderr",
       "text": [
        "[2015-04-04 11:57:43,655] Stars: 4.5\n"
       ]
      },
      {
       "output_type": "stream",
       "stream": "stderr",
       "text": [
        "INFO:__main__:Stars: 4.5\n"
       ]
      },
      {
       "output_type": "stream",
       "stream": "stderr",
       "text": [
        "[2015-04-04 11:57:43,657] Number of reviews: 864 reviews \n"
       ]
      },
      {
       "output_type": "stream",
       "stream": "stderr",
       "text": [
        "INFO:__main__:Number of reviews: 864 reviews \n"
       ]
      },
      {
       "output_type": "stream",
       "stream": "stderr",
       "text": [
        "[2015-04-04 11:57:43,659] Hotel name: Boston Marriott Long Wharf\n"
       ]
      },
      {
       "output_type": "stream",
       "stream": "stderr",
       "text": [
        "INFO:__main__:Hotel name: Boston Marriott Long Wharf\n"
       ]
      },
      {
       "output_type": "stream",
       "stream": "stderr",
       "text": [
        "[2015-04-04 11:57:43,661] Stars: 4\n"
       ]
      },
      {
       "output_type": "stream",
       "stream": "stderr",
       "text": [
        "INFO:__main__:Stars: 4\n"
       ]
      },
      {
       "output_type": "stream",
       "stream": "stderr",
       "text": [
        "[2015-04-04 11:57:43,663] Number of reviews: 1,288 reviews \n"
       ]
      },
      {
       "output_type": "stream",
       "stream": "stderr",
       "text": [
        "INFO:__main__:Number of reviews: 1,288 reviews \n"
       ]
      },
      {
       "output_type": "stream",
       "stream": "stderr",
       "text": [
        "[2015-04-04 11:57:43,664] Hotel name: Onyx Hotel - a Kimpton Hotel\n"
       ]
      },
      {
       "output_type": "stream",
       "stream": "stderr",
       "text": [
        "INFO:__main__:Hotel name: Onyx Hotel - a Kimpton Hotel\n"
       ]
      },
      {
       "output_type": "stream",
       "stream": "stderr",
       "text": [
        "[2015-04-04 11:57:43,666] Stars: 4\n"
       ]
      },
      {
       "output_type": "stream",
       "stream": "stderr",
       "text": [
        "INFO:__main__:Stars: 4\n"
       ]
      },
      {
       "output_type": "stream",
       "stream": "stderr",
       "text": [
        "[2015-04-04 11:57:43,668] Number of reviews: 981 reviews \n"
       ]
      },
      {
       "output_type": "stream",
       "stream": "stderr",
       "text": [
        "INFO:__main__:Number of reviews: 981 reviews \n"
       ]
      },
      {
       "output_type": "stream",
       "stream": "stderr",
       "text": [
        "[2015-04-04 11:57:43,669] Hotel name: Hampton Inn & Suites Boston Crosstown Center\n"
       ]
      },
      {
       "output_type": "stream",
       "stream": "stderr",
       "text": [
        "INFO:__main__:Hotel name: Hampton Inn & Suites Boston Crosstown Center\n"
       ]
      },
      {
       "output_type": "stream",
       "stream": "stderr",
       "text": [
        "[2015-04-04 11:57:43,672] Stars: 4\n"
       ]
      },
      {
       "output_type": "stream",
       "stream": "stderr",
       "text": [
        "INFO:__main__:Stars: 4\n"
       ]
      },
      {
       "output_type": "stream",
       "stream": "stderr",
       "text": [
        "[2015-04-04 11:57:43,674] Number of reviews: 567 reviews \n"
       ]
      },
      {
       "output_type": "stream",
       "stream": "stderr",
       "text": [
        "INFO:__main__:Number of reviews: 567 reviews \n"
       ]
      },
      {
       "output_type": "stream",
       "stream": "stderr",
       "text": [
        "[2015-04-04 11:57:43,675] Hotel name: Holiday Inn Express Boston\n"
       ]
      },
      {
       "output_type": "stream",
       "stream": "stderr",
       "text": [
        "INFO:__main__:Hotel name: Holiday Inn Express Boston\n"
       ]
      },
      {
       "output_type": "stream",
       "stream": "stderr",
       "text": [
        "[2015-04-04 11:57:43,677] Stars: 4\n"
       ]
      },
      {
       "output_type": "stream",
       "stream": "stderr",
       "text": [
        "INFO:__main__:Stars: 4\n"
       ]
      },
      {
       "output_type": "stream",
       "stream": "stderr",
       "text": [
        "[2015-04-04 11:57:43,679] Number of reviews: 536 reviews \n"
       ]
      },
      {
       "output_type": "stream",
       "stream": "stderr",
       "text": [
        "INFO:__main__:Number of reviews: 536 reviews \n"
       ]
      },
      {
       "output_type": "stream",
       "stream": "stderr",
       "text": [
        "[2015-04-04 11:57:43,681] Hotel name: Four Seasons Hotel Boston\n"
       ]
      },
      {
       "output_type": "stream",
       "stream": "stderr",
       "text": [
        "INFO:__main__:Hotel name: Four Seasons Hotel Boston\n"
       ]
      },
      {
       "output_type": "stream",
       "stream": "stderr",
       "text": [
        "[2015-04-04 11:57:43,683] Stars: 4.5\n"
       ]
      },
      {
       "output_type": "stream",
       "stream": "stderr",
       "text": [
        "INFO:__main__:Stars: 4.5\n"
       ]
      },
      {
       "output_type": "stream",
       "stream": "stderr",
       "text": [
        "[2015-04-04 11:57:43,685] Number of reviews: 1,032 reviews \n"
       ]
      },
      {
       "output_type": "stream",
       "stream": "stderr",
       "text": [
        "INFO:__main__:Number of reviews: 1,032 reviews \n"
       ]
      },
      {
       "output_type": "stream",
       "stream": "stderr",
       "text": [
        "[2015-04-04 11:57:43,686] Hotel name: The Boxer Boston\n"
       ]
      },
      {
       "output_type": "stream",
       "stream": "stderr",
       "text": [
        "INFO:__main__:Hotel name: The Boxer Boston\n"
       ]
      },
      {
       "output_type": "stream",
       "stream": "stderr",
       "text": [
        "[2015-04-04 11:57:43,689] Stars: 4\n"
       ]
      },
      {
       "output_type": "stream",
       "stream": "stderr",
       "text": [
        "INFO:__main__:Stars: 4\n"
       ]
      },
      {
       "output_type": "stream",
       "stream": "stderr",
       "text": [
        "[2015-04-04 11:57:43,691] Number of reviews: 368 reviews \n"
       ]
      },
      {
       "output_type": "stream",
       "stream": "stderr",
       "text": [
        "INFO:__main__:Number of reviews: 368 reviews \n"
       ]
      },
      {
       "output_type": "stream",
       "stream": "stderr",
       "text": [
        "[2015-04-04 11:57:43,692] Hotel name: Residence Inn by Marriott Boston Harbor on Tudor Wharf\n"
       ]
      },
      {
       "output_type": "stream",
       "stream": "stderr",
       "text": [
        "INFO:__main__:Hotel name: Residence Inn by Marriott Boston Harbor on Tudor Wharf\n"
       ]
      },
      {
       "output_type": "stream",
       "stream": "stderr",
       "text": [
        "[2015-04-04 11:57:43,694] Stars: 4.5\n"
       ]
      },
      {
       "output_type": "stream",
       "stream": "stderr",
       "text": [
        "INFO:__main__:Stars: 4.5\n"
       ]
      },
      {
       "output_type": "stream",
       "stream": "stderr",
       "text": [
        "[2015-04-04 11:57:43,696] Number of reviews: 519 reviews \n"
       ]
      },
      {
       "output_type": "stream",
       "stream": "stderr",
       "text": [
        "INFO:__main__:Number of reviews: 519 reviews \n"
       ]
      },
      {
       "output_type": "stream",
       "stream": "stderr",
       "text": [
        "[2015-04-04 11:57:43,698] Hotel name: DoubleTree Club by Hilton Hotel Boston Bayside\n"
       ]
      },
      {
       "output_type": "stream",
       "stream": "stderr",
       "text": [
        "INFO:__main__:Hotel name: DoubleTree Club by Hilton Hotel Boston Bayside\n"
       ]
      },
      {
       "output_type": "stream",
       "stream": "stderr",
       "text": [
        "[2015-04-04 11:57:43,700] Stars: 4\n"
       ]
      },
      {
       "output_type": "stream",
       "stream": "stderr",
       "text": [
        "INFO:__main__:Stars: 4\n"
       ]
      },
      {
       "output_type": "stream",
       "stream": "stderr",
       "text": [
        "[2015-04-04 11:57:43,701] Number of reviews: 946 reviews \n"
       ]
      },
      {
       "output_type": "stream",
       "stream": "stderr",
       "text": [
        "INFO:__main__:Number of reviews: 946 reviews \n"
       ]
      },
      {
       "output_type": "stream",
       "stream": "stderr",
       "text": [
        "[2015-04-04 11:57:43,702] Hotel name: Wyndham Boston Beacon Hill\n"
       ]
      },
      {
       "output_type": "stream",
       "stream": "stderr",
       "text": [
        "INFO:__main__:Hotel name: Wyndham Boston Beacon Hill\n"
       ]
      },
      {
       "output_type": "stream",
       "stream": "stderr",
       "text": [
        "[2015-04-04 11:57:43,704] Stars: 4\n"
       ]
      },
      {
       "output_type": "stream",
       "stream": "stderr",
       "text": [
        "INFO:__main__:Stars: 4\n"
       ]
      },
      {
       "output_type": "stream",
       "stream": "stderr",
       "text": [
        "[2015-04-04 11:57:43,706] Number of reviews: 1,035 reviews \n"
       ]
      },
      {
       "output_type": "stream",
       "stream": "stderr",
       "text": [
        "INFO:__main__:Number of reviews: 1,035 reviews \n"
       ]
      },
      {
       "output_type": "stream",
       "stream": "stderr",
       "text": [
        "[2015-04-04 11:57:43,708] Hotel name: BEST WESTERN University Hotel Boston-Brighton\n"
       ]
      },
      {
       "output_type": "stream",
       "stream": "stderr",
       "text": [
        "INFO:__main__:Hotel name: BEST WESTERN University Hotel Boston-Brighton\n"
       ]
      },
      {
       "output_type": "stream",
       "stream": "stderr",
       "text": [
        "[2015-04-04 11:57:43,709] Stars: 3.5\n"
       ]
      },
      {
       "output_type": "stream",
       "stream": "stderr",
       "text": [
        "INFO:__main__:Stars: 3.5\n"
       ]
      },
      {
       "output_type": "stream",
       "stream": "stderr",
       "text": [
        "[2015-04-04 11:57:43,711] Number of reviews: 360 reviews \n"
       ]
      },
      {
       "output_type": "stream",
       "stream": "stderr",
       "text": [
        "INFO:__main__:Number of reviews: 360 reviews \n"
       ]
      },
      {
       "output_type": "stream",
       "stream": "stderr",
       "text": [
        "[2015-04-04 11:57:43,713] Hotel name: Eliot Hotel\n"
       ]
      },
      {
       "output_type": "stream",
       "stream": "stderr",
       "text": [
        "INFO:__main__:Hotel name: Eliot Hotel\n"
       ]
      },
      {
       "output_type": "stream",
       "stream": "stderr",
       "text": [
        "[2015-04-04 11:57:43,714] Stars: 4.5\n"
       ]
      },
      {
       "output_type": "stream",
       "stream": "stderr",
       "text": [
        "INFO:__main__:Stars: 4.5\n"
       ]
      },
      {
       "output_type": "stream",
       "stream": "stderr",
       "text": [
        "[2015-04-04 11:57:43,716] Number of reviews: 746 reviews \n"
       ]
      },
      {
       "output_type": "stream",
       "stream": "stderr",
       "text": [
        "INFO:__main__:Number of reviews: 746 reviews \n"
       ]
      },
      {
       "output_type": "stream",
       "stream": "stderr",
       "text": [
        "[2015-04-04 11:57:43,717] Hotel name: The Westin Boston Waterfront\n"
       ]
      },
      {
       "output_type": "stream",
       "stream": "stderr",
       "text": [
        "INFO:__main__:Hotel name: The Westin Boston Waterfront\n"
       ]
      },
      {
       "output_type": "stream",
       "stream": "stderr",
       "text": [
        "[2015-04-04 11:57:43,719] Stars: 4\n"
       ]
      },
      {
       "output_type": "stream",
       "stream": "stderr",
       "text": [
        "INFO:__main__:Stars: 4\n"
       ]
      },
      {
       "output_type": "stream",
       "stream": "stderr",
       "text": [
        "[2015-04-04 11:57:43,722] Number of reviews: 1,620 reviews \n"
       ]
      },
      {
       "output_type": "stream",
       "stream": "stderr",
       "text": [
        "INFO:__main__:Number of reviews: 1,620 reviews \n"
       ]
      },
      {
       "output_type": "stream",
       "stream": "stderr",
       "text": [
        "[2015-04-04 11:57:43,723] Hotel name: Club Quarters Boston\n"
       ]
      },
      {
       "output_type": "stream",
       "stream": "stderr",
       "text": [
        "INFO:__main__:Hotel name: Club Quarters Boston\n"
       ]
      },
      {
       "output_type": "stream",
       "stream": "stderr",
       "text": [
        "[2015-04-04 11:57:43,725] Stars: 4\n"
       ]
      },
      {
       "output_type": "stream",
       "stream": "stderr",
       "text": [
        "INFO:__main__:Stars: 4\n"
       ]
      },
      {
       "output_type": "stream",
       "stream": "stderr",
       "text": [
        "[2015-04-04 11:57:43,727] Number of reviews: 1,051 reviews \n"
       ]
      },
      {
       "output_type": "stream",
       "stream": "stderr",
       "text": [
        "INFO:__main__:Number of reviews: 1,051 reviews \n"
       ]
      },
      {
       "output_type": "stream",
       "stream": "stderr",
       "text": [
        "[2015-04-04 11:57:43,728] Hotel name: Copley House\n"
       ]
      },
      {
       "output_type": "stream",
       "stream": "stderr",
       "text": [
        "INFO:__main__:Hotel name: Copley House\n"
       ]
      },
      {
       "output_type": "stream",
       "stream": "stderr",
       "text": [
        "[2015-04-04 11:57:43,730] Stars: 3.5\n"
       ]
      },
      {
       "output_type": "stream",
       "stream": "stderr",
       "text": [
        "INFO:__main__:Stars: 3.5\n"
       ]
      },
      {
       "output_type": "stream",
       "stream": "stderr",
       "text": [
        "[2015-04-04 11:57:43,732] Number of reviews: 380 reviews \n"
       ]
      },
      {
       "output_type": "stream",
       "stream": "stderr",
       "text": [
        "INFO:__main__:Number of reviews: 380 reviews \n"
       ]
      },
      {
       "output_type": "stream",
       "stream": "stderr",
       "text": [
        "[2015-04-04 11:57:43,735] Hotel name: Renaissance Boston Waterfront Hotel\n"
       ]
      },
      {
       "output_type": "stream",
       "stream": "stderr",
       "text": [
        "INFO:__main__:Hotel name: Renaissance Boston Waterfront Hotel\n"
       ]
      },
      {
       "output_type": "stream",
       "stream": "stderr",
       "text": [
        "[2015-04-04 11:57:43,737] Stars: 4\n"
       ]
      },
      {
       "output_type": "stream",
       "stream": "stderr",
       "text": [
        "INFO:__main__:Stars: 4\n"
       ]
      },
      {
       "output_type": "stream",
       "stream": "stderr",
       "text": [
        "[2015-04-04 11:57:43,739] Number of reviews: 871 reviews \n"
       ]
      },
      {
       "output_type": "stream",
       "stream": "stderr",
       "text": [
        "INFO:__main__:Number of reviews: 871 reviews \n"
       ]
      },
      {
       "output_type": "stream",
       "stream": "stderr",
       "text": [
        "[2015-04-04 11:57:43,740] Hotel name: DoubleTree Suites by Hilton Boston-Cambridge\n"
       ]
      },
      {
       "output_type": "stream",
       "stream": "stderr",
       "text": [
        "INFO:__main__:Hotel name: DoubleTree Suites by Hilton Boston-Cambridge\n"
       ]
      },
      {
       "output_type": "stream",
       "stream": "stderr",
       "text": [
        "[2015-04-04 11:57:43,742] Stars: 4\n"
       ]
      },
      {
       "output_type": "stream",
       "stream": "stderr",
       "text": [
        "INFO:__main__:Stars: 4\n"
       ]
      },
      {
       "output_type": "stream",
       "stream": "stderr",
       "text": [
        "[2015-04-04 11:57:43,744] Number of reviews: 1,063 reviews \n"
       ]
      },
      {
       "output_type": "stream",
       "stream": "stderr",
       "text": [
        "INFO:__main__:Number of reviews: 1,063 reviews \n"
       ]
      },
      {
       "output_type": "stream",
       "stream": "stderr",
       "text": [
        "[2015-04-04 11:57:43,745] Hotel name: Newbury Guest House\n"
       ]
      },
      {
       "output_type": "stream",
       "stream": "stderr",
       "text": [
        "INFO:__main__:Hotel name: Newbury Guest House\n"
       ]
      },
      {
       "output_type": "stream",
       "stream": "stderr",
       "text": [
        "[2015-04-04 11:57:43,747] Stars: 4\n"
       ]
      },
      {
       "output_type": "stream",
       "stream": "stderr",
       "text": [
        "INFO:__main__:Stars: 4\n"
       ]
      },
      {
       "output_type": "stream",
       "stream": "stderr",
       "text": [
        "[2015-04-04 11:57:43,749] Number of reviews: 435 reviews \n"
       ]
      },
      {
       "output_type": "stream",
       "stream": "stderr",
       "text": [
        "INFO:__main__:Number of reviews: 435 reviews \n"
       ]
      },
      {
       "output_type": "stream",
       "stream": "stderr",
       "text": [
        "[2015-04-04 11:57:43,750] Hotel name: BEST WESTERN PLUS Roundhouse Suites\n"
       ]
      },
      {
       "output_type": "stream",
       "stream": "stderr",
       "text": [
        "INFO:__main__:Hotel name: BEST WESTERN PLUS Roundhouse Suites\n"
       ]
      },
      {
       "output_type": "stream",
       "stream": "stderr",
       "text": [
        "[2015-04-04 11:57:43,751] Stars: 3.5\n"
       ]
      },
      {
       "output_type": "stream",
       "stream": "stderr",
       "text": [
        "INFO:__main__:Stars: 3.5\n"
       ]
      },
      {
       "output_type": "stream",
       "stream": "stderr",
       "text": [
        "[2015-04-04 11:57:43,753] Number of reviews: 716 reviews \n"
       ]
      },
      {
       "output_type": "stream",
       "stream": "stderr",
       "text": [
        "INFO:__main__:Number of reviews: 716 reviews \n"
       ]
      },
      {
       "output_type": "stream",
       "stream": "stderr",
       "text": [
        "[2015-04-04 11:57:43,755] Hotel name: Charlesmark Hotel\n"
       ]
      },
      {
       "output_type": "stream",
       "stream": "stderr",
       "text": [
        "INFO:__main__:Hotel name: Charlesmark Hotel\n"
       ]
      },
      {
       "output_type": "stream",
       "stream": "stderr",
       "text": [
        "[2015-04-04 11:57:43,757] Stars: 4\n"
       ]
      },
      {
       "output_type": "stream",
       "stream": "stderr",
       "text": [
        "INFO:__main__:Stars: 4\n"
       ]
      },
      {
       "output_type": "stream",
       "stream": "stderr",
       "text": [
        "[2015-04-04 11:57:43,758] Number of reviews: 754 reviews \n"
       ]
      },
      {
       "output_type": "stream",
       "stream": "stderr",
       "text": [
        "INFO:__main__:Number of reviews: 754 reviews \n"
       ]
      },
      {
       "output_type": "stream",
       "stream": "stderr",
       "text": [
        "[2015-04-04 11:57:43,760] Hotel name: Mandarin Oriental, Boston\n"
       ]
      },
      {
       "output_type": "stream",
       "stream": "stderr",
       "text": [
        "INFO:__main__:Hotel name: Mandarin Oriental, Boston\n"
       ]
      },
      {
       "output_type": "stream",
       "stream": "stderr",
       "text": [
        "[2015-04-04 11:57:43,761] Stars: 4.5\n"
       ]
      },
      {
       "output_type": "stream",
       "stream": "stderr",
       "text": [
        "INFO:__main__:Stars: 4.5\n"
       ]
      },
      {
       "output_type": "stream",
       "stream": "stderr",
       "text": [
        "[2015-04-04 11:57:43,764] Number of reviews: 406 reviews \n"
       ]
      },
      {
       "output_type": "stream",
       "stream": "stderr",
       "text": [
        "INFO:__main__:Number of reviews: 406 reviews \n"
       ]
      },
      {
       "output_type": "stream",
       "stream": "stderr",
       "text": [
        "[2015-04-04 11:57:48,692] Hotel name: Holiday Inn Express Hotel & Suites Boston Garden\n"
       ]
      },
      {
       "output_type": "stream",
       "stream": "stderr",
       "text": [
        "INFO:__main__:Hotel name: Holiday Inn Express Hotel & Suites Boston Garden\n"
       ]
      },
      {
       "output_type": "stream",
       "stream": "stderr",
       "text": [
        "[2015-04-04 11:57:48,695] Stars: 3.5\n"
       ]
      },
      {
       "output_type": "stream",
       "stream": "stderr",
       "text": [
        "INFO:__main__:Stars: 3.5\n"
       ]
      },
      {
       "output_type": "stream",
       "stream": "stderr",
       "text": [
        "[2015-04-04 11:57:48,699] Number of reviews: 305 reviews \n"
       ]
      },
      {
       "output_type": "stream",
       "stream": "stderr",
       "text": [
        "INFO:__main__:Number of reviews: 305 reviews \n"
       ]
      },
      {
       "output_type": "stream",
       "stream": "stderr",
       "text": [
        "[2015-04-04 11:57:48,700] Hotel name: Ames Boston Hotel\n"
       ]
      },
      {
       "output_type": "stream",
       "stream": "stderr",
       "text": [
        "INFO:__main__:Hotel name: Ames Boston Hotel\n"
       ]
      },
      {
       "output_type": "stream",
       "stream": "stderr",
       "text": [
        "[2015-04-04 11:57:48,703] Stars: 4.5\n"
       ]
      },
      {
       "output_type": "stream",
       "stream": "stderr",
       "text": [
        "INFO:__main__:Stars: 4.5\n"
       ]
      },
      {
       "output_type": "stream",
       "stream": "stderr",
       "text": [
        "[2015-04-04 11:57:48,707] Number of reviews: 870 reviews \n"
       ]
      },
      {
       "output_type": "stream",
       "stream": "stderr",
       "text": [
        "INFO:__main__:Number of reviews: 870 reviews \n"
       ]
      },
      {
       "output_type": "stream",
       "stream": "stderr",
       "text": [
        "[2015-04-04 11:57:48,709] Hotel name: The Ritz-Carlton Boston Common\n"
       ]
      },
      {
       "output_type": "stream",
       "stream": "stderr",
       "text": [
        "INFO:__main__:Hotel name: The Ritz-Carlton Boston Common\n"
       ]
      },
      {
       "output_type": "stream",
       "stream": "stderr",
       "text": [
        "[2015-04-04 11:57:48,712] Stars: 4.5\n"
       ]
      },
      {
       "output_type": "stream",
       "stream": "stderr",
       "text": [
        "INFO:__main__:Stars: 4.5\n"
       ]
      },
      {
       "output_type": "stream",
       "stream": "stderr",
       "text": [
        "[2015-04-04 11:57:48,716] Number of reviews: 513 reviews \n"
       ]
      },
      {
       "output_type": "stream",
       "stream": "stderr",
       "text": [
        "INFO:__main__:Number of reviews: 513 reviews \n"
       ]
      },
      {
       "output_type": "stream",
       "stream": "stderr",
       "text": [
        "[2015-04-04 11:57:48,717] Hotel name: Courtyard by Marriott Boston Logan Airport\n"
       ]
      },
      {
       "output_type": "stream",
       "stream": "stderr",
       "text": [
        "INFO:__main__:Hotel name: Courtyard by Marriott Boston Logan Airport\n"
       ]
      },
      {
       "output_type": "stream",
       "stream": "stderr",
       "text": [
        "[2015-04-04 11:57:48,720] Stars: 3.5\n"
       ]
      },
      {
       "output_type": "stream",
       "stream": "stderr",
       "text": [
        "INFO:__main__:Stars: 3.5\n"
       ]
      },
      {
       "output_type": "stream",
       "stream": "stderr",
       "text": [
        "[2015-04-04 11:57:48,724] Number of reviews: 429 reviews \n"
       ]
      },
      {
       "output_type": "stream",
       "stream": "stderr",
       "text": [
        "INFO:__main__:Number of reviews: 429 reviews \n"
       ]
      },
      {
       "output_type": "stream",
       "stream": "stderr",
       "text": [
        "[2015-04-04 11:57:48,725] Hotel name: The Inn At St Botolph\n"
       ]
      },
      {
       "output_type": "stream",
       "stream": "stderr",
       "text": [
        "INFO:__main__:Hotel name: The Inn At St Botolph\n"
       ]
      },
      {
       "output_type": "stream",
       "stream": "stderr",
       "text": [
        "[2015-04-04 11:57:48,728] Stars: 4.5\n"
       ]
      },
      {
       "output_type": "stream",
       "stream": "stderr",
       "text": [
        "INFO:__main__:Stars: 4.5\n"
       ]
      },
      {
       "output_type": "stream",
       "stream": "stderr",
       "text": [
        "[2015-04-04 11:57:48,732] Number of reviews: 429 reviews \n"
       ]
      },
      {
       "output_type": "stream",
       "stream": "stderr",
       "text": [
        "INFO:__main__:Number of reviews: 429 reviews \n"
       ]
      },
      {
       "output_type": "stream",
       "stream": "stderr",
       "text": [
        "[2015-04-04 11:57:48,733] Hotel name: Residence Inn Boston Downtown Seaport\n"
       ]
      },
      {
       "output_type": "stream",
       "stream": "stderr",
       "text": [
        "INFO:__main__:Hotel name: Residence Inn Boston Downtown Seaport\n"
       ]
      },
      {
       "output_type": "stream",
       "stream": "stderr",
       "text": [
        "[2015-04-04 11:57:48,736] Stars: 4.5\n"
       ]
      },
      {
       "output_type": "stream",
       "stream": "stderr",
       "text": [
        "INFO:__main__:Stars: 4.5\n"
       ]
      },
      {
       "output_type": "stream",
       "stream": "stderr",
       "text": [
        "[2015-04-04 11:57:48,740] Number of reviews: 232 reviews \n"
       ]
      },
      {
       "output_type": "stream",
       "stream": "stderr",
       "text": [
        "INFO:__main__:Number of reviews: 232 reviews \n"
       ]
      },
      {
       "output_type": "stream",
       "stream": "stderr",
       "text": [
        "[2015-04-04 11:57:48,742] Hotel name: Courtyard Boston-South Boston\n"
       ]
      },
      {
       "output_type": "stream",
       "stream": "stderr",
       "text": [
        "INFO:__main__:Hotel name: Courtyard Boston-South Boston\n"
       ]
      },
      {
       "output_type": "stream",
       "stream": "stderr",
       "text": [
        "[2015-04-04 11:57:48,745] Stars: 4\n"
       ]
      },
      {
       "output_type": "stream",
       "stream": "stderr",
       "text": [
        "INFO:__main__:Stars: 4\n"
       ]
      },
      {
       "output_type": "stream",
       "stream": "stderr",
       "text": [
        "[2015-04-04 11:57:48,748] Number of reviews: 342 reviews \n"
       ]
      },
      {
       "output_type": "stream",
       "stream": "stderr",
       "text": [
        "INFO:__main__:Number of reviews: 342 reviews \n"
       ]
      },
      {
       "output_type": "stream",
       "stream": "stderr",
       "text": [
        "[2015-04-04 11:57:48,750] Hotel name: Beacon Hill Hotel and Bistro\n"
       ]
      },
      {
       "output_type": "stream",
       "stream": "stderr",
       "text": [
        "INFO:__main__:Hotel name: Beacon Hill Hotel and Bistro\n"
       ]
      },
      {
       "output_type": "stream",
       "stream": "stderr",
       "text": [
        "[2015-04-04 11:57:48,753] Stars: 4\n"
       ]
      },
      {
       "output_type": "stream",
       "stream": "stderr",
       "text": [
        "INFO:__main__:Stars: 4\n"
       ]
      },
      {
       "output_type": "stream",
       "stream": "stderr",
       "text": [
        "[2015-04-04 11:57:48,756] Number of reviews: 143 reviews \n"
       ]
      },
      {
       "output_type": "stream",
       "stream": "stderr",
       "text": [
        "INFO:__main__:Number of reviews: 143 reviews \n"
       ]
      },
      {
       "output_type": "stream",
       "stream": "stderr",
       "text": [
        "[2015-04-04 11:57:48,758] Hotel name: Comfort Inn - Boston\n"
       ]
      },
      {
       "output_type": "stream",
       "stream": "stderr",
       "text": [
        "INFO:__main__:Hotel name: Comfort Inn - Boston\n"
       ]
      },
      {
       "output_type": "stream",
       "stream": "stderr",
       "text": [
        "[2015-04-04 11:57:48,761] Stars: 3.5\n"
       ]
      },
      {
       "output_type": "stream",
       "stream": "stderr",
       "text": [
        "INFO:__main__:Stars: 3.5\n"
       ]
      },
      {
       "output_type": "stream",
       "stream": "stderr",
       "text": [
        "[2015-04-04 11:57:48,765] Number of reviews: 287 reviews \n"
       ]
      },
      {
       "output_type": "stream",
       "stream": "stderr",
       "text": [
        "INFO:__main__:Number of reviews: 287 reviews \n"
       ]
      },
      {
       "output_type": "stream",
       "stream": "stderr",
       "text": [
        "[2015-04-04 11:57:48,766] Hotel name: The Boston Common Hotel and Conference Center\n"
       ]
      },
      {
       "output_type": "stream",
       "stream": "stderr",
       "text": [
        "INFO:__main__:Hotel name: The Boston Common Hotel and Conference Center\n"
       ]
      },
      {
       "output_type": "stream",
       "stream": "stderr",
       "text": [
        "[2015-04-04 11:57:48,770] Stars: 3.5\n"
       ]
      },
      {
       "output_type": "stream",
       "stream": "stderr",
       "text": [
        "INFO:__main__:Stars: 3.5\n"
       ]
      },
      {
       "output_type": "stream",
       "stream": "stderr",
       "text": [
        "[2015-04-04 11:57:48,774] Number of reviews: 442 reviews \n"
       ]
      },
      {
       "output_type": "stream",
       "stream": "stderr",
       "text": [
        "INFO:__main__:Number of reviews: 442 reviews \n"
       ]
      },
      {
       "output_type": "stream",
       "stream": "stderr",
       "text": [
        "[2015-04-04 11:57:48,775] Hotel name: Boston Park Plaza\n"
       ]
      },
      {
       "output_type": "stream",
       "stream": "stderr",
       "text": [
        "INFO:__main__:Hotel name: Boston Park Plaza\n"
       ]
      },
      {
       "output_type": "stream",
       "stream": "stderr",
       "text": [
        "[2015-04-04 11:57:48,778] Stars: 3.5\n"
       ]
      },
      {
       "output_type": "stream",
       "stream": "stderr",
       "text": [
        "INFO:__main__:Stars: 3.5\n"
       ]
      },
      {
       "output_type": "stream",
       "stream": "stderr",
       "text": [
        "[2015-04-04 11:57:48,782] Number of reviews: 4,225 reviews \n"
       ]
      },
      {
       "output_type": "stream",
       "stream": "stderr",
       "text": [
        "INFO:__main__:Number of reviews: 4,225 reviews \n"
       ]
      },
      {
       "output_type": "stream",
       "stream": "stderr",
       "text": [
        "[2015-04-04 11:57:48,783] Hotel name: Courtyard Boston Downtown\n"
       ]
      },
      {
       "output_type": "stream",
       "stream": "stderr",
       "text": [
        "INFO:__main__:Hotel name: Courtyard Boston Downtown\n"
       ]
      },
      {
       "output_type": "stream",
       "stream": "stderr",
       "text": [
        "[2015-04-04 11:57:48,786] Stars: 3\n"
       ]
      },
      {
       "output_type": "stream",
       "stream": "stderr",
       "text": [
        "INFO:__main__:Stars: 3\n"
       ]
      },
      {
       "output_type": "stream",
       "stream": "stderr",
       "text": [
        "[2015-04-04 11:57:48,790] Number of reviews: 804 reviews \n"
       ]
      },
      {
       "output_type": "stream",
       "stream": "stderr",
       "text": [
        "INFO:__main__:Number of reviews: 804 reviews \n"
       ]
      },
      {
       "output_type": "stream",
       "stream": "stderr",
       "text": [
        "[2015-04-04 11:57:48,792] Hotel name: Ramada Boston\n"
       ]
      },
      {
       "output_type": "stream",
       "stream": "stderr",
       "text": [
        "INFO:__main__:Hotel name: Ramada Boston\n"
       ]
      },
      {
       "output_type": "stream",
       "stream": "stderr",
       "text": [
        "[2015-04-04 11:57:48,795] Stars: 3\n"
       ]
      },
      {
       "output_type": "stream",
       "stream": "stderr",
       "text": [
        "INFO:__main__:Stars: 3\n"
       ]
      },
      {
       "output_type": "stream",
       "stream": "stderr",
       "text": [
        "[2015-04-04 11:57:48,799] Number of reviews: 920 reviews \n"
       ]
      },
      {
       "output_type": "stream",
       "stream": "stderr",
       "text": [
        "INFO:__main__:Number of reviews: 920 reviews \n"
       ]
      },
      {
       "output_type": "stream",
       "stream": "stderr",
       "text": [
        "[2015-04-04 11:57:48,800] Hotel name: Milner Hotel\n"
       ]
      },
      {
       "output_type": "stream",
       "stream": "stderr",
       "text": [
        "INFO:__main__:Hotel name: Milner Hotel\n"
       ]
      },
      {
       "output_type": "stream",
       "stream": "stderr",
       "text": [
        "[2015-04-04 11:57:48,802] Stars: 3\n"
       ]
      },
      {
       "output_type": "stream",
       "stream": "stderr",
       "text": [
        "INFO:__main__:Stars: 3\n"
       ]
      },
      {
       "output_type": "stream",
       "stream": "stderr",
       "text": [
        "[2015-04-04 11:57:48,807] Number of reviews: 368 reviews \n"
       ]
      },
      {
       "output_type": "stream",
       "stream": "stderr",
       "text": [
        "INFO:__main__:Number of reviews: 368 reviews \n"
       ]
      },
      {
       "output_type": "stream",
       "stream": "stderr",
       "text": [
        "[2015-04-04 11:57:48,808] Hotel name: Constitution Inn\n"
       ]
      },
      {
       "output_type": "stream",
       "stream": "stderr",
       "text": [
        "INFO:__main__:Hotel name: Constitution Inn\n"
       ]
      },
      {
       "output_type": "stream",
       "stream": "stderr",
       "text": [
        "[2015-04-04 11:57:48,811] Stars: 3\n"
       ]
      },
      {
       "output_type": "stream",
       "stream": "stderr",
       "text": [
        "INFO:__main__:Stars: 3\n"
       ]
      },
      {
       "output_type": "stream",
       "stream": "stderr",
       "text": [
        "[2015-04-04 11:57:48,815] Number of reviews: 411 reviews \n"
       ]
      },
      {
       "output_type": "stream",
       "stream": "stderr",
       "text": [
        "INFO:__main__:Number of reviews: 411 reviews \n"
       ]
      },
      {
       "output_type": "stream",
       "stream": "stderr",
       "text": [
        "[2015-04-04 11:57:48,816] Hotel name: Days Hotel Boston\n"
       ]
      },
      {
       "output_type": "stream",
       "stream": "stderr",
       "text": [
        "INFO:__main__:Hotel name: Days Hotel Boston\n"
       ]
      },
      {
       "output_type": "stream",
       "stream": "stderr",
       "text": [
        "[2015-04-04 11:57:48,819] Stars: 3\n"
       ]
      },
      {
       "output_type": "stream",
       "stream": "stderr",
       "text": [
        "INFO:__main__:Stars: 3\n"
       ]
      },
      {
       "output_type": "stream",
       "stream": "stderr",
       "text": [
        "[2015-04-04 11:57:48,823] Number of reviews: 189 reviews \n"
       ]
      },
      {
       "output_type": "stream",
       "stream": "stderr",
       "text": [
        "INFO:__main__:Number of reviews: 189 reviews \n"
       ]
      },
      {
       "output_type": "stream",
       "stream": "stderr",
       "text": [
        "[2015-04-04 11:57:48,825] Hotel name: Americas Best Value Inn\n"
       ]
      },
      {
       "output_type": "stream",
       "stream": "stderr",
       "text": [
        "INFO:__main__:Hotel name: Americas Best Value Inn\n"
       ]
      },
      {
       "output_type": "stream",
       "stream": "stderr",
       "text": [
        "[2015-04-04 11:57:48,828] Stars: 2.5\n"
       ]
      },
      {
       "output_type": "stream",
       "stream": "stderr",
       "text": [
        "INFO:__main__:Stars: 2.5\n"
       ]
      },
      {
       "output_type": "stream",
       "stream": "stderr",
       "text": [
        "[2015-04-04 11:57:48,832] Number of reviews: 18 reviews \n"
       ]
      },
      {
       "output_type": "stream",
       "stream": "stderr",
       "text": [
        "INFO:__main__:Number of reviews: 18 reviews \n"
       ]
      },
      {
       "output_type": "stream",
       "stream": "stderr",
       "text": [
        "[2015-04-04 11:57:48,982] We reached last page\n"
       ]
      },
      {
       "output_type": "stream",
       "stream": "stderr",
       "text": [
        "INFO:__main__:We reached last page\n"
       ]
      }
     ],
     "prompt_number": 2
    },
    {
     "cell_type": "heading",
     "level": 2,
     "metadata": {},
     "source": [
      "Task 2"
     ]
    },
    {
     "cell_type": "markdown",
     "metadata": {},
     "source": [
      "I essentailly modified the original `parse_hotellist_page` to do the following things:\n",
      "1. Scrape the requested information\n",
      "2. Return the scraped information as a dictionary\n",
      "\n",
      "The I call my modified version `parse_hotellist_page2` (to distinguish the original `parse_hotellist_page` from the modified version)."
     ]
    },
    {
     "cell_type": "code",
     "collapsed": false,
     "input": [
      "def parse_hotellist_page2(html):\n",
      "    \"\"\"Parses the website with the hotel list and prints the hotel name, the\n",
      "        number of stars and the number of reviews it has. If there is a next page\n",
      "        in the hotel list, it returns a list to that page. Otherwise, it exits the\n",
      "        script. Corresponds to STEP 4 of the slides.\n",
      "        \n",
      "        Parameters\n",
      "        ----------\n",
      "        html : str\n",
      "        The HTML of the website with the hotel list.\n",
      "        \n",
      "        Returns\n",
      "        -------\n",
      "        URL : str\n",
      "        If there is a next page, return a relative link to this page.\n",
      "        Otherwise, exit the script.\n",
      "        \"\"\"\n",
      "    \n",
      "    #Initialize dictionary which will hold the hotel reviews & ratings\n",
      "    hotel_reviews_ratings = dict()\n",
      "\n",
      "    #Review categories\n",
      "    review_categories = ['Families','Couples','Solo','Business']\n",
      "    \n",
      "    #Ratings categories\n",
      "    #ratings_categories = ['Excellent','Very Good','Average','Poor','Terrible']\n",
      "    \n",
      "    #Ratings summary categories\n",
      "    summary_categories = ['Location','Sleep Quality','Rooms','Service','Value','Cleanliness']\n",
      "    \n",
      "    soup = BeautifulSoup(html)\n",
      "    # Extract hotel name, star rating and number of reviews\n",
      "    hotel_boxes = soup.findAll('div', {'class' :'listing wrap reasoning_v5_wrap jfy_listing p13n_imperfect'})\n",
      "    if not hotel_boxes:\n",
      "        #log.info(\"#################################### Option 2 ######################################\")\n",
      "        hotel_boxes = soup.findAll('div', {'class' :'listing_info jfy'})\n",
      "    if not hotel_boxes:\n",
      "        #log.info(\"#################################### Option 3 ######################################\")\n",
      "        hotel_boxes = soup.findAll('div', {'class' :'listing easyClear  p13n_imperfect'})\n",
      "\n",
      "    xx = 0\n",
      "    for hotel_box in hotel_boxes:\n",
      "        info = hotel_box.find(\"a\", {\"target\" : \"_blank\"})\n",
      "        \n",
      "        #Get hotel name\n",
      "        hotel_name = info.find(text=True)\n",
      "        hotel_name = hotel_name.strip()\n",
      "        \n",
      "        #Get URL for the current hotel\n",
      "        hotel_URL = info['href']\n",
      "        \n",
      "        # Request the HTML page, as before\n",
      "        url = 'http://www.tripadvisor.com' + hotel_URL\n",
      "        headers = {'User-Agent': user_agent}\n",
      "        response = requests.get(url, headers=headers)\n",
      "        html_data = response.text.encode('utf-8')\n",
      "\n",
      "        #Now get the info we need\n",
      "        hotel_html = BeautifulSoup(html_data)\n",
      "        traveler_ratings = hotel_html.findAll('span',{'class': 'compositeCount'})\n",
      "        types_of_reviews = hotel_html.findAll('div',{'class':'value'})\n",
      "        rating_summaries = hotel_html.find('div',{'id':'SUMMARYBOX'})\n",
      "        rating_summaries = rating_summaries.findAll('img')\n",
      "        #rating_summaries = hotel_html.findAll('img',{'class':re.compile(r\"sprite-rating_s_fill\\b.*\")})\n",
      "        \n",
      "        xx +=1\n",
      "        \n",
      "        if hotel_name in hotel_reviews_ratings:\n",
      "            hotel_name = hotel_name + ' 2'\n",
      "        \n",
      "            \n",
      "        #Store ratings in a dictionary called 'Travel_Ratings'\n",
      "        Travel_Ratings = dict()\n",
      "        count = 5\n",
      "        for rating in traveler_ratings:\n",
      "            Travel_Ratings[count] = rating.getText() #store ratings for 'Excellent', 'Very good', etc.\n",
      "            count = count - 1\n",
      "\n",
      "        #Store the review types in a dictionary called 'Review_Type'\n",
      "        Review_Type = dict()\n",
      "        count = 0\n",
      "        for review_type in types_of_reviews:\n",
      "            Review_Type[review_categories[count]] = review_type.getText()\n",
      "            count += 1\n",
      "              \n",
      "        #Store the ratings summary in a dictionary called 'Ratings_Summary'\n",
      "        Ratings_Summary = {}\n",
      "        count = 0\n",
      "        for summary in rating_summaries:\n",
      "            rating = summary['alt']\n",
      "            if (rating[1] == '.'):\n",
      "                Ratings_Summary[summary_categories[count]] = rating[0:3]\n",
      "            else:\n",
      "                Ratings_Summary[summary_categories[count]] = rating[0]\n",
      "            count += 1\n",
      "            \n",
      "            \n",
      "        temp = dict()\n",
      "        temp['Travel Ratings'] = Travel_Ratings\n",
      "        temp['Review Type'] = Review_Type\n",
      "        temp['Ratings'] = Ratings_Summary\n",
      "            \n",
      "        print \"%d. %s\" % (xx, hotel_name)\n",
      "        hotel_reviews_ratings[hotel_name] = temp\n",
      "        \n",
      "            \n",
      "        \n",
      "        #print item\n",
      "        #print \"\\n\\n\"\n",
      "        \n",
      "        \n",
      "        #Add info to dictionary\n",
      "        \n",
      "        #log.info(\"Hotel name: %s\" % hotel_name.strip())\n",
      "        \n",
      "        #stars = hotel_box.find(\"img\", {\"class\" : \"sprite-ratings\"})\n",
      "        #if stars:\n",
      "        #    log.info(\"Stars: %s\" % stars['alt'].split()[0])\n",
      "        \n",
      "        #num_reviews = hotel_box.find(\"span\", {'class': \"more\"}).findAll(text=True)\n",
      "        #if num_reviews:\n",
      "        #    log.info(\"Number of reviews: %s \" % [x for x in num_reviews if \"review\" in x][0].strip())\n",
      "\n",
      "\n",
      "    # Get next URL page if exists, otherwise exit\n",
      "    div = soup.find(\"div\", {\"class\" : \"pgLinks\"})\n",
      "    #print div\n",
      "\n",
      "    # check if this is the last page\n",
      "    if (div.find('span', {'class' : 'guiArw pageEndNext'})):\n",
      "        log.info(\"We reached last page\")\n",
      "        return -1, hotel_reviews_ratings;\n",
      "    \n",
      "    # If not, return the url to the next page\n",
      "    next_pg = div.find('a', {'class': 'guiArw sprite-pageNext '})\n",
      "    #print next_pg\n",
      "    return next_pg['href'], hotel_reviews_ratings\n"
     ],
     "language": "python",
     "metadata": {},
     "outputs": [],
     "prompt_number": 2
    },
    {
     "cell_type": "markdown",
     "metadata": {},
     "source": [
      "Call the above function to gather the required data:"
     ]
    },
    {
     "cell_type": "code",
     "collapsed": false,
     "input": [
      "city = 'Boston'\n",
      "state = 'MA'\n",
      "datadir = 'data'\n",
      "\n",
      "city_url = get_city_page(city, state, datadir)\n",
      "c = 0\n",
      "hotel_info = {}\n",
      "while(city_url != -1):\n",
      "    c += 1\n",
      "    print \"PAGE\",c\n",
      "    print \"------------------------------\"\n",
      "    html = get_hotellist_page(city_url, c, city, datadir) \n",
      "    city_url, hotel_dict = parse_hotellist_page2(html)\n",
      "    hotel_info.update(hotel_dict)\n",
      "    print \"\\n\\n\""
     ],
     "language": "python",
     "metadata": {},
     "outputs": [
      {
       "output_type": "stream",
       "stream": "stdout",
       "text": [
        "PAGE 1\n",
        "------------------------------\n",
        "1. Hyatt Boston Harbor"
       ]
      },
      {
       "output_type": "stream",
       "stream": "stdout",
       "text": [
        "\n",
        "2. Seaport Boston Hotel"
       ]
      },
      {
       "output_type": "stream",
       "stream": "stdout",
       "text": [
        "\n",
        "3. Hotel Commonwealth"
       ]
      },
      {
       "output_type": "stream",
       "stream": "stdout",
       "text": [
        "\n",
        "4. Boston Harbor Hotel"
       ]
      },
      {
       "output_type": "stream",
       "stream": "stdout",
       "text": [
        "\n",
        "5. enVision Hotel Boston"
       ]
      },
      {
       "output_type": "stream",
       "stream": "stdout",
       "text": [
        "\n",
        "6. Revere Hotel Boston Common"
       ]
      },
      {
       "output_type": "stream",
       "stream": "stdout",
       "text": [
        "\n",
        "7. Nine Zero Hotel - a Kimpton Hotel"
       ]
      },
      {
       "output_type": "stream",
       "stream": "stdout",
       "text": [
        "\n",
        "8. Lenox Hotel"
       ]
      },
      {
       "output_type": "stream",
       "stream": "stdout",
       "text": [
        "\n",
        "9. The Westin Copley Place"
       ]
      },
      {
       "output_type": "stream",
       "stream": "stdout",
       "text": [
        "\n",
        "10. Courtyard by Marriott Boston Copley Square"
       ]
      },
      {
       "output_type": "stream",
       "stream": "stdout",
       "text": [
        "\n",
        "11. Omni Parker House"
       ]
      },
      {
       "output_type": "stream",
       "stream": "stdout",
       "text": [
        "\n",
        "12. Embassy Suites Boston Logan Airport"
       ]
      },
      {
       "output_type": "stream",
       "stream": "stdout",
       "text": [
        "\n",
        "13. XV Beacon"
       ]
      },
      {
       "output_type": "stream",
       "stream": "stdout",
       "text": [
        "\n",
        "14. The Midtown Hotel"
       ]
      },
      {
       "output_type": "stream",
       "stream": "stdout",
       "text": [
        "\n",
        "15. The Verb Hotel"
       ]
      },
      {
       "output_type": "stream",
       "stream": "stdout",
       "text": [
        "\n",
        "16. The Liberty Hotel"
       ]
      },
      {
       "output_type": "stream",
       "stream": "stdout",
       "text": [
        "\n",
        "17. Copley Square Hotel"
       ]
      },
      {
       "output_type": "stream",
       "stream": "stdout",
       "text": [
        "\n",
        "18. Taj Boston"
       ]
      },
      {
       "output_type": "stream",
       "stream": "stdout",
       "text": [
        "\n",
        "19. Harborside Inn"
       ]
      },
      {
       "output_type": "stream",
       "stream": "stdout",
       "text": [
        "\n",
        "20. The Fairmont Copley Plaza, Boston"
       ]
      },
      {
       "output_type": "stream",
       "stream": "stdout",
       "text": [
        "\n",
        "21. Hilton Boston Back Bay"
       ]
      },
      {
       "output_type": "stream",
       "stream": "stdout",
       "text": [
        "\n",
        "22. Millennium Bostonian Hotel"
       ]
      },
      {
       "output_type": "stream",
       "stream": "stdout",
       "text": [
        "\n",
        "23. The Langham, Boston"
       ]
      },
      {
       "output_type": "stream",
       "stream": "stdout",
       "text": [
        "\n",
        "24. InterContinental Boston"
       ]
      },
      {
       "output_type": "stream",
       "stream": "stdout",
       "text": [
        "\n",
        "25. Boston Hotel Buckminster"
       ]
      },
      {
       "output_type": "stream",
       "stream": "stdout",
       "text": [
        "\n",
        "26. Marriott's Custom House"
       ]
      },
      {
       "output_type": "stream",
       "stream": "stdout",
       "text": [
        "\n",
        "27. Sheraton Boston Hotel"
       ]
      },
      {
       "output_type": "stream",
       "stream": "stdout",
       "text": [
        "\n",
        "28. Residence Inn Boston Back Bay / Fenway"
       ]
      },
      {
       "output_type": "stream",
       "stream": "stdout",
       "text": [
        "\n",
        "29. Boston Marriott Copley Place"
       ]
      },
      {
       "output_type": "stream",
       "stream": "stdout",
       "text": [
        "\n",
        "30. Loews Boston Hotel"
       ]
      },
      {
       "output_type": "stream",
       "stream": "stdout",
       "text": [
        "\n",
        "\n",
        "\n"
       ]
      },
      {
       "output_type": "stream",
       "stream": "stdout",
       "text": [
        "\n",
        "PAGE 2\n",
        "------------------------------\n",
        "1. Hyatt Regency Boston"
       ]
      },
      {
       "output_type": "stream",
       "stream": "stdout",
       "text": [
        "\n",
        "2. W Boston"
       ]
      },
      {
       "output_type": "stream",
       "stream": "stdout",
       "text": [
        "\n",
        "3. DoubleTree by Hilton Hotel Boston - Downtown"
       ]
      },
      {
       "output_type": "stream",
       "stream": "stdout",
       "text": [
        "\n",
        "4. Colonnade Hotel"
       ]
      },
      {
       "output_type": "stream",
       "stream": "stdout",
       "text": [
        "\n",
        "5. Chandler Inn"
       ]
      },
      {
       "output_type": "stream",
       "stream": "stdout",
       "text": [
        "\n",
        "6. The Inn at Longwood Medical"
       ]
      },
      {
       "output_type": "stream",
       "stream": "stdout",
       "text": [
        "\n",
        "7. Hotel 140"
       ]
      },
      {
       "output_type": "stream",
       "stream": "stdout",
       "text": [
        "\n",
        "8. Hilton Boston Logan Airport"
       ]
      },
      {
       "output_type": "stream",
       "stream": "stdout",
       "text": [
        "\n",
        "9. Hilton Boston Downtown / Faneuil Hall"
       ]
      },
      {
       "output_type": "stream",
       "stream": "stdout",
       "text": [
        "\n",
        "10. Battery Wharf Hotel, Boston Waterfront"
       ]
      },
      {
       "output_type": "stream",
       "stream": "stdout",
       "text": [
        "\n",
        "11. Boston Marriott Long Wharf"
       ]
      },
      {
       "output_type": "stream",
       "stream": "stdout",
       "text": [
        "\n",
        "12. Hampton Inn & Suites Boston Crosstown Center"
       ]
      },
      {
       "output_type": "stream",
       "stream": "stdout",
       "text": [
        "\n",
        "13. Onyx Hotel - a Kimpton Hotel"
       ]
      },
      {
       "output_type": "stream",
       "stream": "stdout",
       "text": [
        "\n",
        "14. Four Seasons Hotel Boston"
       ]
      },
      {
       "output_type": "stream",
       "stream": "stdout",
       "text": [
        "\n",
        "15. Holiday Inn Express Boston"
       ]
      },
      {
       "output_type": "stream",
       "stream": "stdout",
       "text": [
        "\n",
        "16. DoubleTree Club by Hilton Hotel Boston Bayside"
       ]
      },
      {
       "output_type": "stream",
       "stream": "stdout",
       "text": [
        "\n",
        "17. The Boxer Boston"
       ]
      },
      {
       "output_type": "stream",
       "stream": "stdout",
       "text": [
        "\n",
        "18. Wyndham Boston Beacon Hill"
       ]
      },
      {
       "output_type": "stream",
       "stream": "stdout",
       "text": [
        "\n",
        "19. Residence Inn by Marriott Boston Harbor on Tudor Wharf"
       ]
      },
      {
       "output_type": "stream",
       "stream": "stdout",
       "text": [
        "\n",
        "20. BEST WESTERN University Hotel Boston-Brighton"
       ]
      },
      {
       "output_type": "stream",
       "stream": "stdout",
       "text": [
        "\n",
        "21. The Westin Boston Waterfront"
       ]
      },
      {
       "output_type": "stream",
       "stream": "stdout",
       "text": [
        "\n",
        "22. Eliot Hotel"
       ]
      },
      {
       "output_type": "stream",
       "stream": "stdout",
       "text": [
        "\n",
        "23. Club Quarters in Boston"
       ]
      },
      {
       "output_type": "stream",
       "stream": "stdout",
       "text": [
        "\n",
        "24. Copley House"
       ]
      },
      {
       "output_type": "stream",
       "stream": "stdout",
       "text": [
        "\n",
        "25. Renaissance Boston Waterfront Hotel"
       ]
      },
      {
       "output_type": "stream",
       "stream": "stdout",
       "text": [
        "\n",
        "26. DoubleTree Suites by Hilton Boston-Cambridge"
       ]
      },
      {
       "output_type": "stream",
       "stream": "stdout",
       "text": [
        "\n",
        "27. Newbury Guest House"
       ]
      },
      {
       "output_type": "stream",
       "stream": "stdout",
       "text": [
        "\n",
        "28. BEST WESTERN PLUS Roundhouse Suites"
       ]
      },
      {
       "output_type": "stream",
       "stream": "stdout",
       "text": [
        "\n",
        "29. Charlesmark Hotel"
       ]
      },
      {
       "output_type": "stream",
       "stream": "stdout",
       "text": [
        "\n",
        "30. Mandarin Oriental, Boston"
       ]
      },
      {
       "output_type": "stream",
       "stream": "stdout",
       "text": [
        "\n",
        "\n",
        "\n"
       ]
      },
      {
       "output_type": "stream",
       "stream": "stdout",
       "text": [
        "\n",
        "PAGE 3\n",
        "------------------------------\n",
        "1. Holiday Inn Express Hotel & Suites Boston Garden"
       ]
      },
      {
       "output_type": "stream",
       "stream": "stdout",
       "text": [
        "\n",
        "2. Ames Boston Hotel"
       ]
      },
      {
       "output_type": "stream",
       "stream": "stdout",
       "text": [
        "\n",
        "3. The Ritz-Carlton Boston Common"
       ]
      },
      {
       "output_type": "stream",
       "stream": "stdout",
       "text": [
        "\n",
        "4. Courtyard by Marriott Boston Logan Airport"
       ]
      },
      {
       "output_type": "stream",
       "stream": "stdout",
       "text": [
        "\n",
        "5. The Inn At St Botolph"
       ]
      },
      {
       "output_type": "stream",
       "stream": "stdout",
       "text": [
        "\n",
        "6. Residence Inn Boston Downtown Seaport"
       ]
      },
      {
       "output_type": "stream",
       "stream": "stdout",
       "text": [
        "\n",
        "7. Courtyard Boston-South Boston"
       ]
      },
      {
       "output_type": "stream",
       "stream": "stdout",
       "text": [
        "\n",
        "8. Beacon Hill Hotel and Bistro"
       ]
      },
      {
       "output_type": "stream",
       "stream": "stdout",
       "text": [
        "\n",
        "9. Comfort Inn - Boston"
       ]
      },
      {
       "output_type": "stream",
       "stream": "stdout",
       "text": [
        "\n",
        "10. The Boston Common Hotel and Conference Center"
       ]
      },
      {
       "output_type": "stream",
       "stream": "stdout",
       "text": [
        "\n",
        "11. Courtyard Boston Downtown"
       ]
      },
      {
       "output_type": "stream",
       "stream": "stdout",
       "text": [
        "\n",
        "12. Boston Park Plaza"
       ]
      },
      {
       "output_type": "stream",
       "stream": "stdout",
       "text": [
        "\n",
        "13. Ramada Boston"
       ]
      },
      {
       "output_type": "stream",
       "stream": "stdout",
       "text": [
        "\n",
        "14. Milner Hotel"
       ]
      },
      {
       "output_type": "stream",
       "stream": "stdout",
       "text": [
        "\n",
        "15. Constitution Inn"
       ]
      },
      {
       "output_type": "stream",
       "stream": "stdout",
       "text": [
        "\n",
        "16. Days Hotel Boston"
       ]
      },
      {
       "output_type": "stream",
       "stream": "stdout",
       "text": [
        "\n",
        "17. Americas Best Value Inn"
       ]
      },
      {
       "output_type": "stream",
       "stream": "stderr",
       "text": [
        "[2015-04-06 23:29:52,579] We reached last page\n"
       ]
      },
      {
       "output_type": "stream",
       "stream": "stderr",
       "text": [
        "INFO:__main__:We reached last page\n"
       ]
      },
      {
       "output_type": "stream",
       "stream": "stdout",
       "text": [
        "\n",
        "\n",
        "\n"
       ]
      },
      {
       "output_type": "stream",
       "stream": "stdout",
       "text": [
        "\n"
       ]
      }
     ],
     "prompt_number": 3
    },
    {
     "cell_type": "heading",
     "level": 2,
     "metadata": {},
     "source": [
      "Task 3"
     ]
    },
    {
     "cell_type": "markdown",
     "metadata": {},
     "source": [
      "For each hotel, let's compute the average rating and store the data nicely in a dataframe"
     ]
    },
    {
     "cell_type": "code",
     "collapsed": false,
     "input": [
      "print hotel_info"
     ],
     "language": "python",
     "metadata": {},
     "outputs": [
      {
       "output_type": "stream",
       "stream": "stdout",
       "text": [
        "{u'Hotel Commonwealth': {'Ratings': {'Service': u'5', 'Cleanliness': u'5', 'Value': u'4.5', 'Sleep Quality': u'5', 'Location': u'5', 'Rooms': u'5'}, 'Travel Ratings': {1: u'13', 2: u'39', 3: u'81', 4: u'442', 5: u'2,372'}, 'Review Type': {'Couples': u'853', 'Solo': u'147', 'Families': u'916', 'Business': u'585'}}, u'The Fairmont Copley Plaza, Boston': {'Ratings': {'Service': u'4.5', 'Cleanliness': u'4.5', 'Value': u'4', 'Sleep Quality': u'4.5', 'Location': u'5', 'Rooms': u'4'}, 'Travel Ratings': {1: u'29', 2: u'68', 3: u'157', 4: u'434', 5: u'923'}, 'Review Type': {'Couples': u'557', 'Solo': u'71', 'Families': u'316', 'Business': u'444'}}, u'Colonnade Hotel': {'Ratings': {'Service': u'4.5', 'Cleanliness': u'4.5', 'Value': u'4', 'Sleep Quality': u'4.5', 'Location': u'5', 'Rooms': u'4.5'}, 'Travel Ratings': {1: u'49', 2: u'63', 3: u'160', 4: u'513', 5: u'1,278'}, 'Review Type': {'Couples': u'616', 'Solo': u'103', 'Families': u'472', 'Business': u'526'}}, u'Revere Hotel Boston Common': {'Ratings': {'Service': u'4.5', 'Cleanliness': u'4.5', 'Value': u'4', 'Sleep Quality': u'4.5', 'Location': u'4.5', 'Rooms': u'4.5'}, 'Travel Ratings': {1: u'17', 2: u'39', 3: u'181', 4: u'619', 5: u'1,094'}, 'Review Type': {'Couples': u'624', 'Solo': u'78', 'Families': u'445', 'Business': u'300'}}, u'Residence Inn by Marriott Boston Harbor on Tudor Wharf': {'Ratings': {'Service': u'4.5', 'Cleanliness': u'4.5', 'Value': u'4', 'Sleep Quality': u'4.5', 'Location': u'4.5', 'Rooms': u'4.5'}, 'Travel Ratings': {1: u'4', 2: u'14', 3: u'42', 4: u'182', 5: u'277'}, 'Review Type': {'Couples': u'140', 'Solo': u'25', 'Families': u'196', 'Business': u'71'}}, u'Lenox Hotel': {'Ratings': {'Service': u'5', 'Cleanliness': u'5', 'Value': u'4.5', 'Sleep Quality': u'4.5', 'Location': u'5', 'Rooms': u'4.5'}, 'Travel Ratings': {1: u'20', 2: u'46', 3: u'107', 4: u'509', 5: u'1,884'}, 'Review Type': {'Couples': u'986', 'Solo': u'143', 'Families': u'632', 'Business': u'383'}}, u'The Boston Common Hotel and Conference Center': {'Ratings': {'Service': u'3.5', 'Cleanliness': u'3.5', 'Value': u'3.5', 'Sleep Quality': u'3.5', 'Location': u'4.5', 'Rooms': u'3'}, 'Travel Ratings': {1: u'33', 2: u'59', 3: u'147', 4: u'158', 5: u'46'}, 'Review Type': {'Couples': u'160', 'Solo': u'37', 'Families': u'66', 'Business': u'80'}}, u'Courtyard by Marriott Boston Logan Airport': {'Ratings': {'Service': u'4', 'Cleanliness': u'4', 'Value': u'3.5', 'Sleep Quality': u'4', 'Location': u'4', 'Rooms': u'4'}, 'Travel Ratings': {1: u'18', 2: u'36', 3: u'102', 4: u'176', 5: u'98'}, 'Review Type': {'Couples': u'108', 'Solo': u'40', 'Families': u'92', 'Business': u'138'}}, u'DoubleTree Club by Hilton Hotel Boston Bayside': {'Ratings': {'Service': u'4', 'Cleanliness': u'4', 'Value': u'3.5', 'Sleep Quality': u'3.5', 'Location': u'4', 'Rooms': u'4'}, 'Travel Ratings': {1: u'37', 2: u'76', 3: u'228', 4: u'346', 5: u'259'}, 'Review Type': {'Couples': u'247', 'Solo': u'76', 'Families': u'234', 'Business': u'224'}}, u'Hampton Inn & Suites Boston Crosstown Center': {'Ratings': {'Service': u'4', 'Cleanliness': u'4.5', 'Value': u'4', 'Sleep Quality': u'3.5', 'Location': u'4', 'Rooms': u'4.5'}, 'Travel Ratings': {1: u'22', 2: u'34', 3: u'94', 4: u'215', 5: u'203'}, 'Review Type': {'Couples': u'95', 'Solo': u'56', 'Families': u'173', 'Business': u'163'}}, u'Onyx Hotel - a Kimpton Hotel': {'Ratings': {'Service': u'4.5', 'Cleanliness': u'4.5', 'Value': u'4', 'Sleep Quality': u'4.5', 'Location': u'4.5', 'Rooms': u'4'}, 'Travel Ratings': {1: u'22', 2: u'48', 3: u'109', 4: u'326', 5: u'478'}, 'Review Type': {'Couples': u'373', 'Solo': u'55', 'Families': u'174', 'Business': u'148'}}, u'Ramada Boston': {'Ratings': {'Service': u'3.5', 'Cleanliness': u'3.5', 'Value': u'3.5', 'Sleep Quality': u'3.5', 'Location': u'3.5', 'Rooms': u'3'}, 'Travel Ratings': {1: u'127', 2: u'172', 3: u'256', 4: u'235', 5: u'130'}, 'Review Type': {'Couples': u'195', 'Solo': u'83', 'Families': u'296', 'Business': u'163'}}, u'InterContinental Boston': {'Ratings': {'Service': u'4.5', 'Cleanliness': u'4.5', 'Value': u'4', 'Sleep Quality': u'4.5', 'Location': u'4.5', 'Rooms': u'4.5'}, 'Travel Ratings': {1: u'47', 2: u'56', 3: u'130', 4: u'526', 5: u'1,138'}, 'Review Type': {'Couples': u'665', 'Solo': u'127', 'Families': u'383', 'Business': u'475'}}, u'Boston Park Plaza': {'Ratings': {'Service': u'3.5', 'Cleanliness': u'3.5', 'Value': u'3.5', 'Sleep Quality': u'3.5', 'Location': u'4.5', 'Rooms': u'3'}, 'Travel Ratings': {1: u'516', 2: u'664', 3: u'1,016', 4: u'1,317', 5: u'741'}, 'Review Type': {'Couples': u'1,248', 'Solo': u'293', 'Families': u'633', 'Business': u'1,190'}}, u'enVision Hotel Boston': {'Ratings': {'Service': u'4.5', 'Cleanliness': u'5', 'Value': u'4.5', 'Sleep Quality': u'4', 'Location': u'4.5', 'Rooms': u'4.5'}, 'Travel Ratings': {1: u'1', 2: u'7', 3: u'21', 4: u'85', 5: u'246'}, 'Review Type': {'Couples': u'102', 'Solo': u'29', 'Families': u'104', 'Business': u'64'}}, u'Chandler Inn': {'Ratings': {'Service': u'4', 'Cleanliness': u'4.5', 'Value': u'4', 'Sleep Quality': u'4', 'Location': u'4.5', 'Rooms': u'4'}, 'Travel Ratings': {1: u'25', 2: u'48', 3: u'110', 4: u'406', 5: u'269'}, 'Review Type': {'Couples': u'367', 'Solo': u'126', 'Families': u'77', 'Business': u'120'}}, u'DoubleTree Suites by Hilton Boston-Cambridge': {'Ratings': {'Service': u'4', 'Cleanliness': u'4.5', 'Value': u'4', 'Sleep Quality': u'4', 'Location': u'4', 'Rooms': u'4'}, 'Travel Ratings': {1: u'35', 2: u'58', 3: u'138', 4: u'443', 5: u'390'}, 'Review Type': {'Couples': u'191', 'Solo': u'68', 'Families': u'364', 'Business': u'293'}}, u'Boston Harbor Hotel': {'Ratings': {'Service': u'5', 'Cleanliness': u'5', 'Value': u'4.5', 'Sleep Quality': u'4.5', 'Location': u'5', 'Rooms': u'4.5'}, 'Travel Ratings': {1: u'11', 2: u'15', 3: u'44', 4: u'189', 5: u'992'}, 'Review Type': {'Couples': u'462', 'Solo': u'55', 'Families': u'285', 'Business': u'255'}}, u\"Marriott's Custom House\": {'Ratings': {'Service': u'4.5', 'Cleanliness': u'4.5', 'Value': u'4', 'Sleep Quality': u'4.5', 'Location': u'5', 'Rooms': u'4.5'}, 'Travel Ratings': {1: u'12', 2: u'12', 3: u'11', 4: u'146', 5: u'381'}, 'Review Type': {'Couples': u'179', 'Solo': u'15', 'Families': u'218', 'Business': u'45'}}, u'The Inn At St Botolph': {'Ratings': {'Service': u'4.5', 'Cleanliness': u'4.5', 'Value': u'4.5', 'Sleep Quality': u'4.5', 'Location': u'5', 'Rooms': u'4.5'}, 'Travel Ratings': {1: u'2', 2: u'7', 3: u'20', 4: u'105', 5: u'295'}, 'Review Type': {'Couples': u'186', 'Solo': u'51', 'Families': u'78', 'Business': u'87'}}, u'Battery Wharf Hotel, Boston Waterfront': {'Ratings': {'Service': u'4.5', 'Cleanliness': u'4.5', 'Value': u'4', 'Sleep Quality': u'4.5', 'Location': u'4.5', 'Rooms': u'4.5'}, 'Travel Ratings': {1: u'9', 2: u'24', 3: u'74', 4: u'197', 5: u'560'}, 'Review Type': {'Couples': u'407', 'Solo': u'51', 'Families': u'175', 'Business': u'128'}}, u'Club Quarters in Boston': {'Ratings': {'Service': u'4', 'Cleanliness': u'4.5', 'Value': u'4', 'Sleep Quality': u'4', 'Location': u'4.5', 'Rooms': u'4'}, 'Travel Ratings': {1: u'34', 2: u'49', 3: u'133', 4: u'420', 5: u'415'}, 'Review Type': {'Couples': u'354', 'Solo': u'112', 'Families': u'111', 'Business': u'239'}}, u'Sheraton Boston Hotel': {'Ratings': {'Service': u'4', 'Cleanliness': u'4.5', 'Value': u'4', 'Sleep Quality': u'4.5', 'Location': u'4.5', 'Rooms': u'4'}, 'Travel Ratings': {1: u'19', 2: u'19', 3: u'74', 4: u'224', 5: u'197'}, 'Review Type': {'Couples': u'127', 'Solo': u'17', 'Families': u'107', 'Business': u'203'}}, u'Hilton Boston Downtown / Faneuil Hall': {'Ratings': {'Service': u'4', 'Cleanliness': u'4.5', 'Value': u'3.5', 'Sleep Quality': u'4', 'Location': u'4.5', 'Rooms': u'4'}, 'Travel Ratings': {1: u'30', 2: u'42', 3: u'162', 4: u'340', 5: u'302'}, 'Review Type': {'Couples': u'253', 'Solo': u'30', 'Families': u'206', 'Business': u'230'}}, u'XV Beacon': {'Ratings': {'Service': u'4.5', 'Cleanliness': u'5', 'Value': u'4', 'Sleep Quality': u'4.5', 'Location': u'5', 'Rooms': u'4.5'}, 'Travel Ratings': {1: u'9', 2: u'22', 3: u'30', 4: u'139', 5: u'598'}, 'Review Type': {'Couples': u'406', 'Solo': u'40', 'Families': u'112', 'Business': u'115'}}, u'Hilton Boston Back Bay': {'Ratings': {'Service': u'4', 'Cleanliness': u'4.5', 'Value': u'4', 'Sleep Quality': u'4', 'Location': u'4.5', 'Rooms': u'4'}, 'Travel Ratings': {1: u'27', 2: u'91', 3: u'283', 4: u'731', 5: u'575'}, 'Review Type': {'Couples': u'458', 'Solo': u'116', 'Families': u'413', 'Business': u'471'}}, u'Days Hotel Boston': {'Ratings': {'Service': u'3', 'Cleanliness': u'3', 'Value': u'3', 'Sleep Quality': u'3', 'Location': u'3.5', 'Rooms': u'3'}, 'Travel Ratings': {1: u'33', 2: u'49', 3: u'57', 4: u'32', 5: u'19'}, 'Review Type': {'Couples': u'31', 'Solo': u'12', 'Families': u'58', 'Business': u'41'}}, u'Hyatt Regency Boston': {'Ratings': {'Service': u'4', 'Cleanliness': u'4.5', 'Value': u'3.5', 'Sleep Quality': u'4', 'Location': u'4.5', 'Rooms': u'4'}, 'Travel Ratings': {1: u'55', 2: u'133', 3: u'381', 4: u'738', 5: u'627'}, 'Review Type': {'Couples': u'568', 'Solo': u'115', 'Families': u'393', 'Business': u'474'}}, u'Newbury Guest House': {'Ratings': {'Service': u'4', 'Cleanliness': u'4.5', 'Value': u'4', 'Sleep Quality': u'4.5', 'Location': u'5', 'Rooms': u'4'}, 'Travel Ratings': {1: u'14', 2: u'20', 3: u'44', 4: u'185', 5: u'173'}, 'Review Type': {'Couples': u'200', 'Solo': u'26', 'Families': u'64', 'Business': u'45'}}, u'Hyatt Boston Harbor': {'Ratings': {'Service': u'4.5', 'Cleanliness': u'4.5', 'Value': u'4', 'Sleep Quality': u'4', 'Location': u'4.5', 'Rooms': u'4'}, 'Travel Ratings': {1: u'34', 2: u'67', 3: u'166', 4: u'424', 5: u'480'}, 'Review Type': {'Couples': u'335', 'Solo': u'105', 'Families': u'240', 'Business': u'329'}}, u'The Langham, Boston': {'Ratings': {'Service': u'4.5', 'Cleanliness': u'4.5', 'Value': u'4', 'Sleep Quality': u'4.5', 'Location': u'4.5', 'Rooms': u'4.5'}, 'Travel Ratings': {1: u'29', 2: u'41', 3: u'112', 4: u'419', 5: u'809'}, 'Review Type': {'Couples': u'559', 'Solo': u'51', 'Families': u'249', 'Business': u'324'}}, u'Loews Boston Hotel': {'Ratings': {'Service': u'4.5', 'Cleanliness': u'4.5', 'Value': u'4', 'Sleep Quality': u'4.5', 'Location': u'4.5', 'Rooms': u'4.5'}, 'Travel Ratings': {1: u'3', 2: u'15', 3: u'59', 4: u'216', 5: u'478'}, 'Review Type': {'Couples': u'275', 'Solo': u'22', 'Families': u'175', 'Business': u'152'}}, u'Hotel 140': {'Ratings': {'Service': u'4', 'Cleanliness': u'4.5', 'Value': u'4', 'Sleep Quality': u'4', 'Location': u'4.5', 'Rooms': u'3.5'}, 'Travel Ratings': {1: u'45', 2: u'56', 3: u'161', 4: u'390', 5: u'320'}, 'Review Type': {'Couples': u'417', 'Solo': u'108', 'Families': u'119', 'Business': u'148'}}, u'BEST WESTERN PLUS Roundhouse Suites': {'Ratings': {'Service': u'4', 'Cleanliness': u'4', 'Value': u'4', 'Sleep Quality': u'3.5', 'Location': u'4', 'Rooms': u'4'}, 'Travel Ratings': {1: u'34', 2: u'69', 3: u'129', 4: u'305', 5: u'179'}, 'Review Type': {'Couples': u'179', 'Solo': u'17', 'Families': u'257', 'Business': u'104'}}, u'The Liberty Hotel': {'Ratings': {'Service': u'4.5', 'Cleanliness': u'4.5', 'Value': u'3.5', 'Sleep Quality': u'4', 'Location': u'4.5', 'Rooms': u'4'}, 'Travel Ratings': {1: u'32', 2: u'28', 3: u'78', 4: u'211', 5: u'396'}, 'Review Type': {'Couples': u'265', 'Solo': u'28', 'Families': u'126', 'Business': u'173'}}, u'The Ritz-Carlton Boston Common': {'Ratings': {'Service': u'4.5', 'Cleanliness': u'4.5', 'Value': u'4', 'Sleep Quality': u'4.5', 'Location': u'4.5', 'Rooms': u'4.5'}, 'Travel Ratings': {1: u'13', 2: u'39', 3: u'51', 4: u'111', 5: u'299'}, 'Review Type': {'Couples': u'120', 'Solo': u'19', 'Families': u'124', 'Business': u'143'}}, u'Milner Hotel': {'Ratings': {'Service': u'3.5', 'Cleanliness': u'3.5', 'Value': u'3.5', 'Sleep Quality': u'3.5', 'Location': u'4.5', 'Rooms': u'2.5'}, 'Travel Ratings': {1: u'64', 2: u'44', 3: u'112', 4: u'119', 5: u'29'}, 'Review Type': {'Couples': u'107', 'Solo': u'77', 'Families': u'43', 'Business': u'56'}}, u'Copley Square Hotel': {'Ratings': {'Service': u'4.5', 'Cleanliness': u'4.5', 'Value': u'4', 'Sleep Quality': u'4.5', 'Location': u'5', 'Rooms': u'4'}, 'Travel Ratings': {1: u'15', 2: u'28', 3: u'103', 4: u'360', 5: u'540'}, 'Review Type': {'Couples': u'418', 'Solo': u'88', 'Families': u'188', 'Business': u'223'}}, u'Nine Zero Hotel - a Kimpton Hotel': {'Ratings': {'Service': u'4.5', 'Cleanliness': u'4.5', 'Value': u'4', 'Sleep Quality': u'4.5', 'Location': u'5', 'Rooms': u'4.5'}, 'Travel Ratings': {1: u'19', 2: u'30', 3: u'105', 4: u'496', 5: u'1,179'}, 'Review Type': {'Couples': u'830', 'Solo': u'119', 'Families': u'328', 'Business': u'324'}}, u'Boston Hotel Buckminster': {'Ratings': {'Service': u'4', 'Cleanliness': u'4', 'Value': u'4', 'Sleep Quality': u'4', 'Location': u'4.5', 'Rooms': u'3.5'}, 'Travel Ratings': {1: u'70', 2: u'67', 3: u'149', 4: u'373', 5: u'169'}, 'Review Type': {'Couples': u'276', 'Solo': u'63', 'Families': u'178', 'Business': u'106'}}, u'Embassy Suites Boston Logan Airport': {'Ratings': {'Service': u'4', 'Cleanliness': u'4.5', 'Value': u'4', 'Sleep Quality': u'4', 'Location': u'4.5', 'Rooms': u'4'}, 'Travel Ratings': {1: u'40', 2: u'66', 3: u'217', 4: u'517', 5: u'482'}, 'Review Type': {'Couples': u'307', 'Solo': u'77', 'Families': u'429', 'Business': u'302'}}, u'Wyndham Boston Beacon Hill': {'Ratings': {'Service': u'4', 'Cleanliness': u'4.5', 'Value': u'3.5', 'Sleep Quality': u'4', 'Location': u'4.5', 'Rooms': u'4'}, 'Travel Ratings': {1: u'32', 2: u'70', 3: u'186', 4: u'404', 5: u'348'}, 'Review Type': {'Couples': u'167', 'Solo': u'101', 'Families': u'363', 'Business': u'281'}}, u'Holiday Inn Express Hotel & Suites Boston Garden': {'Ratings': {'Service': u'4', 'Cleanliness': u'4', 'Value': u'3.5', 'Sleep Quality': u'3.5', 'Location': u'4.5', 'Rooms': u'3.5'}, 'Travel Ratings': {1: u'19', 2: u'27', 3: u'64', 4: u'115', 5: u'81'}, 'Review Type': {'Couples': u'92', 'Solo': u'16', 'Families': u'72', 'Business': u'45'}}, u'Ames Boston Hotel': {'Ratings': {'Service': u'4.5', 'Cleanliness': u'4.5', 'Value': u'4', 'Sleep Quality': u'4.5', 'Location': u'5', 'Rooms': u'4.5'}, 'Travel Ratings': {1: u'15', 2: u'35', 3: u'89', 4: u'258', 5: u'473'}, 'Review Type': {'Couples': u'431', 'Solo': u'65', 'Families': u'103', 'Business': u'153'}}, u'Boston Marriott Copley Place': {'Ratings': {'Service': u'4', 'Cleanliness': u'4.5', 'Value': u'3.5', 'Sleep Quality': u'4', 'Location': u'4.5', 'Rooms': u'4'}, 'Travel Ratings': {1: u'35', 2: u'98', 3: u'332', 4: u'937', 5: u'638'}, 'Review Type': {'Couples': u'466', 'Solo': u'95', 'Families': u'440', 'Business': u'710'}}, u'The Boxer Boston': {'Ratings': {'Service': u'4.5', 'Cleanliness': u'4.5', 'Value': u'4', 'Sleep Quality': u'4.5', 'Location': u'4.5', 'Rooms': u'4'}, 'Travel Ratings': {1: u'8', 2: u'8', 3: u'45', 4: u'134', 5: u'174'}, 'Review Type': {'Couples': u'145', 'Solo': u'18', 'Families': u'58', 'Business': u'56'}}, u'The Inn at Longwood Medical': {'Ratings': {'Service': u'4.5', 'Cleanliness': u'4', 'Value': u'4', 'Sleep Quality': u'4', 'Location': u'4.5', 'Rooms': u'4'}, 'Travel Ratings': {1: u'39', 2: u'43', 3: u'96', 4: u'162', 5: u'347'}, 'Review Type': {'Couples': u'100', 'Solo': u'61', 'Families': u'238', 'Business': u'187'}}, u'Hilton Boston Logan Airport': {'Ratings': {'Service': u'4', 'Cleanliness': u'4.5', 'Value': u'3.5', 'Sleep Quality': u'4.5', 'Location': u'4.5', 'Rooms': u'4'}, 'Travel Ratings': {1: u'47', 2: u'85', 3: u'295', 4: u'857', 5: u'686'}, 'Review Type': {'Couples': u'514', 'Solo': u'192', 'Families': u'422', 'Business': u'604'}}, u'Eliot Hotel': {'Ratings': {'Service': u'4.5', 'Cleanliness': u'4.5', 'Value': u'4', 'Sleep Quality': u'4.5', 'Location': u'4.5', 'Rooms': u'4.5'}, 'Travel Ratings': {1: u'23', 2: u'29', 3: u'65', 4: u'196', 5: u'433'}, 'Review Type': {'Couples': u'206', 'Solo': u'29', 'Families': u'223', 'Business': u'117'}}, u'Renaissance Boston Waterfront Hotel': {'Ratings': {'Service': u'4.5', 'Cleanliness': u'4.5', 'Value': u'4', 'Sleep Quality': u'4', 'Location': u'4.5', 'Rooms': u'4.5'}, 'Travel Ratings': {1: u'15', 2: u'34', 3: u'104', 4: u'383', 5: u'337'}, 'Review Type': {'Couples': u'215', 'Solo': u'62', 'Families': u'140', 'Business': u'371'}}, u'Four Seasons Hotel Boston': {'Ratings': {'Service': u'5', 'Cleanliness': u'5', 'Value': u'4', 'Sleep Quality': u'5', 'Location': u'5', 'Rooms': u'4.5'}, 'Travel Ratings': {1: u'13', 2: u'22', 3: u'47', 4: u'140', 5: u'811'}, 'Review Type': {'Couples': u'256', 'Solo': u'47', 'Families': u'292', 'Business': u'318'}}, u'Comfort Inn - Boston': {'Ratings': {'Service': u'3.5', 'Cleanliness': u'4', 'Value': u'3.5', 'Sleep Quality': u'3', 'Location': u'3.5', 'Rooms': u'3.5'}, 'Travel Ratings': {1: u'27', 2: u'34', 3: u'85', 4: u'94', 5: u'47'}, 'Review Type': {'Couples': u'91', 'Solo': u'17', 'Families': u'69', 'Business': u'41'}}, u'Charlesmark Hotel': {'Ratings': {'Service': u'4', 'Cleanliness': u'4.5', 'Value': u'4', 'Sleep Quality': u'4', 'Location': u'5', 'Rooms': u'4'}, 'Travel Ratings': {1: u'18', 2: u'34', 3: u'71', 4: u'302', 5: u'329'}, 'Review Type': {'Couples': u'304', 'Solo': u'95', 'Families': u'44', 'Business': u'140'}}, u'Mandarin Oriental, Boston': {'Ratings': {'Service': u'4.5', 'Cleanliness': u'5', 'Value': u'4', 'Sleep Quality': u'5', 'Location': u'5', 'Rooms': u'4.5'}, 'Travel Ratings': {1: u'6', 2: u'7', 3: u'20', 4: u'61', 5: u'314'}, 'Review Type': {'Couples': u'115', 'Solo': u'30', 'Families': u'78', 'Business': u'132'}}, u'W Boston': {'Ratings': {'Service': u'4.5', 'Cleanliness': u'4.5', 'Value': u'3.5', 'Sleep Quality': u'4.5', 'Location': u'4.5', 'Rooms': u'4'}, 'Travel Ratings': {1: u'28', 2: u'50', 3: u'107', 4: u'262', 5: u'418'}, 'Review Type': {'Couples': u'312', 'Solo': u'67', 'Families': u'128', 'Business': u'218'}}, u'The Westin Copley Place': {'Ratings': {'Service': u'4.5', 'Cleanliness': u'4.5', 'Value': u'4', 'Sleep Quality': u'4.5', 'Location': u'5', 'Rooms': u'4.5'}, 'Travel Ratings': {1: u'34', 2: u'93', 3: u'277', 4: u'833', 5: u'1,071'}, 'Review Type': {'Couples': u'495', 'Solo': u'103', 'Families': u'547', 'Business': u'774'}}, u'The Midtown Hotel': {'Ratings': {'Service': u'4', 'Cleanliness': u'4', 'Value': u'4', 'Sleep Quality': u'4', 'Location': u'4.5', 'Rooms': u'3.5'}, 'Travel Ratings': {1: u'64', 2: u'124', 3: u'340', 4: u'608', 5: u'255'}, 'Review Type': {'Couples': u'327', 'Solo': u'106', 'Families': u'395', 'Business': u'244'}}, u'Omni Parker House': {'Ratings': {'Service': u'4.5', 'Cleanliness': u'4.5', 'Value': u'4', 'Sleep Quality': u'4', 'Location': u'5', 'Rooms': u'4'}, 'Travel Ratings': {1: u'134', 2: u'244', 3: u'563', 4: u'1,490', 5: u'2,032'}, 'Review Type': {'Couples': u'1,520', 'Solo': u'252', 'Families': u'919', 'Business': u'1,014'}}, u'The Verb Hotel': {'Ratings': {'Service': u'4.5', 'Cleanliness': u'5', 'Value': u'4.5', 'Sleep Quality': u'4.5', 'Location': u'4.5', 'Rooms': u'4.5'}, 'Travel Ratings': {1: u'2', 2: u'1', 3: u'9', 4: u'56', 5: u'178'}, 'Review Type': {'Couples': u'79', 'Solo': u'18', 'Families': u'41', 'Business': u'31'}}, u'Holiday Inn Express Boston': {'Ratings': {'Service': u'4', 'Cleanliness': u'4', 'Value': u'4', 'Sleep Quality': u'3.5', 'Location': u'4', 'Rooms': u'4'}, 'Travel Ratings': {1: u'23', 2: u'27', 3: u'99', 4: u'255', 5: u'134'}, 'Review Type': {'Couples': u'194', 'Solo': u'38', 'Families': u'132', 'Business': u'78'}}, u'Boston Marriott Long Wharf': {'Ratings': {'Service': u'4.5', 'Cleanliness': u'4.5', 'Value': u'3.5', 'Sleep Quality': u'4', 'Location': u'5', 'Rooms': u'4'}, 'Travel Ratings': {1: u'26', 2: u'49', 3: u'137', 4: u'467', 5: u'611'}, 'Review Type': {'Couples': u'344', 'Solo': u'38', 'Families': u'434', 'Business': u'253'}}, u'Residence Inn Boston Back Bay / Fenway': {'Ratings': {'Service': u'4.5', 'Cleanliness': u'5', 'Value': u'4.5', 'Sleep Quality': u'4.5', 'Location': u'4.5', 'Rooms': u'4.5'}, 'Travel Ratings': {1: u'3', 2: u'9', 3: u'23', 4: u'135', 5: u'353'}, 'Review Type': {'Couples': u'86', 'Solo': u'16', 'Families': u'199', 'Business': u'86'}}, u'Millennium Bostonian Hotel': {'Ratings': {'Service': u'4', 'Cleanliness': u'4.5', 'Value': u'4', 'Sleep Quality': u'4', 'Location': u'5', 'Rooms': u'4'}, 'Travel Ratings': {1: u'33', 2: u'55', 3: u'116', 4: u'377', 5: u'438'}, 'Review Type': {'Couples': u'415', 'Solo': u'60', 'Families': u'188', 'Business': u'156'}}, u'Harborside Inn': {'Ratings': {'Service': u'4', 'Cleanliness': u'4.5', 'Value': u'4', 'Sleep Quality': u'4', 'Location': u'5', 'Rooms': u'4'}, 'Travel Ratings': {1: u'41', 2: u'47', 3: u'98', 4: u'460', 5: u'388'}, 'Review Type': {'Couples': u'545', 'Solo': u'74', 'Families': u'87', 'Business': u'113'}}, u'Courtyard Boston-South Boston': {'Ratings': {'Service': u'4', 'Cleanliness': u'4.5', 'Value': u'4', 'Sleep Quality': u'3.5', 'Location': u'4', 'Rooms': u'4.5'}, 'Travel Ratings': {1: u'12', 2: u'23', 3: u'56', 4: u'162', 5: u'91'}, 'Review Type': {'Couples': u'90', 'Solo': u'22', 'Families': u'111', 'Business': u'73'}}, u'Beacon Hill Hotel and Bistro': {'Ratings': {'Service': u'4', 'Cleanliness': u'4.5', 'Value': u'4', 'Sleep Quality': u'4', 'Location': u'5', 'Rooms': u'4'}, 'Travel Ratings': {1: u'4', 2: u'9', 3: u'18', 4: u'46', 5: u'66'}, 'Review Type': {'Couples': u'72', 'Solo': u'15', 'Families': u'17', 'Business': u'13'}}, u'Constitution Inn': {'Ratings': {'Service': u'3.5', 'Cleanliness': u'3.5', 'Value': u'3.5', 'Sleep Quality': u'3.5', 'Location': u'3.5', 'Rooms': u'3'}, 'Travel Ratings': {1: u'49', 2: u'60', 3: u'115', 4: u'131', 5: u'56'}, 'Review Type': {'Couples': u'112', 'Solo': u'33', 'Families': u'103', 'Business': u'42'}}, u'Residence Inn Boston Downtown Seaport': {'Ratings': {'Service': u'4.5', 'Cleanliness': u'5', 'Value': u'4', 'Sleep Quality': u'4.5', 'Location': u'4.5', 'Rooms': u'5'}, 'Travel Ratings': {1: u'1', 2: u'7', 3: u'6', 4: u'52', 5: u'168'}, 'Review Type': {'Couples': u'69', 'Solo': u'4', 'Families': u'65', 'Business': u'53'}}, u'The Westin Boston Waterfront': {'Ratings': {'Service': u'4', 'Cleanliness': u'4.5', 'Value': u'3.5', 'Sleep Quality': u'3.5', 'Location': u'4.5', 'Rooms': u'4'}, 'Travel Ratings': {1: u'46', 2: u'85', 3: u'267', 4: u'637', 5: u'586'}, 'Review Type': {'Couples': u'383', 'Solo': u'107', 'Families': u'234', 'Business': u'728'}}, u'Courtyard by Marriott Boston Copley Square': {'Ratings': {'Service': u'4.5', 'Cleanliness': u'4.5', 'Value': u'4.5', 'Sleep Quality': u'4.5', 'Location': u'5', 'Rooms': u'4.5'}, 'Travel Ratings': {1: u'11', 2: u'8', 3: u'43', 4: u'276', 5: u'628'}, 'Review Type': {'Couples': u'222', 'Solo': u'70', 'Families': u'230', 'Business': u'300'}}, u'Taj Boston': {'Ratings': {'Service': u'4', 'Cleanliness': u'4.5', 'Value': u'4', 'Sleep Quality': u'4.5', 'Location': u'5', 'Rooms': u'4'}, 'Travel Ratings': {1: u'32', 2: u'83', 3: u'149', 4: u'374', 5: u'509'}, 'Review Type': {'Couples': u'433', 'Solo': u'77', 'Families': u'241', 'Business': u'244'}}, u'Americas Best Value Inn': {'Ratings': {'Service': u'2.5', 'Cleanliness': u'3', 'Value': u'3', 'Sleep Quality': u'2.5', 'Location': u'3', 'Rooms': u'2.5'}, 'Travel Ratings': {1: u'5', 2: u'1', 3: u'8', 4: u'2', 5: u'2'}, 'Review Type': {'Couples': u'3', 'Solo': u'2', 'Families': u'4', 'Business': u'3'}}, u'Copley House': {'Ratings': {'Service': u'3.5', 'Cleanliness': u'3.5', 'Value': u'4', 'Sleep Quality': u'3.5', 'Location': u'4.5', 'Rooms': u'3.5'}, 'Travel Ratings': {1: u'41', 2: u'32', 3: u'60', 4: u'138', 5: u'109'}, 'Review Type': {'Couples': u'113', 'Solo': u'37', 'Families': u'80', 'Business': u'67'}}, u'Seaport Boston Hotel': {'Ratings': {'Service': u'4.5', 'Cleanliness': u'5', 'Value': u'4.5', 'Sleep Quality': u'4.5', 'Location': u'4.5', 'Rooms': u'4.5'}, 'Travel Ratings': {1: u'31', 2: u'33', 3: u'98', 4: u'506', 5: u'1,883'}, 'Review Type': {'Couples': u'552', 'Solo': u'108', 'Families': u'461', 'Business': u'1,113'}}, u'BEST WESTERN University Hotel Boston-Brighton': {'Ratings': {'Service': u'4', 'Cleanliness': u'4', 'Value': u'4', 'Sleep Quality': u'4', 'Location': u'4', 'Rooms': u'3.5'}, 'Travel Ratings': {1: u'21', 2: u'33', 3: u'78', 4: u'132', 5: u'97'}, 'Review Type': {'Couples': u'59', 'Solo': u'27', 'Families': u'166', 'Business': u'49'}}, u'Courtyard Boston Downtown': {'Ratings': {'Service': u'3.5', 'Cleanliness': u'3.5', 'Value': u'3', 'Sleep Quality': u'3', 'Location': u'4', 'Rooms': u'3'}, 'Travel Ratings': {1: u'81', 2: u'152', 3: u'266', 4: u'233', 5: u'76'}, 'Review Type': {'Couples': u'234', 'Solo': u'72', 'Families': u'114', 'Business': u'224'}}, u'DoubleTree by Hilton Hotel Boston - Downtown': {'Ratings': {'Service': u'4.5', 'Cleanliness': u'4.5', 'Value': u'4', 'Sleep Quality': u'4.5', 'Location': u'4.5', 'Rooms': u'4.5'}, 'Travel Ratings': {1: u'8', 2: u'19', 3: u'61', 4: u'178', 5: u'204'}, 'Review Type': {'Couples': u'110', 'Solo': u'19', 'Families': u'114', 'Business': u'145'}}}\n"
       ]
      }
     ],
     "prompt_number": 4
    },
    {
     "cell_type": "code",
     "collapsed": false,
     "input": [
      "import numpy as np\n",
      "import pandas as pd"
     ],
     "language": "python",
     "metadata": {},
     "outputs": [],
     "prompt_number": 5
    },
    {
     "cell_type": "markdown",
     "metadata": {},
     "source": [
      "Initialize numpy array of zeros called `hotel_ratings`. This numpy array will hold all of the hotel ratings!"
     ]
    },
    {
     "cell_type": "code",
     "collapsed": false,
     "input": [
      "hotel_ratings = np.zeros((len(hotel_info.keys()),6))\n",
      "print hotel_ratings.shape"
     ],
     "language": "python",
     "metadata": {},
     "outputs": [
      {
       "output_type": "stream",
       "stream": "stdout",
       "text": [
        "(77, 6)\n"
       ]
      }
     ],
     "prompt_number": 6
    },
    {
     "cell_type": "markdown",
     "metadata": {},
     "source": [
      "Start storing data from the dictionary `hotel_info` in the above numpy array:"
     ]
    },
    {
     "cell_type": "code",
     "collapsed": false,
     "input": [
      "x = 0\n",
      "for hotel in hotel_info:\n",
      "    y = 0\n",
      "    travel_ratings = hotel_info[hotel]['Ratings'] #grab the hotel summary ratings\n",
      "    for rating in travel_ratings:\n",
      "        hotel_ratings[x,y] = float(travel_ratings[rating]) #parsed_rating\n",
      "        y += 1\n",
      "    \n",
      "    x += 1 #increment x\n",
      "    y = 0 #reset y"
     ],
     "language": "python",
     "metadata": {},
     "outputs": [],
     "prompt_number": 8
    },
    {
     "cell_type": "markdown",
     "metadata": {},
     "source": [
      "Sanity check:"
     ]
    },
    {
     "cell_type": "code",
     "collapsed": false,
     "input": [
      "print hotel_ratings.T.shape"
     ],
     "language": "python",
     "metadata": {},
     "outputs": [
      {
       "output_type": "stream",
       "stream": "stdout",
       "text": [
        "(6, 77)\n"
       ]
      }
     ],
     "prompt_number": 9
    },
    {
     "cell_type": "code",
     "collapsed": false,
     "input": [
      "print len(hotel_info.keys())"
     ],
     "language": "python",
     "metadata": {},
     "outputs": [
      {
       "output_type": "stream",
       "stream": "stdout",
       "text": [
        "77\n"
       ]
      }
     ],
     "prompt_number": 10
    },
    {
     "cell_type": "markdown",
     "metadata": {},
     "source": [
      "Convert the numpy array `hotel_ratings` to a dataframe (so that we can organize our data better):"
     ]
    },
    {
     "cell_type": "code",
     "collapsed": false,
     "input": [
      "hotel_ratings_df = pd.DataFrame(hotel_ratings.T, columns=hotel_info.keys()) #Convert numpy array to dataframe\n",
      "hotel_ratings_df = hotel_ratings_df.rename(index={0:'Service', 1:'Cleanliness', 2:'Value', 3:'Sleep Quality', 4:'Location', 5:'Rooms'}) #Rename the indices to what they're supposed to be"
     ],
     "language": "python",
     "metadata": {},
     "outputs": [],
     "prompt_number": 11
    },
    {
     "cell_type": "code",
     "collapsed": false,
     "input": [
      "hotel_ratings_df"
     ],
     "language": "python",
     "metadata": {},
     "outputs": [
      {
       "html": [
        "<div style=\"max-height:1000px;max-width:1500px;overflow:auto;\">\n",
        "<table border=\"1\" class=\"dataframe\">\n",
        "  <thead>\n",
        "    <tr style=\"text-align: right;\">\n",
        "      <th></th>\n",
        "      <th>Hotel Commonwealth</th>\n",
        "      <th>The Fairmont Copley Plaza, Boston</th>\n",
        "      <th>Colonnade Hotel</th>\n",
        "      <th>Revere Hotel Boston Common</th>\n",
        "      <th>Residence Inn by Marriott Boston Harbor on Tudor Wharf</th>\n",
        "      <th>Lenox Hotel</th>\n",
        "      <th>The Boston Common Hotel and Conference Center</th>\n",
        "      <th>Courtyard by Marriott Boston Logan Airport</th>\n",
        "      <th>DoubleTree Club by Hilton Hotel Boston Bayside</th>\n",
        "      <th>Hampton Inn &amp; Suites Boston Crosstown Center</th>\n",
        "      <th>...</th>\n",
        "      <th>Residence Inn Boston Downtown Seaport</th>\n",
        "      <th>The Westin Boston Waterfront</th>\n",
        "      <th>Courtyard by Marriott Boston Copley Square</th>\n",
        "      <th>Taj Boston</th>\n",
        "      <th>Americas Best Value Inn</th>\n",
        "      <th>Copley House</th>\n",
        "      <th>Seaport Boston Hotel</th>\n",
        "      <th>BEST WESTERN University Hotel Boston-Brighton</th>\n",
        "      <th>Courtyard Boston Downtown</th>\n",
        "      <th>DoubleTree by Hilton Hotel Boston - Downtown</th>\n",
        "    </tr>\n",
        "  </thead>\n",
        "  <tbody>\n",
        "    <tr>\n",
        "      <th>Service</th>\n",
        "      <td> 5.0</td>\n",
        "      <td> 4.5</td>\n",
        "      <td> 4.5</td>\n",
        "      <td> 4.5</td>\n",
        "      <td> 4.5</td>\n",
        "      <td> 5.0</td>\n",
        "      <td> 3.5</td>\n",
        "      <td> 4.0</td>\n",
        "      <td> 4.0</td>\n",
        "      <td> 4.0</td>\n",
        "      <td>...</td>\n",
        "      <td> 4.5</td>\n",
        "      <td> 4.0</td>\n",
        "      <td> 4.5</td>\n",
        "      <td> 4.0</td>\n",
        "      <td> 2.5</td>\n",
        "      <td> 3.5</td>\n",
        "      <td> 4.5</td>\n",
        "      <td> 4.0</td>\n",
        "      <td> 3.5</td>\n",
        "      <td> 4.5</td>\n",
        "    </tr>\n",
        "    <tr>\n",
        "      <th>Cleanliness</th>\n",
        "      <td> 5.0</td>\n",
        "      <td> 4.5</td>\n",
        "      <td> 4.5</td>\n",
        "      <td> 4.5</td>\n",
        "      <td> 4.5</td>\n",
        "      <td> 5.0</td>\n",
        "      <td> 3.5</td>\n",
        "      <td> 4.0</td>\n",
        "      <td> 4.0</td>\n",
        "      <td> 4.5</td>\n",
        "      <td>...</td>\n",
        "      <td> 5.0</td>\n",
        "      <td> 4.5</td>\n",
        "      <td> 4.5</td>\n",
        "      <td> 4.5</td>\n",
        "      <td> 3.0</td>\n",
        "      <td> 3.5</td>\n",
        "      <td> 5.0</td>\n",
        "      <td> 4.0</td>\n",
        "      <td> 3.5</td>\n",
        "      <td> 4.5</td>\n",
        "    </tr>\n",
        "    <tr>\n",
        "      <th>Value</th>\n",
        "      <td> 4.5</td>\n",
        "      <td> 4.0</td>\n",
        "      <td> 4.0</td>\n",
        "      <td> 4.0</td>\n",
        "      <td> 4.0</td>\n",
        "      <td> 4.5</td>\n",
        "      <td> 3.5</td>\n",
        "      <td> 3.5</td>\n",
        "      <td> 3.5</td>\n",
        "      <td> 4.0</td>\n",
        "      <td>...</td>\n",
        "      <td> 4.0</td>\n",
        "      <td> 3.5</td>\n",
        "      <td> 4.5</td>\n",
        "      <td> 4.0</td>\n",
        "      <td> 3.0</td>\n",
        "      <td> 4.0</td>\n",
        "      <td> 4.5</td>\n",
        "      <td> 4.0</td>\n",
        "      <td> 3.0</td>\n",
        "      <td> 4.0</td>\n",
        "    </tr>\n",
        "    <tr>\n",
        "      <th>Sleep Quality</th>\n",
        "      <td> 5.0</td>\n",
        "      <td> 4.5</td>\n",
        "      <td> 4.5</td>\n",
        "      <td> 4.5</td>\n",
        "      <td> 4.5</td>\n",
        "      <td> 4.5</td>\n",
        "      <td> 3.5</td>\n",
        "      <td> 4.0</td>\n",
        "      <td> 3.5</td>\n",
        "      <td> 3.5</td>\n",
        "      <td>...</td>\n",
        "      <td> 4.5</td>\n",
        "      <td> 3.5</td>\n",
        "      <td> 4.5</td>\n",
        "      <td> 4.5</td>\n",
        "      <td> 2.5</td>\n",
        "      <td> 3.5</td>\n",
        "      <td> 4.5</td>\n",
        "      <td> 4.0</td>\n",
        "      <td> 3.0</td>\n",
        "      <td> 4.5</td>\n",
        "    </tr>\n",
        "    <tr>\n",
        "      <th>Location</th>\n",
        "      <td> 5.0</td>\n",
        "      <td> 5.0</td>\n",
        "      <td> 5.0</td>\n",
        "      <td> 4.5</td>\n",
        "      <td> 4.5</td>\n",
        "      <td> 5.0</td>\n",
        "      <td> 4.5</td>\n",
        "      <td> 4.0</td>\n",
        "      <td> 4.0</td>\n",
        "      <td> 4.0</td>\n",
        "      <td>...</td>\n",
        "      <td> 4.5</td>\n",
        "      <td> 4.5</td>\n",
        "      <td> 5.0</td>\n",
        "      <td> 5.0</td>\n",
        "      <td> 3.0</td>\n",
        "      <td> 4.5</td>\n",
        "      <td> 4.5</td>\n",
        "      <td> 4.0</td>\n",
        "      <td> 4.0</td>\n",
        "      <td> 4.5</td>\n",
        "    </tr>\n",
        "    <tr>\n",
        "      <th>Rooms</th>\n",
        "      <td> 5.0</td>\n",
        "      <td> 4.0</td>\n",
        "      <td> 4.5</td>\n",
        "      <td> 4.5</td>\n",
        "      <td> 4.5</td>\n",
        "      <td> 4.5</td>\n",
        "      <td> 3.0</td>\n",
        "      <td> 4.0</td>\n",
        "      <td> 4.0</td>\n",
        "      <td> 4.5</td>\n",
        "      <td>...</td>\n",
        "      <td> 5.0</td>\n",
        "      <td> 4.0</td>\n",
        "      <td> 4.5</td>\n",
        "      <td> 4.0</td>\n",
        "      <td> 2.5</td>\n",
        "      <td> 3.5</td>\n",
        "      <td> 4.5</td>\n",
        "      <td> 3.5</td>\n",
        "      <td> 3.0</td>\n",
        "      <td> 4.5</td>\n",
        "    </tr>\n",
        "  </tbody>\n",
        "</table>\n",
        "<p>6 rows \u00d7 77 columns</p>\n",
        "</div>"
       ],
       "metadata": {},
       "output_type": "pyout",
       "prompt_number": 12,
       "text": [
        "               Hotel Commonwealth  The Fairmont Copley Plaza, Boston  \\\n",
        "Service                       5.0                                4.5   \n",
        "Cleanliness                   5.0                                4.5   \n",
        "Value                         4.5                                4.0   \n",
        "Sleep Quality                 5.0                                4.5   \n",
        "Location                      5.0                                5.0   \n",
        "Rooms                         5.0                                4.0   \n",
        "\n",
        "               Colonnade Hotel  Revere Hotel Boston Common  \\\n",
        "Service                    4.5                         4.5   \n",
        "Cleanliness                4.5                         4.5   \n",
        "Value                      4.0                         4.0   \n",
        "Sleep Quality              4.5                         4.5   \n",
        "Location                   5.0                         4.5   \n",
        "Rooms                      4.5                         4.5   \n",
        "\n",
        "               Residence Inn by Marriott Boston Harbor on Tudor Wharf  \\\n",
        "Service                                                      4.5        \n",
        "Cleanliness                                                  4.5        \n",
        "Value                                                        4.0        \n",
        "Sleep Quality                                                4.5        \n",
        "Location                                                     4.5        \n",
        "Rooms                                                        4.5        \n",
        "\n",
        "               Lenox Hotel  The Boston Common Hotel and Conference Center  \\\n",
        "Service                5.0                                            3.5   \n",
        "Cleanliness            5.0                                            3.5   \n",
        "Value                  4.5                                            3.5   \n",
        "Sleep Quality          4.5                                            3.5   \n",
        "Location               5.0                                            4.5   \n",
        "Rooms                  4.5                                            3.0   \n",
        "\n",
        "               Courtyard by Marriott Boston Logan Airport  \\\n",
        "Service                                               4.0   \n",
        "Cleanliness                                           4.0   \n",
        "Value                                                 3.5   \n",
        "Sleep Quality                                         4.0   \n",
        "Location                                              4.0   \n",
        "Rooms                                                 4.0   \n",
        "\n",
        "               DoubleTree Club by Hilton Hotel Boston Bayside  \\\n",
        "Service                                                   4.0   \n",
        "Cleanliness                                               4.0   \n",
        "Value                                                     3.5   \n",
        "Sleep Quality                                             3.5   \n",
        "Location                                                  4.0   \n",
        "Rooms                                                     4.0   \n",
        "\n",
        "               Hampton Inn & Suites Boston Crosstown Center  \\\n",
        "Service                                                 4.0   \n",
        "Cleanliness                                             4.5   \n",
        "Value                                                   4.0   \n",
        "Sleep Quality                                           3.5   \n",
        "Location                                                4.0   \n",
        "Rooms                                                   4.5   \n",
        "\n",
        "                                   ...                       \\\n",
        "Service                            ...                        \n",
        "Cleanliness                        ...                        \n",
        "Value                              ...                        \n",
        "Sleep Quality                      ...                        \n",
        "Location                           ...                        \n",
        "Rooms                              ...                        \n",
        "\n",
        "               Residence Inn Boston Downtown Seaport  \\\n",
        "Service                                          4.5   \n",
        "Cleanliness                                      5.0   \n",
        "Value                                            4.0   \n",
        "Sleep Quality                                    4.5   \n",
        "Location                                         4.5   \n",
        "Rooms                                            5.0   \n",
        "\n",
        "               The Westin Boston Waterfront  \\\n",
        "Service                                 4.0   \n",
        "Cleanliness                             4.5   \n",
        "Value                                   3.5   \n",
        "Sleep Quality                           3.5   \n",
        "Location                                4.5   \n",
        "Rooms                                   4.0   \n",
        "\n",
        "               Courtyard by Marriott Boston Copley Square  Taj Boston  \\\n",
        "Service                                               4.5         4.0   \n",
        "Cleanliness                                           4.5         4.5   \n",
        "Value                                                 4.5         4.0   \n",
        "Sleep Quality                                         4.5         4.5   \n",
        "Location                                              5.0         5.0   \n",
        "Rooms                                                 4.5         4.0   \n",
        "\n",
        "               Americas Best Value Inn  Copley House  Seaport Boston Hotel  \\\n",
        "Service                            2.5           3.5                   4.5   \n",
        "Cleanliness                        3.0           3.5                   5.0   \n",
        "Value                              3.0           4.0                   4.5   \n",
        "Sleep Quality                      2.5           3.5                   4.5   \n",
        "Location                           3.0           4.5                   4.5   \n",
        "Rooms                              2.5           3.5                   4.5   \n",
        "\n",
        "               BEST WESTERN University Hotel Boston-Brighton  \\\n",
        "Service                                                  4.0   \n",
        "Cleanliness                                              4.0   \n",
        "Value                                                    4.0   \n",
        "Sleep Quality                                            4.0   \n",
        "Location                                                 4.0   \n",
        "Rooms                                                    3.5   \n",
        "\n",
        "               Courtyard Boston Downtown  \\\n",
        "Service                              3.5   \n",
        "Cleanliness                          3.5   \n",
        "Value                                3.0   \n",
        "Sleep Quality                        3.0   \n",
        "Location                             4.0   \n",
        "Rooms                                3.0   \n",
        "\n",
        "               DoubleTree by Hilton Hotel Boston - Downtown  \n",
        "Service                                                 4.5  \n",
        "Cleanliness                                             4.5  \n",
        "Value                                                   4.0  \n",
        "Sleep Quality                                           4.5  \n",
        "Location                                                4.5  \n",
        "Rooms                                                   4.5  \n",
        "\n",
        "[6 rows x 77 columns]"
       ]
      }
     ],
     "prompt_number": 12
    },
    {
     "cell_type": "markdown",
     "metadata": {},
     "source": [
      "Sanity check #2: Make sure that the ratings in the above dataframe are correct. For example, we want to make sure that the hotel commonwealth has 2,370 'excellent' ratings."
     ]
    },
    {
     "cell_type": "code",
     "collapsed": false,
     "input": [
      "#Print Hotel Commonwealth ratings\n",
      "print \"Hotel Commonwealth Ratings (from dictionary)\"\n",
      "for rating in hotel_info['Hotel Commonwealth']['Ratings']:\n",
      "    print \"%s: %s stars\" % (rating, hotel_info['Hotel Commonwealth']['Ratings'][rating])\n",
      "    \n",
      "print \"\\nHotel Commonwealth Ratings (from DataFrame)\"\n",
      "print hotel_ratings_df['Hotel Commonwealth']\n",
      "\n",
      "print \"\\n---------------------\\n\"\n",
      "\n",
      "#Print DoubleTree Club by Hilton Hotel Boston Bayside ratings\n",
      "print \"DoubleTree Club by Hilton Hotel Boston Bayside (from dictionary)\"\n",
      "for rating in hotel_info['DoubleTree Club by Hilton Hotel Boston Bayside']['Ratings']:\n",
      "    print \"%s: %s stars\" % (rating, hotel_info['DoubleTree Club by Hilton Hotel Boston Bayside']['Ratings'][rating])\n",
      "    \n",
      "print \"\\nDoubleTree Club by Hilton Hotel Boston Bayside (from DataFrame)\"\n",
      "print hotel_ratings_df['DoubleTree Club by Hilton Hotel Boston Bayside']"
     ],
     "language": "python",
     "metadata": {},
     "outputs": [
      {
       "output_type": "stream",
       "stream": "stdout",
       "text": [
        "Hotel Commonwealth Ratings (from dictionary)\n",
        "Service: 5 stars\n",
        "Cleanliness: 5 stars\n",
        "Value: 4.5 stars\n",
        "Sleep Quality: 5 stars\n",
        "Location: 5 stars\n",
        "Rooms: 5 stars\n",
        "\n",
        "Hotel Commonwealth Ratings (from DataFrame)\n",
        "Service          5.0\n",
        "Cleanliness      5.0\n",
        "Value            4.5\n",
        "Sleep Quality    5.0\n",
        "Location         5.0\n",
        "Rooms            5.0\n",
        "Name: Hotel Commonwealth, dtype: float64\n",
        "\n",
        "---------------------\n",
        "\n",
        "DoubleTree Club by Hilton Hotel Boston Bayside (from dictionary)\n",
        "Service: 4 stars\n",
        "Cleanliness: 4 stars\n",
        "Value: 3.5 stars\n",
        "Sleep Quality: 3.5 stars\n",
        "Location: 4 stars\n",
        "Rooms: 4 stars\n",
        "\n",
        "DoubleTree Club by Hilton Hotel Boston Bayside (from DataFrame)\n",
        "Service          4.0\n",
        "Cleanliness      4.0\n",
        "Value            3.5\n",
        "Sleep Quality    3.5\n",
        "Location         4.0\n",
        "Rooms            4.0\n",
        "Name: DoubleTree Club by Hilton Hotel Boston Bayside, dtype: float64\n"
       ]
      }
     ],
     "prompt_number": 13
    },
    {
     "cell_type": "heading",
     "level": 4,
     "metadata": {},
     "source": [
      "Now, compute `AVG_SCORE` for each hotel:"
     ]
    },
    {
     "cell_type": "code",
     "collapsed": false,
     "input": [
      "AVG_SCORES = []\n",
      "for hotel in hotel_info:\n",
      "    temp_list = []\n",
      "    total_ratings = 0\n",
      "    for score in hotel_info[hotel]['Travel Ratings']:\n",
      "        n_ratings = hotel_info[hotel]['Travel Ratings'][score] #get the number of ratings for the current score\n",
      "        n_ratings = float(n_ratings.replace(',','')) #convert n_ratings to float\n",
      "        temp_list.append(float(score)*n_ratings) #compute: (star rating) * (number of ratings for that star)\n",
      "        total_ratings += n_ratings #Keep track of the total number of ratings\n",
      "    AVG_SCORE = np.sum(temp_list)/total_ratings\n",
      "    AVG_SCORES.append(AVG_SCORE)"
     ],
     "language": "python",
     "metadata": {},
     "outputs": [],
     "prompt_number": 14
    },
    {
     "cell_type": "markdown",
     "metadata": {},
     "source": [
      "Let's plot the distribution of average scores so that we can visualize the data nicely"
     ]
    },
    {
     "cell_type": "code",
     "collapsed": false,
     "input": [
      "import matplotlib.pyplot as plt\n",
      "%matplotlib inline"
     ],
     "language": "python",
     "metadata": {},
     "outputs": [],
     "prompt_number": 15
    },
    {
     "cell_type": "code",
     "collapsed": false,
     "input": [
      "idx = np.argsort(AVG_SCORES)\n",
      "AVG_SCORES = np.asarray(AVG_SCORES)\n",
      "sorted_avg_scores = AVG_SCORES[idx]\n",
      "x_vals = np.arange(len(AVG_SCORES))+1\n",
      "\n",
      "LABELS = np.asarray(hotel_info.keys())\n",
      "LABELS = LABELS[idx]\n",
      "\n",
      "fig = plt.figure(figsize=(12, 4));\n",
      "ax = plt.subplot(111);\n",
      "ax.bar(x_vals,sorted_avg_scores,color='lightgreen');\n",
      "ax.set_ylabel('Average Score')\n",
      "ax.set_xlabel('Hotels')\n",
      "ax.set_title('Distribution of Average Scores')\n",
      "plt.tick_params(axis='x', which='both', bottom='off',labelbottom='off')\n",
      "\n",
      "print \"The hotel with the highest average score (%1.1f stars) is %s\" % (sorted_avg_scores[-1],LABELS[-1])\n",
      "print \"The hotel with the lowest average score (%1.1f stars) is %s :( :( :(\" % (sorted_avg_scores[0],LABELS[0])"
     ],
     "language": "python",
     "metadata": {},
     "outputs": [
      {
       "output_type": "stream",
       "stream": "stdout",
       "text": [
        "The hotel with the highest average score (4.7 stars) is Hotel Commonwealth\n",
        "The hotel with the lowest average score (2.7 stars) is Americas Best Value Inn :( :( :(\n"
       ]
      },
      {
       "metadata": {},
       "output_type": "display_data",
       "png": "[encoded data removed]",
       "text": [
        "<matplotlib.figure.Figure at 0x107fb3e90>"
       ]
      }
     ],
     "prompt_number": 16
    },
    {
     "cell_type": "markdown",
     "metadata": {},
     "source": [
      "Interestingly, with the exception of 2 hotels, the `Average Score` is 3 stars or more.\n",
      "\n",
      "Ironically, America's Best Balue Inn seems to give the worst value..."
     ]
    },
    {
     "cell_type": "code",
     "collapsed": false,
     "input": [
      "print hotel_info['Hotel Commonwealth']['Ratings']\n",
      "print hotel_info['Americas Best Value Inn']['Ratings']"
     ],
     "language": "python",
     "metadata": {},
     "outputs": [
      {
       "output_type": "stream",
       "stream": "stdout",
       "text": [
        "{'Service': u'5', 'Cleanliness': u'5', 'Value': u'4.5', 'Sleep Quality': u'5', 'Location': u'5', 'Rooms': u'5'}\n",
        "{'Service': u'2.5', 'Cleanliness': u'3', 'Value': u'3', 'Sleep Quality': u'2.5', 'Location': u'3', 'Rooms': u'2.5'}\n"
       ]
      }
     ],
     "prompt_number": 17
    },
    {
     "cell_type": "markdown",
     "metadata": {},
     "source": [
      "Based on what we see here, we might expect `Service`, `Sleep Quality`, and `Rooms` to be the most important factors that people consider when rating hotels. To see if that is the case, we'll have to perform a linear regression on the data..."
     ]
    },
    {
     "cell_type": "heading",
     "level": 3,
     "metadata": {},
     "source": [
      "Perform Linear Regression!"
     ]
    },
    {
     "cell_type": "markdown",
     "metadata": {},
     "source": [
      "Our first step is to convert the `hotel_ratings_df` to a numpy matrix so that we can input this data into the linear regression algorithm."
     ]
    },
    {
     "cell_type": "code",
     "collapsed": false,
     "input": [
      "import statsmodels.api as sm\n",
      "\n",
      "X = hotel_ratings_df.as_matrix()\n",
      "print X.T.shape\n",
      "\n",
      "y = np.asarray(AVG_SCORES)\n",
      "print y.shape"
     ],
     "language": "python",
     "metadata": {},
     "outputs": [
      {
       "output_type": "stream",
       "stream": "stdout",
       "text": [
        "(77, 6)\n",
        "(77,)\n"
       ]
      }
     ],
     "prompt_number": 18
    },
    {
     "cell_type": "markdown",
     "metadata": {},
     "source": [
      "Now that we're sure our data dimensions are correct, we can fit the linear model..."
     ]
    },
    {
     "cell_type": "code",
     "collapsed": false,
     "input": [
      "model = sm.OLS(y, X.T)\n",
      "results = model.fit()\n",
      "print results.summary()\n",
      "\n",
      "summary_categories = ['Location','Sleep Quality','Rooms','Service','Value','Cleanliness']"
     ],
     "language": "python",
     "metadata": {},
     "outputs": [
      {
       "output_type": "stream",
       "stream": "stdout",
       "text": [
        "                            OLS Regression Results                            \n",
        "==============================================================================\n",
        "Dep. Variable:                      y   R-squared:                       0.999\n",
        "Model:                            OLS   Adj. R-squared:                  0.999\n",
        "Method:                 Least Squares   F-statistic:                 1.974e+04\n",
        "Date:                Mon, 06 Apr 2015   Prob (F-statistic):          2.75e-112\n",
        "Time:                        23:30:22   Log-Likelihood:                 67.907\n",
        "No. Observations:                  77   AIC:                            -123.8\n",
        "Df Residuals:                      71   BIC:                            -109.8\n",
        "Df Model:                           6                                         \n",
        "==============================================================================\n",
        "                 coef    std err          t      P>|t|      [95.0% Conf. Int.]\n",
        "------------------------------------------------------------------------------\n",
        "x1             0.1546      0.066      2.352      0.021         0.024     0.286\n",
        "x2             0.2376      0.060      3.951      0.000         0.118     0.357\n",
        "x3             0.0401      0.046      0.875      0.385        -0.051     0.132\n",
        "x4             0.1543      0.050      3.068      0.003         0.054     0.255\n",
        "x5             0.0683      0.040      1.702      0.093        -0.012     0.148\n",
        "x6             0.3172      0.052      6.075      0.000         0.213     0.421\n",
        "==============================================================================\n",
        "Omnibus:                        4.565   Durbin-Watson:                   1.592\n",
        "Prob(Omnibus):                  0.102   Jarque-Bera (JB):                2.253\n",
        "Skew:                          -0.094   Prob(JB):                        0.324\n",
        "Kurtosis:                       2.184   Cond. No.                         65.4\n",
        "==============================================================================\n"
       ]
      }
     ],
     "prompt_number": 19
    },
    {
     "cell_type": "markdown",
     "metadata": {},
     "source": [
      "Let's plot the coefficients `x1` through `x6` for a better visualization of the results."
     ]
    },
    {
     "cell_type": "code",
     "collapsed": false,
     "input": [
      "coeffs = results.params\n",
      "error = results.bse\n",
      "summary_categories = ['Location','Sleep Quality','Rooms','Service','Value','Cleanliness'];\n",
      "\n",
      "fig = plt.figure(figsize=(7, 5));\n",
      "ax = plt.subplot(111);\n",
      "ax.bar([1,2,3,4,5,6],coeffs,yerr=error,color='lightgreen');\n",
      "ax.set_ylim((-0.2,0.45));\n",
      "ax.set_ylabel('Coefficient Value (Importance)')\n",
      "ax.set_title('Factors that Decide the Average Score')\n",
      "plt.xticks([1.5,2.5,3.5,4.5,5.5,6.5], summary_categories, rotation=45);"
     ],
     "language": "python",
     "metadata": {},
     "outputs": [
      {
       "metadata": {},
       "output_type": "display_data",
       "png": "[encoded data removed]",
       "text": [
        "<matplotlib.figure.Figure at 0x104d82e90>"
       ]
      }
     ],
     "prompt_number": 20
    },
    {
     "cell_type": "markdown",
     "metadata": {},
     "source": [
      "We can make some of observations based on the linear fit results shown in the plot above.\n",
      "    \n",
      "1. The single most important factor is `x2`, which corresponds to \"Sleep Quality\". We know this variable is the most important factor because its coefficient value is the largest.\n",
      "\n",
      "2. The single *least* important factor is `x1`, which corresponds to \"Location\". We know this variable is the least important because its coefficient value is the smallest.\n",
      "\n",
      "\n",
      "\n",
      "Thus, we can rank our variables in terms of their importance:\n",
      "\n",
      "1. `x6` = Cleanliness\n",
      "2. `x2` = Sleep Quality\n",
      "3. `x1` = Location\n",
      "4. `x4` = Service\n",
      "5. `x5` = Value\n",
      "6. `x3` = Rooms\n",
      "\n",
      "where 1 is the most important and 6 is the least important.\n",
      "\n",
      "Here, we can tell that the 2 most important features in determining the average score are `Cleanliness` and `Sleep Quality`.\n",
      "\n",
      "Also, we can tell our fit is a good fit based on the $R^2$ value: $R^2 = R^2_{adjusted} = 0.999$... As we know, the closer $R^2$ is to 1, the better our fit. Since $R^2 \\approx 1$, our fit is essentially perfect."
     ]
    },
    {
     "cell_type": "heading",
     "level": 3,
     "metadata": {},
     "source": [
      "Now let's predict the average rating for each hotel and assess how well our model works"
     ]
    },
    {
     "cell_type": "code",
     "collapsed": false,
     "input": [
      "from sklearn import cross_validation\n",
      "from sklearn.linear_model import LinearRegression"
     ],
     "language": "python",
     "metadata": {},
     "outputs": [],
     "prompt_number": 21
    },
    {
     "cell_type": "code",
     "collapsed": false,
     "input": [
      "#Perform cross-validation 5 different times.\n",
      "regr = LinearRegression()\n",
      "score = cross_validation.cross_val_score(regr, X.T, y, cv=5)\n",
      "print \"Cross-validation scores:\",score\n",
      "print \"Mean of all cross-validation scores: %0.4f\" % (np.mean(score))"
     ],
     "language": "python",
     "metadata": {},
     "outputs": [
      {
       "output_type": "stream",
       "stream": "stdout",
       "text": [
        "Cross-validation scores: [ 0.97721486  0.95219677  0.92737826  0.93216888  0.93260558]\n",
        "Mean of all cross-validation scores: 0.9443\n"
       ]
      }
     ],
     "prompt_number": 22
    },
    {
     "cell_type": "markdown",
     "metadata": {},
     "source": [
      "Overall, our linear regression model has an 94.43% accuracy rate (based on 5 cross-validation trials), which is very good.\n",
      "\n",
      "We expect to have a good accuracy rate because our $R^2$ value is essentially 1."
     ]
    },
    {
     "cell_type": "heading",
     "level": 2,
     "metadata": {},
     "source": [
      "Task 4"
     ]
    },
    {
     "cell_type": "markdown",
     "metadata": {},
     "source": [
      "We want to check if more than 60% of a hotel's ratings are *excellent*."
     ]
    },
    {
     "cell_type": "code",
     "collapsed": false,
     "input": [
      "is_excellent = [] #this array will tell us of a hotel is 'excellent' or not (1=excellent, 0= not excellent)\n",
      "for hotel in hotel_info:\n",
      "    n_5_star_ratings = 0\n",
      "    total_ratings = 0\n",
      "    for score in hotel_info[hotel]['Travel Ratings']:\n",
      "        \n",
      "        #We want to keep track of the # of 5-star ratings. Thus, if the current score we're looking at is 5 stars, we want\n",
      "        #to store the number of 5-star ratings\n",
      "        if (score == 5):\n",
      "            n_5_star_ratings = hotel_info[hotel]['Travel Ratings'][score] #grab number of 5 star ratings\n",
      "            n_5_star_ratings = float(n_5_star_ratings.replace(',','')) #convert to float\n",
      "            n_ratings = n_5_star_ratings\n",
      "        else:\n",
      "            n_ratings = hotel_info[hotel]['Travel Ratings'][score] #get the number of ratings for the current score\n",
      "            n_ratings = float(n_ratings.replace(',','')) #convert n_ratings to float\n",
      "\n",
      "        total_ratings += n_ratings #Keep track of the total number of ratings\n",
      "\n",
      "    p_5_star_ratings = n_5_star_ratings/total_ratings #percentage of 5 star ratings\n",
      "    \n",
      "    #If the percentage of 5 star ratings is greater than 60%, then we classify the hotel as excellent\n",
      "    if (p_5_star_ratings > 0.60):\n",
      "        is_excellent.extend([1])\n",
      "    else:\n",
      "        is_excellent.extend([0])"
     ],
     "language": "python",
     "metadata": {},
     "outputs": [],
     "prompt_number": 23
    },
    {
     "cell_type": "markdown",
     "metadata": {},
     "source": [
      "Based on the information we've gathered in the above cell, let's print out whether each hotel is \"excellent\" or not. As mentioned above, 1=excellent, 0=not excellent."
     ]
    },
    {
     "cell_type": "code",
     "collapsed": false,
     "input": [
      "count = 0\n",
      "for hotel in hotel_info:\n",
      "    print \"%s:  %d\" % (hotel, is_excellent[count])\n",
      "    count += 1"
     ],
     "language": "python",
     "metadata": {},
     "outputs": [
      {
       "output_type": "stream",
       "stream": "stdout",
       "text": [
        "Hotel Commonwealth:  1\n",
        "The Fairmont Copley Plaza, Boston:  0\n",
        "Colonnade Hotel:  1\n",
        "Revere Hotel Boston Common:  0\n",
        "Residence Inn by Marriott Boston Harbor on Tudor Wharf:  0\n",
        "Lenox Hotel:  1\n",
        "The Boston Common Hotel and Conference Center:  0\n",
        "Courtyard by Marriott Boston Logan Airport:  0\n",
        "DoubleTree Club by Hilton Hotel Boston Bayside:  0\n",
        "Hampton Inn & Suites Boston Crosstown Center:  0\n",
        "Onyx Hotel - a Kimpton Hotel:  0\n",
        "Ramada Boston:  0\n",
        "InterContinental Boston:  0\n",
        "Boston Park Plaza:  0\n",
        "enVision Hotel Boston:  1\n",
        "Chandler Inn:  0\n",
        "DoubleTree Suites by Hilton Boston-Cambridge:  0\n",
        "Boston Harbor Hotel:  1\n",
        "Marriott's Custom House:  1\n",
        "The Inn At St Botolph:  1\n",
        "Battery Wharf Hotel, Boston Waterfront:  1\n",
        "Club Quarters in Boston:  0\n",
        "Sheraton Boston Hotel:  0\n",
        "Hilton Boston Downtown / Faneuil Hall:  0\n",
        "XV Beacon:  1\n",
        "Hilton Boston Back Bay:  0\n",
        "Days Hotel Boston:  0\n",
        "Hyatt Regency Boston:  0\n",
        "Newbury Guest House:  0\n",
        "Hyatt Boston Harbor:  0\n",
        "The Langham, Boston:  0\n",
        "Loews Boston Hotel:  1\n",
        "Hotel 140:  0\n",
        "BEST WESTERN PLUS Roundhouse Suites:  0\n",
        "The Liberty Hotel:  0\n",
        "The Ritz-Carlton Boston Common:  0\n",
        "Milner Hotel:  0\n",
        "Copley Square Hotel:  0\n",
        "Nine Zero Hotel - a Kimpton Hotel:  1\n",
        "Boston Hotel Buckminster:  0\n",
        "Embassy Suites Boston Logan Airport:  0\n",
        "Wyndham Boston Beacon Hill:  0\n",
        "Holiday Inn Express Hotel & Suites Boston Garden:  0\n",
        "Ames Boston Hotel:  0\n",
        "Boston Marriott Copley Place:  0\n",
        "The Boxer Boston:  0\n",
        "The Inn at Longwood Medical:  0\n",
        "Hilton Boston Logan Airport:  0\n",
        "Eliot Hotel:  0\n",
        "Renaissance Boston Waterfront Hotel:  0\n",
        "Four Seasons Hotel Boston:  1\n",
        "Comfort Inn - Boston:  0\n",
        "Charlesmark Hotel:  0\n",
        "Mandarin Oriental, Boston:  1\n",
        "W Boston:  0\n",
        "The Westin Copley Place:  0\n",
        "The Midtown Hotel:  0\n",
        "Omni Parker House:  0\n",
        "The Verb Hotel:  1\n",
        "Holiday Inn Express Boston:  0\n",
        "Boston Marriott Long Wharf:  0\n",
        "Residence Inn Boston Back Bay / Fenway:  1\n",
        "Millennium Bostonian Hotel:  0\n",
        "Harborside Inn:  0\n",
        "Courtyard Boston-South Boston:  0\n",
        "Beacon Hill Hotel and Bistro:  0\n",
        "Constitution Inn:  0\n",
        "Residence Inn Boston Downtown Seaport:  1\n",
        "The Westin Boston Waterfront:  0\n",
        "Courtyard by Marriott Boston Copley Square:  1\n",
        "Taj Boston:  0\n",
        "Americas Best Value Inn:  0\n",
        "Copley House:  0\n",
        "Seaport Boston Hotel:  1\n",
        "BEST WESTERN University Hotel Boston-Brighton:  0\n",
        "Courtyard Boston Downtown:  0\n",
        "DoubleTree by Hilton Hotel Boston - Downtown:  0\n"
       ]
      }
     ],
     "prompt_number": 24
    },
    {
     "cell_type": "heading",
     "level": 3,
     "metadata": {},
     "source": [
      "Now let's apply logistic regression using our `is_excellent` array"
     ]
    },
    {
     "cell_type": "code",
     "collapsed": false,
     "input": [
      "logit = sm.Logit(is_excellent,X.T)\n",
      "result = logit.fit()\n",
      "print result.summary()"
     ],
     "language": "python",
     "metadata": {},
     "outputs": [
      {
       "output_type": "stream",
       "stream": "stdout",
       "text": [
        "Optimization terminated successfully.\n",
        "         Current function value: 0.495226\n",
        "         Iterations 6\n",
        "                           Logit Regression Results                           \n",
        "==============================================================================\n",
        "Dep. Variable:                      y   No. Observations:                   77\n",
        "Model:                          Logit   Df Residuals:                       71\n",
        "Method:                           MLE   Df Model:                            5\n",
        "Date:                Mon, 06 Apr 2015   Pseudo R-squ.:                 0.08930\n",
        "Time:                        23:30:25   Log-Likelihood:                -38.132\n",
        "converged:                       True   LL-Null:                       -41.872\n",
        "                                        LLR p-value:                    0.1874\n",
        "==============================================================================\n",
        "                 coef    std err          z      P>|z|      [95.0% Conf. Int.]\n",
        "------------------------------------------------------------------------------\n",
        "x1            -0.5678      1.730     -0.328      0.743        -3.959     2.823\n",
        "x2            -0.5967      1.438     -0.415      0.678        -3.415     2.222\n",
        "x3            -0.3273      1.148     -0.285      0.776        -2.577     1.923\n",
        "x4             1.8517      1.240      1.494      0.135        -0.578     4.281\n",
        "x5            -2.3267      1.106     -2.105      0.035        -4.493    -0.160\n",
        "x6             1.9425      1.300      1.495      0.135        -0.605     4.490\n",
        "==============================================================================\n"
       ]
      }
     ],
     "prompt_number": 25
    },
    {
     "cell_type": "markdown",
     "metadata": {},
     "source": [
      "Once again, let's visualize the coefficients:"
     ]
    },
    {
     "cell_type": "code",
     "collapsed": false,
     "input": [
      "coeffs = result.params\n",
      "error = result.bse\n",
      "summary_categories = ['Location','Sleep Quality','Rooms','Service','Value','Cleanliness'];\n",
      "\n",
      "fig = plt.figure(figsize=(7, 5));\n",
      "ax = plt.subplot(111);\n",
      "ax.bar([1,2,3,4,5,6],coeffs,yerr=error,color='lightgreen');\n",
      "ax.set_ylim((-4,4.5));\n",
      "ax.set_ylabel('Coefficient Value (Importance)')\n",
      "ax.set_title('Factors that Decide Whether a Hotel is \"Excellent\" or Not')\n",
      "plt.xticks([1.5,2.5,3.5,4.5,5.5,6.5], summary_categories, rotation=45);"
     ],
     "language": "python",
     "metadata": {},
     "outputs": [
      {
       "metadata": {},
       "output_type": "display_data",
       "png": "[encoded data removed]",
       "text": [
        "<matplotlib.figure.Figure at 0x1098ba890>"
       ]
      }
     ],
     "prompt_number": 26
    },
    {
     "cell_type": "markdown",
     "metadata": {},
     "source": [
      "As with our linear regression model, we can see the importance of each variable based on the coefficients `x1` through `x6`. Here is how the variables rank:\n",
      "\n",
      "1. `x6` = Cleanliness\n",
      "2. `x4` = Service\n",
      "3. `x3` = Rooms\n",
      "4. `x1` = Location\n",
      "5. `x2` = Sleep Quality\n",
      "6. `x5` = Value\n",
      "\n",
      "\n",
      "This ranking tells us the following: In general, people who rank a hotel as \"excellent\" tend to weigh `Cleanliness` and `Service` above the other attributes (`Location`, `Sleep Quality`, `Rooms`, and `Value`).\n",
      "\n",
      "From our graph, we notice that the coefficients for `Service` and `Cleanliness` are significantly larger than the other coefficients, which suggests that both `Service` and `Cleanliness` are the dominating factors (i.e., they are the main factors that determines whether a hotel is \"excellent\" or not)."
     ]
    },
    {
     "cell_type": "heading",
     "level": 4,
     "metadata": {},
     "source": [
      "Finally, let's perform cross-validation on the logistic regression:"
     ]
    },
    {
     "cell_type": "code",
     "collapsed": false,
     "input": [
      "from sklearn.linear_model import LogisticRegression"
     ],
     "language": "python",
     "metadata": {},
     "outputs": [],
     "prompt_number": 27
    },
    {
     "cell_type": "code",
     "collapsed": false,
     "input": [
      "#Perform cross-validation 5 different times.\n",
      "log_reg = LogisticRegression()\n",
      "score = cross_validation.cross_val_score(log_reg, X.T, is_excellent, cv=5)\n",
      "print \"Cross-validation scores:\",score\n",
      "print \"Mean of all cross-validation scores: %0.4f\" % (np.mean(score))"
     ],
     "language": "python",
     "metadata": {},
     "outputs": [
      {
       "output_type": "stream",
       "stream": "stdout",
       "text": [
        "Cross-validation scores: [ 0.75        0.75        0.75        0.8         0.78571429]\n",
        "Mean of all cross-validation scores: 0.7671\n"
       ]
      }
     ],
     "prompt_number": 28
    },
    {
     "cell_type": "markdown",
     "metadata": {},
     "source": [
      "Based on these results, we can see that our logistic regression model (on average) is 76.71% accurate."
     ]
    },
    {
     "cell_type": "code",
     "collapsed": false,
     "input": [
      "# Code for setting the style of the notebook\n",
      "from IPython.core.display import HTML\n",
      "def css_styling():\n",
      "    styles = open(\"../../theme/custom.css\", \"r\").read()\n",
      "    return HTML(styles)\n",
      "css_styling()"
     ],
     "language": "python",
     "metadata": {},
     "outputs": [
      {
       "html": [
        "<link href='http://fonts.googleapis.com/css?family=EB+Garamond' rel='stylesheet' type='text/css'>\n",
        "<link href='http://fonts.googleapis.com/css?family=Alegreya+Sans:100,300,400,500,700,800,900,100italic,300italic,400italic,500italic,700italic,800italic,900italic' rel='stylesheet' type='text/css'>\n",
        "<link href='http://fonts.googleapis.com/css?family=Source+Code+Pro:300,400' rel='stylesheet' type='text/css'>\n",
        "<style>\n",
        "    @font-face {\n",
        "        font-family: \"Computer Modern\";\n",
        "        src: url('http://mirrors.ctan.org/fonts/cm-unicode/fonts/otf/cmunss.otf');\n",
        "    }\n",
        "    .code_cell {\n",
        "        width: 105ex !important ;\n",
        "        margin-bottom: 15px !important;\n",
        "    }\n",
        "    div.cell {\n",
        "        margin-left: auto;\n",
        "        margin-right: auto;\n",
        "        width: 70%;\n",
        "    }    \n",
        "    div.cell.selected {\n",
        "        border: thin rgba(171, 171, 171, 0.5) dashed;\n",
        "    }\n",
        "    h1 {\n",
        "        font-family: 'Alegreya Sans', sans-serif;\n",
        "    }\n",
        "    h2 {\n",
        "        font-family: 'EB Garamond', serif;\n",
        "    }\n",
        "    h3 {\n",
        "        font-family: 'EB Garamond', serif;\n",
        "        margin-top:12px;\n",
        "        margin-bottom: 3px;\n",
        "    }\n",
        "    h4 {\n",
        "        font-family: 'EB Garamond', serif;\n",
        "    }\n",
        "    h5 {\n",
        "        font-family: 'Alegreya Sans', sans-serif;\n",
        "    }\n",
        "    div.text_cell_render {\n",
        "        font-family: 'EB Garamond',Computer Modern, \"Helvetica Neue\", Arial, Helvetica, Geneva, sans-serif;\n",
        "        line-height: 145%;\n",
        "        font-size: 140%;\n",
        "    }\n",
        "    div.input_area {\n",
        "        border-color: rgba(0,0,0,0.10) !important;\n",
        "        background: #fafafa;\n",
        "    }\n",
        "    .CodeMirror {\n",
        "            font-family: \"Source Code Pro\";\n",
        "            font-size: 90%;\n",
        "    }\n",
        "    .prompt {\n",
        "        display: None;\n",
        "    }\n",
        "    .output {\n",
        "        padding-left: 50px;\n",
        "        padding-top: 5px;\n",
        "    }\n",
        "    .output_wrapper {\n",
        "        padding-left: 5px;\n",
        "        padding-top: inherit;\n",
        "    }\n",
        "    div.output_scroll {\n",
        "        width: inherit;\n",
        "    }\n",
        "    .inner_cell {\n",
        "        padding-left: 5px;\n",
        "    }\n",
        "    .text_cell_render h1 {\n",
        "        font-weight: 200;\n",
        "        font-size: 50pt;\n",
        "        line-height: 100%;\n",
        "        color:#CD2305;\n",
        "        margin-bottom: 0.5em;\n",
        "        margin-top: 0.5em;\n",
        "        display: block;\n",
        "    }\n",
        "    .text_cell_render h5 {\n",
        "        font-weight: 300;\n",
        "        font-size: 16pt;\n",
        "        color: #CD2305;\n",
        "        font-style: italic;\n",
        "        margin-bottom: .5em;\n",
        "        margin-top: 0.5em;\n",
        "        display: block;\n",
        "    }\n",
        "    .warning {\n",
        "        color: rgb( 240, 20, 20 )\n",
        "        }  \n",
        "</style>\n",
        "<script>\n",
        "    MathJax.Hub.Config({\n",
        "                        TeX: {\n",
        "                           extensions: [\"AMSmath.js\"]\n",
        "                           },\n",
        "                tex2jax: {\n",
        "                    inlineMath: [ ['$','$'], [\"\\\\(\",\"\\\\)\"] ],\n",
        "                    displayMath: [ ['$$','$$'], [\"\\\\[\",\"\\\\]\"] ]\n",
        "                },\n",
        "                displayAlign: 'center', // Change this to 'center' to center equations.\n",
        "                \"HTML-CSS\": {\n",
        "                    styles: {'.MathJax_Display': {\"margin\": 4}}\n",
        "                }\n",
        "        });\n",
        "</script>"
       ],
       "metadata": {},
       "output_type": "pyout",
       "prompt_number": 30,
       "text": [
        "<IPython.core.display.HTML at 0x108669e10>"
       ]
      }
     ],
     "prompt_number": 30
    },
    {
     "cell_type": "code",
     "collapsed": false,
     "input": [],
     "language": "python",
     "metadata": {},
     "outputs": []
    }
   ],
   "metadata": {}
  }
 ]
}